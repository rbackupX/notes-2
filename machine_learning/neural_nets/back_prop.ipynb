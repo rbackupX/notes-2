{
 "cells": [
  {
   "cell_type": "raw",
   "metadata": {},
   "source": [
    "---\n",
    "title: \"Back Propagation\"\n",
    "date: 2018-08-10\n",
    "type: technical_note\n",
    "---"
   ]
  },
  {
   "cell_type": "markdown",
   "metadata": {},
   "source": [
    "Back Propagation is essentially a \\$2 way of saying \"make an incremental change to your weights and biases, relative to our error.\" Like Gradient Descent, the main goal is doing a bunch of Chain Rule magic™ to find all of our partial derivatives. Then we calculate our error by taking a simple (actual - expected) and marching backwards through the Net using some small learning rate, and adjustments to each of the matricies."
   ]
  },
  {
   "cell_type": "markdown",
   "metadata": {},
   "source": [
    "### vs Logistic Regression Gradient Descent"
   ]
  },
  {
   "cell_type": "markdown",
   "metadata": {},
   "source": [
    "Recall our vectorized implementation for Gradient Descent with Logistic Regressions"
   ]
  },
  {
   "cell_type": "markdown",
   "metadata": {},
   "source": [
    "``` python\n",
    "# predict\n",
    "Z = np.dot(w.T, X) + b\n",
    "A = sigma(Z)\n",
    "\n",
    "# gradient descent\n",
    "dZ = A - Y\n",
    "\n",
    "dw = (1/m) * np.dot(X, dZ.T)\n",
    "db = (1/m) * np.sum(dZ)\n",
    "\n",
    "# update\n",
    "w = w - alpha * dw\n",
    "b = b - alpha * db\n",
    "```"
   ]
  },
  {
   "cell_type": "markdown",
   "metadata": {},
   "source": [
    "The implementation for Back Propagation is very, very similar. The update step is basically the same, and the predict step is replaced by Forward Prop.\n",
    "\n",
    "The biggest difference lies in the gradient descent section, and even that should look pretty familiar."
   ]
  },
  {
   "cell_type": "markdown",
   "metadata": {},
   "source": [
    "``` python\n",
    "dZ2 = A2 - Y                                      \n",
    "dW2 = (1/m) * np.dot(dZ2, A1.T)                   \n",
    "db2 = (1/m) * np.sum(dZ2, axis=1, keepdims=True)\n",
    "\n",
    "dZ1 = np.multiply(np.dot(W2.T, dZ2), activation_fn_deriv(Z1))\n",
    "dW1 = (1/m) * np.dot(dZ1, X.T)\n",
    "db1 = (1/m) * np.sum(dZ1 * axis=1, keepdims=True)\n",
    "```"
   ]
  },
  {
   "cell_type": "markdown",
   "metadata": {},
   "source": [
    "Note, however, the second chunk of calculations, and how they depend on the output of the section above-- calculating backwards through the Net."
   ]
  },
  {
   "cell_type": "markdown",
   "metadata": {},
   "source": [
    "### Why Can't I Hold All of These Derivatives?"
   ]
  },
  {
   "cell_type": "markdown",
   "metadata": {},
   "source": [
    "The equation for `dZ1` might throw you for a loop, but it's easy when you consider the chain of calculations that get you to your Loss Function that use `Z1`. First, we start with our hypothesis function."
   ]
  },
  {
   "cell_type": "markdown",
   "metadata": {},
   "source": [
    "$Z^{[1]} = W^{[1]}X + b^{[1]}$"
   ]
  },
  {
   "cell_type": "markdown",
   "metadata": {},
   "source": [
    "which, of course, gets piped into our activation function to become `A1`"
   ]
  },
  {
   "cell_type": "markdown",
   "metadata": {},
   "source": [
    "$A^{[1]} = g(Z^{[1]})$"
   ]
  },
  {
   "cell_type": "markdown",
   "metadata": {},
   "source": [
    "The nesting becomes pretty cumbersome by the second layer `Z2`"
   ]
  },
  {
   "cell_type": "markdown",
   "metadata": {},
   "source": [
    "$Z^{[2]} = W^{[2]} g^{[2]}(A^{[1]}) + b^{[2]}$\n",
    "\n",
    "$Z^{[2]} = W^{[2]} g^{[2]}(g^{[1]}(Z^{[1]})) + b^{[2]}$"
   ]
  },
  {
   "cell_type": "markdown",
   "metadata": {},
   "source": [
    "And so if we're looking for the derivative of the overall Cost Function, with respect to `Z1`, we've got our work cut out for ourselves doing Chain Rule stuff (we've omitted `A2` and `cost` for simplicity)"
   ]
  },
  {
   "cell_type": "markdown",
   "metadata": {},
   "source": [
    "But looking at this you see that it just follows typical Chain Rule fashion-- We're multiplying the derivative of the function (the `np.dot()` portion) by the derivative of the inside. **Also note**, this is element-wise multiplication, not the dot product metween the two matricies."
   ]
  },
  {
   "cell_type": "markdown",
   "metadata": {},
   "source": [
    "`dW1` and `db1` are comparably-trivial calculations, and our update step looks like normal."
   ]
  }
 ],
 "metadata": {
  "kernelspec": {
   "display_name": "Python 3",
   "language": "python",
   "name": "python3"
  },
  "language_info": {
   "codemirror_mode": {
    "name": "ipython",
    "version": 3
   },
   "file_extension": ".py",
   "mimetype": "text/x-python",
   "name": "python",
   "nbconvert_exporter": "python",
   "pygments_lexer": "ipython3",
   "version": "3.6.5"
  }
 },
 "nbformat": 4,
 "nbformat_minor": 2
}

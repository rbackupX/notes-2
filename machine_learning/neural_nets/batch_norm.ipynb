{
 "cells": [
  {
   "cell_type": "raw",
   "metadata": {},
   "source": [
    "---\n",
    "title: \"Batch Normalization\"\n",
    "date: 2018-09-05\n",
    "type: technical_note\n",
    "---"
   ]
  },
  {
   "cell_type": "markdown",
   "metadata": {},
   "source": [
    "Recall the effect of normalization on the cost function back when we considered Logistic Regression.\n",
    "\n",
    "By recasting our data in terms of a fixed mean and standard deviation, it made our hypothetical cost function follow a rounder, evener distribution, thereby making our Gradient Descent approach much easier."
   ]
  },
  {
   "cell_type": "code",
   "execution_count": 1,
   "metadata": {},
   "outputs": [],
   "source": [
    "from IPython.display import Image\n",
    "Image('images/normalization.png')"
   ]
  },
  {
   "cell_type": "markdown",
   "metadata": {},
   "source": [
    "Batch Normalization essentially does the same thing, but for hidden layers of a Neural Network.\n",
    "\n",
    "But why do we to normalize in the hidden layer steps?"
   ]
  },
  {
   "cell_type": "markdown",
   "metadata": {},
   "source": [
    "### Intution"
   ]
  },
  {
   "cell_type": "markdown",
   "metadata": {},
   "source": [
    "Say we've got a simple, 4-layer network like the one below."
   ]
  },
  {
   "cell_type": "code",
   "execution_count": 2,
   "metadata": {},
   "outputs": [],
   "source": [
    "Image('images/batch_norm_1.png')"
   ]
  },
  {
   "cell_type": "markdown",
   "metadata": {},
   "source": [
    "Covering up earlier layers, it becomes immediately clear how we can extend all the benefits we see in Logistic Regression Normalization to this case."
   ]
  },
  {
   "cell_type": "code",
   "execution_count": 3,
   "metadata": {},
   "outputs": [],
   "source": [
    "Image('images/batch_norm_2.png')"
   ]
  },
  {
   "cell_type": "markdown",
   "metadata": {},
   "source": [
    "More practically put, **this makes later layers more robust to changes in earlier layers**. \n",
    "\n",
    "Andrew Ng provides a great example to demonstrate this:"
   ]
  },
  {
   "cell_type": "code",
   "execution_count": 4,
   "metadata": {},
   "outputs": [],
   "source": [
    "Image('images/cats.png')"
   ]
  },
  {
   "cell_type": "markdown",
   "metadata": {},
   "source": [
    "If your input data for a given batch only consists of black cats, your model will overlearn the importance of the \"is black\" feature and fall apart when the next batch includes cats of various colors."
   ]
  },
  {
   "cell_type": "markdown",
   "metadata": {},
   "source": [
    "### How to Implement"
   ]
  },
  {
   "cell_type": "markdown",
   "metadata": {},
   "source": [
    "Like Logistic Regression before, *batch* normalization involves recasting the numbers *within a batch* relative to a mean and standard deviation. Except here, the values are only relative to the batch themselves and follow the formulas:"
   ]
  },
  {
   "cell_type": "markdown",
   "metadata": {},
   "source": [
    "$normed\\_z^{(i)} = \\frac{z^{(i)} - \\mu}{\\sqrt{\\sigma^{2}+\\epsilon}}$"
   ]
  },
  {
   "cell_type": "markdown",
   "metadata": {},
   "source": [
    "A simple, vanilla normalization step"
   ]
  },
  {
   "cell_type": "markdown",
   "metadata": {},
   "source": [
    "$\\tilde{Z}^{(i)} = \\gamma * normed\\_z^{(i)} + \\beta$"
   ]
  },
  {
   "cell_type": "markdown",
   "metadata": {},
   "source": [
    "Multiplied by two new hyperparameters, `gamma` and `beta` (not to be confused with our Adam implementation). Like all others before, it also gets tuned via Gradient Descent."
   ]
  },
  {
   "cell_type": "markdown",
   "metadata": {},
   "source": [
    "Therefore, `z_tilde` is calculated at the layer and batch level, and gets applied *before* the activation function in a given hidden layer, allowing hidden units to see a more uniform distribution of values and train more effectively."
   ]
  },
  {
   "cell_type": "markdown",
   "metadata": {},
   "source": [
    "#### At Run Time"
   ]
  },
  {
   "cell_type": "markdown",
   "metadata": {},
   "source": [
    "After training, we likely won't be running our model in batches, thus the notion of \"normalize the intermediate layers relative to the batch\" doesn't really make sense.\n",
    "\n",
    "Instead, it's recommended that we apply an [Exponentially Weighted Moving Average](https://napsterinblue.github.io/notes/stats/techniques/ewma/), similar to our approach with Adam optimization."
   ]
  }
 ],
 "metadata": {
  "kernelspec": {
   "display_name": "Python 3",
   "language": "python",
   "name": "python3"
  },
  "language_info": {
   "codemirror_mode": {
    "name": "ipython",
    "version": 3
   },
   "file_extension": ".py",
   "mimetype": "text/x-python",
   "name": "python",
   "nbconvert_exporter": "python",
   "pygments_lexer": "ipython3",
   "version": "3.6.5"
  }
 },
 "nbformat": 4,
 "nbformat_minor": 2
}

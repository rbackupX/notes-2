{
 "cells": [
  {
   "cell_type": "raw",
   "metadata": {},
   "source": [
    "---\n",
    "title: \"Generating Classification Datasets\"\n",
    "date: 2018-09-14\n",
    "type: technical_note\n",
    "---"
   ]
  },
  {
   "cell_type": "markdown",
   "metadata": {},
   "source": [
    "When you're tired of running through the Iris or Breast Cancer datasets for the umpteenth time, `sklearn` has a neat utility that lets you generate classification datasets.\n",
    "\n",
    "Its use is pretty simple. A call to the function yields a attributes and a target column of the same length"
   ]
  },
  {
   "cell_type": "code",
   "execution_count": 1,
   "metadata": {},
   "outputs": [
    {
     "name": "stdout",
     "output_type": "stream",
     "text": [
      "(100, 20) (100,)\n"
     ]
    }
   ],
   "source": [
    "import numpy as np\n",
    "from sklearn.datasets import make_classification\n",
    "\n",
    "X, y = make_classification()\n",
    "print(X.shape, y.shape)"
   ]
  },
  {
   "cell_type": "markdown",
   "metadata": {},
   "source": [
    "### Customizing"
   ]
  },
  {
   "cell_type": "markdown",
   "metadata": {},
   "source": [
    "Additionally, the function takes a bunch of parameters that allow you to modify your dataset including:"
   ]
  },
  {
   "cell_type": "markdown",
   "metadata": {},
   "source": [
    "Number of samples and size of feature space"
   ]
  },
  {
   "cell_type": "code",
   "execution_count": 2,
   "metadata": {},
   "outputs": [
    {
     "name": "stdout",
     "output_type": "stream",
     "text": [
      "(1000, 10) (1000,)\n"
     ]
    }
   ],
   "source": [
    "X, y = make_classification(n_samples=1000, n_features=10)\n",
    "print(X.shape, y.shape)"
   ]
  },
  {
   "cell_type": "markdown",
   "metadata": {},
   "source": [
    "Number of linear combination/repeated features to trip up your models, or how many informative variables there are"
   ]
  },
  {
   "cell_type": "code",
   "execution_count": 3,
   "metadata": {
    "collapsed": true
   },
   "outputs": [],
   "source": [
    "X, y = make_classification(n_redundant=4, n_repeated=5, n_informative=10)"
   ]
  },
  {
   "cell_type": "markdown",
   "metadata": {},
   "source": [
    "Number of classes you aim to predict (Note, the generation algorithm needs a balance between informative attributes and classes)"
   ]
  },
  {
   "cell_type": "code",
   "execution_count": 4,
   "metadata": {},
   "outputs": [
    {
     "name": "stdout",
     "output_type": "stream",
     "text": [
      "[0 1 2]\n"
     ]
    }
   ],
   "source": [
    "X, y = make_classification(n_informative=4, n_classes=3)\n",
    "print(np.unique(y))"
   ]
  },
  {
   "cell_type": "markdown",
   "metadata": {},
   "source": [
    "And other, more technical elements"
   ]
  },
  {
   "cell_type": "markdown",
   "metadata": {},
   "source": [
    "## Sparse Datasets"
   ]
  },
  {
   "cell_type": "markdown",
   "metadata": {},
   "source": [
    "One thing this functionality fails to do is generate *sparse* datasets. It's not unreasonable to want to practice training algorithms on datasets with a huge class imbalance, `make_classification()` generally provides an even-ish split."
   ]
  },
  {
   "cell_type": "code",
   "execution_count": 5,
   "metadata": {},
   "outputs": [
    {
     "name": "stdout",
     "output_type": "stream",
     "text": [
      "5007\n",
      "4997\n",
      "5013\n",
      "5015\n",
      "5019\n"
     ]
    }
   ],
   "source": [
    "for _ in range(5):\n",
    "    X, y = make_classification(10000)\n",
    "    print(sum(y == 1))"
   ]
  },
  {
   "cell_type": "markdown",
   "metadata": {},
   "source": [
    "To get around this, we're going to do a bit of `pandas` magic™.\n",
    "\n",
    "First, we'll make a ton of data"
   ]
  },
  {
   "cell_type": "code",
   "execution_count": 6,
   "metadata": {
    "collapsed": true
   },
   "outputs": [],
   "source": [
    "import numpy as np\n",
    "import pandas as pd\n",
    "\n",
    "X, y = make_classification(10000)"
   ]
  },
  {
   "cell_type": "markdown",
   "metadata": {},
   "source": [
    "Which is, as expected, about 50/50 `1` and `0`"
   ]
  },
  {
   "cell_type": "code",
   "execution_count": 7,
   "metadata": {},
   "outputs": [
    {
     "name": "stdout",
     "output_type": "stream",
     "text": [
      "5012\n"
     ]
    }
   ],
   "source": [
    "print(sum(y == 1))"
   ]
  },
  {
   "cell_type": "markdown",
   "metadata": {},
   "source": [
    "If we stuff this into a `DataFrame`"
   ]
  },
  {
   "cell_type": "code",
   "execution_count": 8,
   "metadata": {},
   "outputs": [
    {
     "data": {
      "text/plain": [
       "(10000, 21)"
      ]
     },
     "execution_count": 8,
     "metadata": {},
     "output_type": "execute_result"
    }
   ],
   "source": [
    "df = pd.DataFrame(np.c_[X, y])\n",
    "df.shape"
   ]
  },
  {
   "cell_type": "markdown",
   "metadata": {},
   "source": [
    "We can write some tricksy logic to find all of the `1` rows"
   ]
  },
  {
   "cell_type": "code",
   "execution_count": 9,
   "metadata": {},
   "outputs": [
    {
     "name": "stdout",
     "output_type": "stream",
     "text": [
      "5012\n"
     ]
    }
   ],
   "source": [
    "true_rows = df[df[df.columns[-1]] == 1].index\n",
    "print(len(true_rows))"
   ]
  },
  {
   "cell_type": "markdown",
   "metadata": {},
   "source": [
    "Randomly pick a selection of them"
   ]
  },
  {
   "cell_type": "code",
   "execution_count": 10,
   "metadata": {
    "scrolled": true
   },
   "outputs": [
    {
     "data": {
      "text/plain": [
       "array([  28, 2844, 4029,  876, 8481, 6550, 4976, 2347, 8514, 1986, 8691,\n",
       "       1763, 3272, 5270, 2864, 1217, 8935, 4135,  561, 2259, 3420,  804,\n",
       "       8671, 8038,  706, 1568, 8309, 3756,  877, 8653, 4461, 3986, 6061,\n",
       "       5831, 7167, 2214, 1415, 3260, 6016, 4288, 1924, 6576, 1546, 3267,\n",
       "       8999, 5531, 1152, 3800, 1523, 6493, 3390, 2965, 6186,   14, 7335,\n",
       "       7867, 5706, 8033, 1247, 7669, 8100, 8146, 2375, 3351, 9907, 5604,\n",
       "       4679, 3794, 3429, 1020, 6384, 8380, 3250, 6055, 2558, 3388, 4299,\n",
       "        929, 8720, 8145, 5570, 4274, 7250, 7692, 7795, 6964, 3834, 3589,\n",
       "       6312, 8418, 6370,  720, 1098, 4666, 3041, 8691, 8004, 3197, 1001,\n",
       "       1420], dtype=int64)"
      ]
     },
     "execution_count": 10,
     "metadata": {},
     "output_type": "execute_result"
    }
   ],
   "source": [
    "survivors = np.random.choice(true_rows, 100)\n",
    "survivors"
   ]
  },
  {
   "cell_type": "markdown",
   "metadata": {},
   "source": [
    "And cull the rest"
   ]
  },
  {
   "cell_type": "code",
   "execution_count": 11,
   "metadata": {},
   "outputs": [],
   "source": [
    "chopping_block = set(true_rows) - set(survivors)\n",
    "df = df.drop(chopping_block)"
   ]
  },
  {
   "cell_type": "markdown",
   "metadata": {},
   "source": [
    "Giving us a much smaller `DataFrame`"
   ]
  },
  {
   "cell_type": "code",
   "execution_count": 12,
   "metadata": {},
   "outputs": [
    {
     "data": {
      "text/plain": [
       "(5087, 21)"
      ]
     },
     "execution_count": 12,
     "metadata": {},
     "output_type": "execute_result"
    }
   ],
   "source": [
    "df.shape"
   ]
  },
  {
   "cell_type": "markdown",
   "metadata": {},
   "source": [
    "With an artifically down-sampled target column"
   ]
  },
  {
   "cell_type": "code",
   "execution_count": 13,
   "metadata": {},
   "outputs": [
    {
     "data": {
      "text/plain": [
       "0.0    4988\n",
       "1.0      99\n",
       "Name: 20, dtype: int64"
      ]
     },
     "execution_count": 13,
     "metadata": {},
     "output_type": "execute_result"
    }
   ],
   "source": [
    "df[df.columns[-1]].value_counts()"
   ]
  },
  {
   "cell_type": "markdown",
   "metadata": {},
   "source": [
    "That we'll stuff back into our original `X`, `y` values"
   ]
  },
  {
   "cell_type": "code",
   "execution_count": 14,
   "metadata": {},
   "outputs": [
    {
     "name": "stdout",
     "output_type": "stream",
     "text": [
      "(5087, 20) (5087,)\n"
     ]
    }
   ],
   "source": [
    "X = df[df.columns[:-1]].values\n",
    "y = df[df.columns[-1]].values\n",
    "\n",
    "print(X.shape, y.shape)"
   ]
  },
  {
   "cell_type": "markdown",
   "metadata": {},
   "source": [
    "### As a Function"
   ]
  },
  {
   "cell_type": "code",
   "execution_count": 15,
   "metadata": {},
   "outputs": [],
   "source": [
    "def downsample_class(X, y, classToDownsample=1, downsampleToPct=.1):\n",
    "    df = pd.DataFrame(np.c_[X, y])\n",
    "    \n",
    "    true_rows = df[df[df.columns[-1]] == classToDownsample].index\n",
    "    num_desired_true = int(downsampleToPct * len(true_rows))\n",
    "    \n",
    "    survivors = np.random.choice(true_rows, num_desired_true)\n",
    "    chopping_block = set(true_rows) - set(survivors)\n",
    "    df = df.drop(chopping_block)\n",
    "    \n",
    "    X = df[df.columns[:-1]].values\n",
    "    y = df[df.columns[-1]].values\n",
    "\n",
    "    assert(len(X) == len(y))\n",
    "    return X, y"
   ]
  },
  {
   "cell_type": "code",
   "execution_count": 16,
   "metadata": {},
   "outputs": [],
   "source": [
    "X, y = make_classification(100000)\n",
    "X, y = downsample_class(X, y)"
   ]
  },
  {
   "cell_type": "code",
   "execution_count": 17,
   "metadata": {},
   "outputs": [
    {
     "data": {
      "text/plain": [
       "54765"
      ]
     },
     "execution_count": 17,
     "metadata": {},
     "output_type": "execute_result"
    }
   ],
   "source": [
    "len(X)"
   ]
  }
 ],
 "metadata": {
  "kernelspec": {
   "display_name": "Python 3",
   "language": "python",
   "name": "python3"
  },
  "language_info": {
   "codemirror_mode": {
    "name": "ipython",
    "version": 3
   },
   "file_extension": ".py",
   "mimetype": "text/x-python",
   "name": "python",
   "nbconvert_exporter": "python",
   "pygments_lexer": "ipython3",
   "version": "3.6.3"
  }
 },
 "nbformat": 4,
 "nbformat_minor": 2
}

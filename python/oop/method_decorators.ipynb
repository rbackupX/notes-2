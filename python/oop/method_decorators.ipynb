{
 "cells": [
  {
   "cell_type": "raw",
   "metadata": {},
   "source": [
    "---\n",
    "title: \"Method Decorators\"\n",
    "date: 2018-05-23\n",
    "type: technical_note\n",
    "draft: false\n",
    "---"
   ]
  },
  {
   "cell_type": "markdown",
   "metadata": {},
   "source": [
    "There are various decorators that are useful when working with OOP. The three I want to highlight are\n",
    "\n",
    "- `@property`\n",
    "- `@classmethod`\n",
    "- `@staticmethod`"
   ]
  },
  {
   "cell_type": "markdown",
   "metadata": {},
   "source": [
    "## @property"
   ]
  },
  {
   "cell_type": "markdown",
   "metadata": {},
   "source": [
    "While many other languages have getter and setter methods, Python does away with this by adopting a \"responsibility lies with the user\" approach and has all of its class/object nuts and bolts more or less accessible.\n",
    "\n",
    "This provides a tough challenge when designing the class attributes, especially when you have multiple data fields that depend on a single object. `DateTime` variables are a good example of this."
   ]
  },
  {
   "cell_type": "code",
   "execution_count": 1,
   "metadata": {
    "collapsed": true
   },
   "outputs": [],
   "source": [
    "class DateTime(object):\n",
    "    ''' Takes in a yyyy-mm-dd string and gives datetime functionality'''\n",
    "    def __init__(self, datetimeStr):\n",
    "        self.datetimeStr = datetimeStr"
   ]
  },
  {
   "cell_type": "markdown",
   "metadata": {},
   "source": [
    "Which saves the data to memory as a `str`"
   ]
  },
  {
   "cell_type": "code",
   "execution_count": 2,
   "metadata": {},
   "outputs": [
    {
     "data": {
      "text/plain": [
       "<__main__.DateTime at 0x5904128>"
      ]
     },
     "execution_count": 2,
     "metadata": {},
     "output_type": "execute_result"
    }
   ],
   "source": [
    "dt = DateTime('2018-01-01')\n",
    "dt"
   ]
  },
  {
   "cell_type": "markdown",
   "metadata": {},
   "source": [
    "We can naively use this `str` to get at all kinds of things"
   ]
  },
  {
   "cell_type": "code",
   "execution_count": 3,
   "metadata": {},
   "outputs": [
    {
     "name": "stdout",
     "output_type": "stream",
     "text": [
      "month 01\n",
      "day 01\n",
      "year 2018\n"
     ]
    }
   ],
   "source": [
    "print('month', dt.datetimeStr[5:7])\n",
    "print('day', dt.datetimeStr[8:11])\n",
    "print('year', dt.datetimeStr[:4])"
   ]
  },
  {
   "cell_type": "markdown",
   "metadata": {},
   "source": [
    "arbitrarily stringing them together to get something like"
   ]
  },
  {
   "cell_type": "code",
   "execution_count": 4,
   "metadata": {},
   "outputs": [
    {
     "name": "stdout",
     "output_type": "stream",
     "text": [
      "slash-format 01/01/2018\n"
     ]
    }
   ],
   "source": [
    "print('slash-format', dt.datetimeStr[5:7] + '/' +\n",
    "      dt.datetimeStr[8:11] + '/' + dt.datetimeStr[:4])"
   ]
  },
  {
   "cell_type": "markdown",
   "metadata": {},
   "source": [
    "Which is cumbersome to type every time, so you might re-write `__init__()` to take care of this."
   ]
  },
  {
   "cell_type": "code",
   "execution_count": 5,
   "metadata": {
    "collapsed": true
   },
   "outputs": [],
   "source": [
    "class DateTime2(object):\n",
    "    ''' Takes in a yyyy-mm-dd string and gives datetime functionality'''\n",
    "    def __init__(self, datetimeStr):\n",
    "        self.datetimeStr = datetimeStr\n",
    "        \n",
    "        # derived attributes\n",
    "        self.month = self.datetimeStr[5:7]\n",
    "        self.day = self.datetimeStr[8:11]\n",
    "        self.year = self.datetimeStr[:4]\n",
    "        \n",
    "        self.slashFormat = self.month + '/' + self.day + '/' + self.year"
   ]
  },
  {
   "cell_type": "code",
   "execution_count": 6,
   "metadata": {},
   "outputs": [
    {
     "data": {
      "text/plain": [
       "'01/01/2018'"
      ]
     },
     "execution_count": 6,
     "metadata": {},
     "output_type": "execute_result"
    }
   ],
   "source": [
    "dt = DateTime2('2018-01-01')\n",
    "dt.slashFormat"
   ]
  },
  {
   "cell_type": "markdown",
   "metadata": {},
   "source": [
    "But this clutters up your `__init__` implementation. Furthermore, users won't always need these attributes, so building them all at the time of initialization might not be your best option. So you might be inclined to put them into class methods"
   ]
  },
  {
   "cell_type": "code",
   "execution_count": 7,
   "metadata": {
    "collapsed": true
   },
   "outputs": [],
   "source": [
    "class DateTime3(object):\n",
    "    ''' Takes in a yyyy-mm-dd string and gives datetime functionality'''\n",
    "    def __init__(self, datetimeStr):\n",
    "        self.datetimeStr = datetimeStr\n",
    "        \n",
    "    def month(self):\n",
    "        return self.datetimeStr[5:7]\n",
    "        \n",
    "    def day(self):\n",
    "        return self.datetimeStr[8:11]\n",
    "        \n",
    "    def year(self):\n",
    "        return self.datetimeStr[:4]\n",
    "        \n",
    "    def slashFormat(self):\n",
    "        return self.month() + '/' + self.day() + '/' + self.year()"
   ]
  },
  {
   "cell_type": "code",
   "execution_count": 8,
   "metadata": {},
   "outputs": [
    {
     "data": {
      "text/plain": [
       "'01/01/2018'"
      ]
     },
     "execution_count": 8,
     "metadata": {},
     "output_type": "execute_result"
    }
   ],
   "source": [
    "dt = DateTime3('2018-01-01')\n",
    "dt.slashFormat()"
   ]
  },
  {
   "cell_type": "markdown",
   "metadata": {},
   "source": [
    "But this is really more of an attribute than a function call. And `@property` lets you call it as such."
   ]
  },
  {
   "cell_type": "code",
   "execution_count": 9,
   "metadata": {
    "collapsed": true
   },
   "outputs": [],
   "source": [
    "class DateTime4(object):\n",
    "    ''' Takes in a yyyy-mm-dd string and gives datetime functionality'''\n",
    "    def __init__(self, datetimeStr):\n",
    "        self.datetimeStr = datetimeStr\n",
    "    \n",
    "    @property\n",
    "    def month(self):\n",
    "        return self.datetimeStr[5:7]\n",
    "    \n",
    "    @property\n",
    "    def day(self):\n",
    "        return self.datetimeStr[8:11]\n",
    "    \n",
    "    @property\n",
    "    def year(self):\n",
    "        return self.datetimeStr[:4]\n",
    "    \n",
    "    @property\n",
    "    def slashFormat(self):\n",
    "        return self.month + '/' + self.day + '/' + self.year"
   ]
  },
  {
   "cell_type": "code",
   "execution_count": 10,
   "metadata": {},
   "outputs": [
    {
     "data": {
      "text/plain": [
       "'01/01/2018'"
      ]
     },
     "execution_count": 10,
     "metadata": {},
     "output_type": "execute_result"
    }
   ],
   "source": [
    "dt = DateTime4('2018-01-01')\n",
    "dt.slashFormat"
   ]
  },
  {
   "cell_type": "markdown",
   "metadata": {},
   "source": [
    "## `@classmethod`"
   ]
  },
  {
   "cell_type": "markdown",
   "metadata": {},
   "source": [
    "Class methods act directly on the underlying `class`, not their instances. But this is a little tricky to follow along.\n",
    "\n",
    "For starters, the last instance of the `dt` variable was a `DateTime4` object"
   ]
  },
  {
   "cell_type": "code",
   "execution_count": 11,
   "metadata": {},
   "outputs": [
    {
     "data": {
      "text/plain": [
       "__main__.DateTime4"
      ]
     },
     "execution_count": 11,
     "metadata": {},
     "output_type": "execute_result"
    }
   ],
   "source": [
    "dt.__class__"
   ]
  },
  {
   "cell_type": "markdown",
   "metadata": {},
   "source": [
    "Which means that given an existing `DateTime4` object, we can determine which `class` it was, and call it like we did when instantiated `dt`"
   ]
  },
  {
   "cell_type": "code",
   "execution_count": 12,
   "metadata": {},
   "outputs": [
    {
     "data": {
      "text/plain": [
       "<__main__.DateTime4 at 0x58e3630>"
      ]
     },
     "execution_count": 12,
     "metadata": {},
     "output_type": "execute_result"
    }
   ],
   "source": [
    "dt.__class__('2222-22-22')"
   ]
  },
  {
   "cell_type": "markdown",
   "metadata": {},
   "source": [
    "therefore producing a *different object altogether*"
   ]
  },
  {
   "cell_type": "code",
   "execution_count": 13,
   "metadata": {},
   "outputs": [
    {
     "data": {
      "text/plain": [
       "<__main__.DateTime4 at 0x58e35c0>"
      ]
     },
     "execution_count": 13,
     "metadata": {},
     "output_type": "execute_result"
    }
   ],
   "source": [
    "dt"
   ]
  },
  {
   "cell_type": "markdown",
   "metadata": {},
   "source": [
    "So in a hacky manner, we can write some toy function that will use this functionality to build a new `DateTime4` object when passed a number instead of the `yyyy-mm-dd` string we've been using."
   ]
  },
  {
   "cell_type": "code",
   "execution_count": 14,
   "metadata": {
    "collapsed": true
   },
   "outputs": [],
   "source": [
    "def build_DateTime4_with_same_number(dtObj, num):\n",
    "    num = str(num)\n",
    "    dumbString = num*4 + '-' + num*2 + '-' + num*2\n",
    "    return dtObj.__class__(dumbString)"
   ]
  },
  {
   "cell_type": "code",
   "execution_count": 15,
   "metadata": {},
   "outputs": [
    {
     "data": {
      "text/plain": [
       "'33/33/3333'"
      ]
     },
     "execution_count": 15,
     "metadata": {},
     "output_type": "execute_result"
    }
   ],
   "source": [
    "test = build_DateTime4_with_same_number(dt, 3)\n",
    "test.slashFormat"
   ]
  },
  {
   "cell_type": "markdown",
   "metadata": {},
   "source": [
    "However, when we package our code, we don't want our user to have to know every function like this that exists. Instead, we can nest it as a class method as follows."
   ]
  },
  {
   "cell_type": "code",
   "execution_count": 16,
   "metadata": {
    "collapsed": true
   },
   "outputs": [],
   "source": [
    "class DateTime5(DateTime4):\n",
    "    ''' Takes in a yyyy-mm-dd string and gives datetime functionality'''\n",
    "    def __init__(self, datetimeStr):\n",
    "        self.datetimeStr = datetimeStr\n",
    "    \n",
    "    @classmethod\n",
    "    def build_with_same_number(cls, num):\n",
    "        num = str(num)\n",
    "        dumbString = num*4 + '-' + num*2 + '-' + num*2\n",
    "        return cls(dumbString)\n",
    "    \n",
    "    # omiting @property implementations\n",
    "    # we get those with inheritence"
   ]
  },
  {
   "cell_type": "markdown",
   "metadata": {},
   "source": [
    "Particular emphasis on the use of `cls`. This acts very similar to `self` when doing regular class-work, but instead returns the actual memory reference to the class definition.\n",
    "\n",
    "Which is why the last line looks so much like a regular class instantiation-- that's because it is. And it works just as you'd expect."
   ]
  },
  {
   "cell_type": "code",
   "execution_count": 17,
   "metadata": {},
   "outputs": [
    {
     "data": {
      "text/plain": [
       "'99/99/9999'"
      ]
     },
     "execution_count": 17,
     "metadata": {},
     "output_type": "execute_result"
    }
   ],
   "source": [
    "test = DateTime5.build_with_same_number(9)\n",
    "test.slashFormat"
   ]
  },
  {
   "cell_type": "markdown",
   "metadata": {},
   "source": [
    "This is a dumb example, but is used all over the place when you've got multiple ways to instantiate an object. Off the cuff, the `pandas.DataFrame` comes to mind with the ability to build it from `.csv`, `.json`, `dict`, `tuple`, and many others. All of those implementations utilize `@classmethod` in one capacity or another. "
   ]
  },
  {
   "cell_type": "markdown",
   "metadata": {},
   "source": [
    "## `@staticmethod`"
   ]
  },
  {
   "cell_type": "markdown",
   "metadata": {},
   "source": [
    "Much easier, a static method is used when you want to be able use a class method without having to first instantiate the class. Or to borrow from my good friend [jtzupan](https://github.com/jtzupan):\n",
    "\n",
    "> It is not bound to the method or class and therefore cannot modify the class\n",
    "\n",
    "> i.e. it's a loosely-related function not dependent on the class or instance variables."
   ]
  },
  {
   "cell_type": "markdown",
   "metadata": {},
   "source": [
    "Consider the following class that breaks on instantiation"
   ]
  },
  {
   "cell_type": "code",
   "execution_count": 18,
   "metadata": {
    "collapsed": true
   },
   "outputs": [],
   "source": [
    "class StaticMethodTest(object):\n",
    "    def __init__(self):\n",
    "        f = open('fileThatDoesntExist.lol')\n",
    "    \n",
    "    @staticmethod\n",
    "    def print_():\n",
    "        print('Hey, it worked!')"
   ]
  },
  {
   "cell_type": "code",
   "execution_count": 19,
   "metadata": {},
   "outputs": [
    {
     "name": "stdout",
     "output_type": "stream",
     "text": [
      "Well, that broke.\n"
     ]
    }
   ],
   "source": [
    "try:\n",
    "    StaticMethodTest()\n",
    "except FileNotFoundError:\n",
    "    print('Well, that broke.')"
   ]
  },
  {
   "cell_type": "markdown",
   "metadata": {},
   "source": [
    "However, this works fine if we go right to the method call."
   ]
  },
  {
   "cell_type": "code",
   "execution_count": 20,
   "metadata": {},
   "outputs": [
    {
     "name": "stdout",
     "output_type": "stream",
     "text": [
      "Hey, it worked!\n"
     ]
    }
   ],
   "source": [
    "StaticMethodTest.print_()"
   ]
  },
  {
   "cell_type": "markdown",
   "metadata": {},
   "source": [
    "A good practical use of this would be a format-checker for our existing `DateTime` class"
   ]
  },
  {
   "cell_type": "code",
   "execution_count": 21,
   "metadata": {},
   "outputs": [],
   "source": [
    "import re\n",
    "\n",
    "class DateTime6(DateTime5):\n",
    "    def __init__(self, datetimeStr):\n",
    "        assert(self.is_dt_format(datetimeStr))\n",
    "        self.datetimeStr = datetimeStr\n",
    "    \n",
    "    @staticmethod\n",
    "    def is_dt_format(datetimeStr):\n",
    "        dtFormat = re.compile('\\d{4}\\-\\d{2}\\-\\d{2}')\n",
    "        return bool(dtFormat.match(datetimeStr))"
   ]
  },
  {
   "cell_type": "markdown",
   "metadata": {},
   "source": [
    "That either does some up-front assertion at the time of instantiation."
   ]
  },
  {
   "cell_type": "code",
   "execution_count": 22,
   "metadata": {},
   "outputs": [
    {
     "name": "stdout",
     "output_type": "stream",
     "text": [
      "This failed\n"
     ]
    }
   ],
   "source": [
    "try:\n",
    "    DateTime6('2018-01-0')\n",
    "except AssertionError as e:\n",
    "    print('This failed')"
   ]
  },
  {
   "cell_type": "markdown",
   "metadata": {},
   "source": [
    "Or can be used without first building an instance of the class"
   ]
  },
  {
   "cell_type": "code",
   "execution_count": 23,
   "metadata": {},
   "outputs": [
    {
     "data": {
      "text/plain": [
       "False"
      ]
     },
     "execution_count": 23,
     "metadata": {},
     "output_type": "execute_result"
    }
   ],
   "source": [
    "DateTime6.is_dt_format('20180101')"
   ]
  }
 ],
 "metadata": {
  "kernelspec": {
   "display_name": "Python 3",
   "language": "python",
   "name": "python3"
  },
  "language_info": {
   "codemirror_mode": {
    "name": "ipython",
    "version": 3
   },
   "file_extension": ".py",
   "mimetype": "text/x-python",
   "name": "python",
   "nbconvert_exporter": "python",
   "pygments_lexer": "ipython3",
   "version": "3.6.3"
  }
 },
 "nbformat": 4,
 "nbformat_minor": 2
}

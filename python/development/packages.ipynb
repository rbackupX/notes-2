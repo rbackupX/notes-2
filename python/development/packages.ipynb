{
 "cells": [
  {
   "cell_type": "raw",
   "metadata": {},
   "source": [
    "---\n",
    "title: \"Packages\"\n",
    "date: 2018-05-23\n",
    "type: technical_note\n",
    "draft: false\n",
    "---"
   ]
  },
  {
   "cell_type": "markdown",
   "metadata": {},
   "source": [
    "# Packages"
   ]
  },
  {
   "cell_type": "markdown",
   "metadata": {},
   "source": [
    "When regular ol' *modules* aren't cutting it, you want to turn to *packages*. They allow you to, among other things:\n",
    "\n",
    "* Better organize your code with explicit names\n",
    "    * e.g. from email.message import Message\n",
    "* Only import what you need"
   ]
  },
  {
   "cell_type": "markdown",
   "metadata": {},
   "source": [
    "## `__init__` files"
   ]
  },
  {
   "cell_type": "markdown",
   "metadata": {},
   "source": [
    "These files, tucked into subdirectories, establish a subdirectory as a namespace under the umbrella that is the package."
   ]
  },
  {
   "cell_type": "markdown",
   "metadata": {},
   "source": [
    "Consider a path that looks like this"
   ]
  },
  {
   "cell_type": "code",
   "execution_count": 33,
   "metadata": {},
   "outputs": [
    {
     "name": "stdout",
     "output_type": "stream",
     "text": [
      "Folder PATH listing for volume OSDisk\n",
      "Volume serial number is 16C3-CD43\n",
      "C:.\n",
      "|   Caching Imports.ipynb\n",
      "|   localscript.py\n",
      "|   Modules.ipynb\n",
      "|   Packages.ipynb\n",
      "|   Pathing.ipynb\n",
      "|   \n",
      "\\---samplepackage\n",
      "    |   nested.py\n",
      "    |   __init__.py\n",
      "    |   \n",
      "    \\---subdirectory\n",
      "            doublenested.py\n",
      "            __init__.py\n",
      "            \n"
     ]
    }
   ],
   "source": [
    "!tree /f /a"
   ]
  },
  {
   "cell_type": "markdown",
   "metadata": {},
   "source": [
    "### Executing code in `__init__` files"
   ]
  },
  {
   "cell_type": "markdown",
   "metadata": {
    "collapsed": true
   },
   "source": [
    "`__init__` files can be used to execute at the time of import, but only once."
   ]
  },
  {
   "cell_type": "markdown",
   "metadata": {},
   "source": [
    "For example, our `__init__` files call print statements like so:"
   ]
  },
  {
   "cell_type": "code",
   "execution_count": 40,
   "metadata": {},
   "outputs": [
    {
     "name": "stdout",
     "output_type": "stream",
     "text": [
      "import os\n",
      "\n",
      "print(\"Automatically printing import statement from file located at:\", '\\n',\n",
      "      __file__)\n"
     ]
    }
   ],
   "source": [
    "!type \"samplepackage\\__init__.py\""
   ]
  },
  {
   "cell_type": "code",
   "execution_count": 42,
   "metadata": {},
   "outputs": [
    {
     "name": "stdout",
     "output_type": "stream",
     "text": [
      "import os\n",
      "\n",
      "print(\"Automatically printing import statement from file located at:\", '\\n',\n",
      "      __file__)\n"
     ]
    }
   ],
   "source": [
    "!type \"samplepackage\\subdirectory\\__init__.py\""
   ]
  },
  {
   "cell_type": "markdown",
   "metadata": {},
   "source": [
    "Thus, importing the `nested.py` file one level below yields"
   ]
  },
  {
   "cell_type": "code",
   "execution_count": 73,
   "metadata": {},
   "outputs": [
    {
     "name": "stdout",
     "output_type": "stream",
     "text": [
      "Automatically printing import statement from file located at: \n",
      " C:\\Users\\nhounshell\\Documents\\github\\BlackBook\\Python\\Modules and Packages\\samplepackage\\__init__.py\n"
     ]
    }
   ],
   "source": [
    "import samplepackage.nested"
   ]
  },
  {
   "cell_type": "markdown",
   "metadata": {},
   "source": [
    "Similarly, importing the `doublenested.py` file *two* levels down gives a print statement, **but only from the second level**."
   ]
  },
  {
   "cell_type": "code",
   "execution_count": 74,
   "metadata": {},
   "outputs": [
    {
     "name": "stdout",
     "output_type": "stream",
     "text": [
      "Automatically printing import statement from file located at: \n",
      " C:\\Users\\nhounshell\\Documents\\github\\BlackBook\\Python\\Modules and Packages\\samplepackage\\subdirectory\\__init__.py\n"
     ]
    }
   ],
   "source": [
    "from samplepackage.subdirectory import doublenested"
   ]
  },
  {
   "cell_type": "markdown",
   "metadata": {},
   "source": [
    "However, if you want to get both print statements, for whatever reason, all you have to do is delete the namespace refrerence in the `sys.modules` dictionary."
   ]
  },
  {
   "cell_type": "code",
   "execution_count": 75,
   "metadata": {
    "collapsed": true
   },
   "outputs": [],
   "source": [
    "import sys\n",
    "\n",
    "del sys.modules['samplepackage']\n",
    "del sys.modules['samplepackage.subdirectory']"
   ]
  },
  {
   "cell_type": "code",
   "execution_count": 79,
   "metadata": {},
   "outputs": [
    {
     "name": "stdout",
     "output_type": "stream",
     "text": [
      "Automatically printing import statement from file located at: \n",
      " C:\\Users\\nhounshell\\Documents\\github\\BlackBook\\Python\\Modules and Packages\\samplepackage\\__init__.py\n",
      "Automatically printing import statement from file located at: \n",
      " C:\\Users\\nhounshell\\Documents\\github\\BlackBook\\Python\\Modules and Packages\\samplepackage\\subdirectory\\__init__.py\n"
     ]
    }
   ],
   "source": [
    "from samplepackage.subdirectory import doublenested"
   ]
  },
  {
   "cell_type": "code",
   "execution_count": 80,
   "metadata": {
    "collapsed": true
   },
   "outputs": [],
   "source": [
    "import sys\n",
    "\n",
    "del sys.modules['samplepackage']\n",
    "del sys.modules['samplepackage.subdirectory']\n",
    "del sys.modules['samplepackage.nested']\n",
    "del sys.modules['samplepackage.subdirectory.doublenested']"
   ]
  },
  {
   "cell_type": "markdown",
   "metadata": {},
   "source": [
    "### Updating our namespace records"
   ]
  },
  {
   "cell_type": "markdown",
   "metadata": {},
   "source": [
    "To start off, there isn't anything in our `sys.modules` dictionary yet."
   ]
  },
  {
   "cell_type": "code",
   "execution_count": 81,
   "metadata": {},
   "outputs": [
    {
     "data": {
      "text/plain": [
       "[]"
      ]
     },
     "execution_count": 81,
     "metadata": {},
     "output_type": "execute_result"
    }
   ],
   "source": [
    "[x for x in sys.modules if x.startswith('samplepackage')]"
   ]
  },
  {
   "cell_type": "markdown",
   "metadata": {},
   "source": [
    "But if we use the '`from __ import __`' syntax and go two levels deep"
   ]
  },
  {
   "cell_type": "code",
   "execution_count": 82,
   "metadata": {},
   "outputs": [
    {
     "name": "stdout",
     "output_type": "stream",
     "text": [
      "Automatically printing import statement from file located at: \n",
      " C:\\Users\\nhounshell\\Documents\\github\\BlackBook\\Python\\Modules and Packages\\samplepackage\\__init__.py\n",
      "Automatically printing import statement from file located at: \n",
      " C:\\Users\\nhounshell\\Documents\\github\\BlackBook\\Python\\Modules and Packages\\samplepackage\\subdirectory\\__init__.py\n"
     ]
    }
   ],
   "source": [
    "from samplepackage.subdirectory import doublenested"
   ]
  },
  {
   "cell_type": "markdown",
   "metadata": {},
   "source": [
    "We'll see that the `__init__` files have created `sys.modules` entries every step of the way."
   ]
  },
  {
   "cell_type": "code",
   "execution_count": 83,
   "metadata": {},
   "outputs": [
    {
     "data": {
      "text/plain": [
       "['samplepackage',\n",
       " 'samplepackage.subdirectory',\n",
       " 'samplepackage.subdirectory.doublenested']"
      ]
     },
     "execution_count": 83,
     "metadata": {},
     "output_type": "execute_result"
    }
   ],
   "source": [
    "[x for x in sys.modules if x.startswith('samplepackage')]"
   ]
  }
 ],
 "metadata": {
  "kernelspec": {
   "display_name": "Python 3",
   "language": "python",
   "name": "python3"
  },
  "language_info": {
   "codemirror_mode": {
    "name": "ipython",
    "version": 3
   },
   "file_extension": ".py",
   "mimetype": "text/x-python",
   "name": "python",
   "nbconvert_exporter": "python",
   "pygments_lexer": "ipython3",
   "version": "3.6.3"
  }
 },
 "nbformat": 4,
 "nbformat_minor": 2
}

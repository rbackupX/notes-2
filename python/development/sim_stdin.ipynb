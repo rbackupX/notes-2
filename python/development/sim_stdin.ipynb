{
 "cells": [
  {
   "cell_type": "raw",
   "metadata": {},
   "source": [
    "---\n",
    "title: \"Simulating stdin Inputs from User\"\n",
    "type: technical_note\n",
    "date: 2018-07-03\n",
    "---"
   ]
  },
  {
   "cell_type": "markdown",
   "metadata": {},
   "source": [
    "I recently ran into a problem where I was trying to automate unit testing for a function that paused, mid-execution, and waited for a user to input some value.\n",
    "\n",
    "For example"
   ]
  },
  {
   "cell_type": "code",
   "execution_count": 1,
   "metadata": {
    "collapsed": true
   },
   "outputs": [],
   "source": [
    "def dummy_fn():\n",
    "    name = input()\n",
    "    return('Hello, ', name)"
   ]
  },
  {
   "cell_type": "code",
   "execution_count": 2,
   "metadata": {},
   "outputs": [
    {
     "name": "stdout",
     "output_type": "stream",
     "text": [
      "Nick\n"
     ]
    },
    {
     "data": {
      "text/plain": [
       "('Hello, ', 'Nick')"
      ]
     },
     "execution_count": 2,
     "metadata": {},
     "output_type": "execute_result"
    }
   ],
   "source": [
    "dummy_fn()"
   ]
  },
  {
   "cell_type": "markdown",
   "metadata": {},
   "source": [
    "Simulating a user input wound up being a non-trivial thing to figure out, so I figured it beared writing a note involving:\n",
    "\n",
    "- The `StringIO` class\n",
    "- Temporarily overwriting `sys.stdin`"
   ]
  },
  {
   "cell_type": "markdown",
   "metadata": {},
   "source": [
    "### StringIO"
   ]
  },
  {
   "cell_type": "markdown",
   "metadata": {},
   "source": [
    "`io.StringIO` is used to convert your typical string into something that can be read as a *stream of inputs*, much like reading lines in a file.\n",
    "\n",
    "For instance, imagine we're trying to simulate loading a `.csv`"
   ]
  },
  {
   "cell_type": "code",
   "execution_count": 3,
   "metadata": {
    "collapsed": true
   },
   "outputs": [],
   "source": [
    "from io import StringIO\n",
    "import csv"
   ]
  },
  {
   "cell_type": "markdown",
   "metadata": {},
   "source": [
    "Here, the iterator is considering each unique character. Because every other \"line\" is \"a comma that splits two empty strings\" we get a bunch of nonsense."
   ]
  },
  {
   "cell_type": "code",
   "execution_count": 4,
   "metadata": {},
   "outputs": [
    {
     "name": "stdout",
     "output_type": "stream",
     "text": [
      "['a']\n",
      "['', '']\n",
      "['b']\n",
      "['', '']\n",
      "['c']\n",
      "['', '']\n",
      "['d']\n",
      "['', '']\n",
      "['e']\n"
     ]
    }
   ],
   "source": [
    "for char in csv.reader('a,b,c,d,e'):\n",
    "    print(char)"
   ]
  },
  {
   "cell_type": "markdown",
   "metadata": {},
   "source": [
    "Whereas using `StringIO`, we can tell python to read our input as one unified line."
   ]
  },
  {
   "cell_type": "code",
   "execution_count": 5,
   "metadata": {},
   "outputs": [
    {
     "name": "stdout",
     "output_type": "stream",
     "text": [
      "['a', 'b', 'c', 'd', 'e']\n"
     ]
    }
   ],
   "source": [
    "f = csv.reader(StringIO('a,b,c,d,e'))\n",
    "for char in f:\n",
    "    print(char)"
   ]
  },
  {
   "cell_type": "markdown",
   "metadata": {},
   "source": [
    "### Temporarily Overwriting `sys.stdin`"
   ]
  },
  {
   "cell_type": "markdown",
   "metadata": {},
   "source": [
    "`sys.stdin` is the default that gets called when you find yourself writing something that that uses the standard `input()` function. It's got this cryptic `TextIOWrapper` for a repr, but it essentially takes whatever a user submits to standard in by typing and hitting Enter."
   ]
  },
  {
   "cell_type": "code",
   "execution_count": 6,
   "metadata": {},
   "outputs": [
    {
     "data": {
      "text/plain": [
       "<_io.TextIOWrapper name='<stdin>' mode='r' encoding='cp1252'>"
      ]
     },
     "execution_count": 6,
     "metadata": {},
     "output_type": "execute_result"
    }
   ],
   "source": [
    "import sys\n",
    "sys.stdin"
   ]
  },
  {
   "cell_type": "markdown",
   "metadata": {},
   "source": [
    "But if we inspect, this `TextIOWrapper` inherits from the same base class as `StringIO`"
   ]
  },
  {
   "cell_type": "code",
   "execution_count": 7,
   "metadata": {},
   "outputs": [
    {
     "data": {
      "text/plain": [
       "_io._TextIOBase"
      ]
     },
     "execution_count": 7,
     "metadata": {},
     "output_type": "execute_result"
    }
   ],
   "source": [
    "sys.stdin.__class__.__base__"
   ]
  },
  {
   "cell_type": "code",
   "execution_count": 8,
   "metadata": {},
   "outputs": [
    {
     "data": {
      "text/plain": [
       "_io._TextIOBase"
      ]
     },
     "execution_count": 8,
     "metadata": {},
     "output_type": "execute_result"
    }
   ],
   "source": [
    "StringIO.__base__"
   ]
  },
  {
   "cell_type": "markdown",
   "metadata": {},
   "source": [
    "Meaning we can leverage the same underlying functionality if we spoof a function designed to call `sys.stdin`. In this case, `input()`"
   ]
  },
  {
   "cell_type": "markdown",
   "metadata": {},
   "source": [
    "``` python\n",
    "with StringIO('asdf') as f:\n",
    "    stdin = sys.stdin\n",
    "    sys.stdin = f\n",
    "    print(\"'\" + input() + \"' wasn't actually typed at the command line\")\n",
    "    sys.stdin = stdin\n",
    " ```\n",
    " ```\n",
    " 'asdf' wasn't actually typed at the command line\n",
    " ```"
   ]
  },
  {
   "cell_type": "markdown",
   "metadata": {},
   "source": [
    "(Note: Because Jupyter Notebooks use a different `stdin` scheme, this, ironically, is just markdown. But running it in IPython or regular ol' Python works just fine)"
   ]
  },
  {
   "cell_type": "markdown",
   "metadata": {},
   "source": [
    "## Putting it All Together"
   ]
  },
  {
   "cell_type": "markdown",
   "metadata": {},
   "source": [
    "``` python\n",
    "with StringIO('Nick') as f:\n",
    "    stdin = sys.stdin\n",
    "    sys.stdin = f\n",
    "    dummy_fn()\n",
    "    sys.stdin = stdin\n",
    "```\n",
    "\n",
    "``` \n",
    "('Hello', 'Nick') \n",
    "```"
   ]
  }
 ],
 "metadata": {
  "kernelspec": {
   "display_name": "Python 3",
   "language": "python",
   "name": "python3"
  },
  "language_info": {
   "codemirror_mode": {
    "name": "ipython",
    "version": 3
   },
   "file_extension": ".py",
   "mimetype": "text/x-python",
   "name": "python",
   "nbconvert_exporter": "python",
   "pygments_lexer": "ipython3",
   "version": "3.6.3"
  }
 },
 "nbformat": 4,
 "nbformat_minor": 2
}

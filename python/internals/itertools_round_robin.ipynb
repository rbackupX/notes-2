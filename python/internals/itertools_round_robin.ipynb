{
 "cells": [
  {
   "cell_type": "raw",
   "metadata": {},
   "source": [
    "---\n",
    "title: \"Itertools Recipe: Round Robin\"\n",
    "date: 2019-05-28\n",
    "type: technical_note\n",
    "---"
   ]
  },
  {
   "cell_type": "markdown",
   "metadata": {},
   "source": [
    "The `itertools` docs has [a ton of slick recipes](https://docs.python.org/3/library/itertools.html#itertools-recipes) for using the library to good effect. Some of the code is more useful than illustrative, so I wanted to use these notebooks to break down a few of the functions."
   ]
  },
  {
   "cell_type": "markdown",
   "metadata": {},
   "source": [
    "This is "
   ]
  },
  {
   "cell_type": "code",
   "execution_count": 1,
   "metadata": {},
   "outputs": [],
   "source": [
    "# poor import style, but I want to copy-paste the code\n",
    "# as-is from the docs\n",
    "\n",
    "from itertools import *\n",
    "import itertools"
   ]
  },
  {
   "cell_type": "markdown",
   "metadata": {},
   "source": [
    "## `roundrobin()`"
   ]
  },
  {
   "cell_type": "code",
   "execution_count": 2,
   "metadata": {},
   "outputs": [],
   "source": [
    "def roundrobin(*iterables):\n",
    "    \"roundrobin('ABC', 'D', 'EF') --> A D E B F C\"\n",
    "    # Recipe credited to George Sakkis\n",
    "    num_active = len(iterables)\n",
    "    nexts = cycle(iter(it).__next__ for it in iterables)\n",
    "    while num_active:\n",
    "        try:\n",
    "            for next in nexts:\n",
    "                yield next()\n",
    "        except StopIteration:\n",
    "            # Remove the iterator we just exhausted from the cycle.\n",
    "            num_active -= 1\n",
    "            nexts = cycle(islice(nexts, num_active))"
   ]
  },
  {
   "cell_type": "markdown",
   "metadata": {},
   "source": [
    "### Demo"
   ]
  },
  {
   "cell_type": "markdown",
   "metadata": {},
   "source": [
    "The second value should be sequential, `b` dropping out, and then `a`"
   ]
  },
  {
   "cell_type": "code",
   "execution_count": 3,
   "metadata": {},
   "outputs": [],
   "source": [
    "player_a = ['a1', 'a2', 'a3']\n",
    "player_b = ['b1', 'b2']\n",
    "player_c = ['c1', 'c2', 'c3', 'c4']"
   ]
  },
  {
   "cell_type": "code",
   "execution_count": 4,
   "metadata": {},
   "outputs": [
    {
     "name": "stdout",
     "output_type": "stream",
     "text": [
      "a1 b1 c1 a2 b2 c2 a3 c3 c4 "
     ]
    }
   ],
   "source": [
    "for item in roundrobin(player_a, player_b, player_c):\n",
    "    print(item, end=' ')"
   ]
  },
  {
   "cell_type": "markdown",
   "metadata": {},
   "source": [
    "Mississippi... sort of"
   ]
  },
  {
   "cell_type": "code",
   "execution_count": 5,
   "metadata": {},
   "outputs": [],
   "source": [
    "m = 'm'\n",
    "i = 'iii'\n",
    "s = 'ssss'\n",
    "p = 'pp'"
   ]
  },
  {
   "cell_type": "code",
   "execution_count": 6,
   "metadata": {},
   "outputs": [
    {
     "name": "stdout",
     "output_type": "stream",
     "text": [
      "mispispiss"
     ]
    }
   ],
   "source": [
    "for item in roundrobin(m, i, s, p):\n",
    "    print(item, end='')"
   ]
  },
  {
   "cell_type": "markdown",
   "metadata": {},
   "source": [
    "lol"
   ]
  },
  {
   "cell_type": "markdown",
   "metadata": {},
   "source": [
    "### Why this works"
   ]
  },
  {
   "cell_type": "markdown",
   "metadata": {},
   "source": [
    "This one relies heavily on some Functional Programming Magic™, but beyond the main trick, the function is easy enough to understand."
   ]
  },
  {
   "cell_type": "markdown",
   "metadata": {},
   "source": [
    "#### The `nexts` iterable"
   ]
  },
  {
   "cell_type": "markdown",
   "metadata": {},
   "source": [
    "The function starts off by creating a straight-forward `num_active` variable that tracks how many iterables we're juggling.\n",
    "\n",
    "The `nexts` line merits some unpacking:\n",
    "\n",
    "- At the outer level, it invokes the `itertools.cycle()` method to repeatedly yield the next result of each iterable\n",
    "- We wrap each value `it` in the `iter()`, on the off chance one of `*iterables` was a standalone string or something\n",
    "- Finally *magic* part, outlined above is in the fact that we're cycling through `__next__()` *functions*, not the values that they yield"
   ]
  },
  {
   "cell_type": "markdown",
   "metadata": {},
   "source": [
    "From here, we execute the loop while there are still values to yield in any of the iterables"
   ]
  },
  {
   "cell_type": "markdown",
   "metadata": {},
   "source": [
    "#### Using and redefining `nexts`"
   ]
  },
  {
   "cell_type": "markdown",
   "metadata": {},
   "source": [
    "Because it's built using `itertools.cycle()`, the `for next in nexts:` portion will loop indefinitely, yielding the next value of each iterable, until the first time that it exhausts one of them, which is why we've got it stuffed inside the `try` block"
   ]
  },
  {
   "cell_type": "markdown",
   "metadata": {},
   "source": [
    "At that point, we catch the `StopIteration` exception, decrement our number of active iterables by one, then do some more clever Functional Programming Magic™.\n",
    "\n",
    "Revisiting the `player_a`, `player_b`, `player_c` example from above, after looping a couple times, we've yielded `a1 b1 c1 a2 b2 c2 a3`, pushed `player_a` to the back of the cycle, and are getting ready to serve the next value of `player_b`"
   ]
  },
  {
   "cell_type": "markdown",
   "metadata": {},
   "source": [
    "```\n",
    "B: \n",
    "C: c3, c4\n",
    "A: \n",
    "```"
   ]
  },
  {
   "cell_type": "markdown",
   "metadata": {},
   "source": [
    "However, `player_b`'s out of values and is about to kick us the `StopIteration` exception"
   ]
  },
  {
   "cell_type": "markdown",
   "metadata": {},
   "source": [
    "```\n",
    "C: c3, c4\n",
    "A: \n",
    "B: StopIteration\n",
    "```"
   ]
  },
  {
   "cell_type": "markdown",
   "metadata": {},
   "source": [
    "But when it does that, it, **critically**, gets moved to the back of the `cycle`"
   ]
  },
  {
   "cell_type": "markdown",
   "metadata": {},
   "source": [
    "At that point, we build a new `cycle` using `itertools.islice()`. We still use the `nexts` iterable, but because we decremented `num_activive` in the previous line, this means that we're cycling through only the first `n-1` iterables in `nexts`."
   ]
  },
  {
   "cell_type": "markdown",
   "metadata": {},
   "source": [
    "Which, in this case, is `player_a` and `player_c`-- we've discarded the empty `player_b` from the rotation"
   ]
  }
 ],
 "metadata": {
  "kernelspec": {
   "display_name": "Python 3",
   "language": "python",
   "name": "python3"
  },
  "language_info": {
   "codemirror_mode": {
    "name": "ipython",
    "version": 3
   },
   "file_extension": ".py",
   "mimetype": "text/x-python",
   "name": "python",
   "nbconvert_exporter": "python",
   "pygments_lexer": "ipython3",
   "version": "3.7.3"
  }
 },
 "nbformat": 4,
 "nbformat_minor": 2
}

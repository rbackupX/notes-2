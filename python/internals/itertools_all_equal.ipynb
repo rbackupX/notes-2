{
 "cells": [
  {
   "cell_type": "raw",
   "metadata": {},
   "source": [
    "---\n",
    "title: \"Itertools Recipe: All Equal\"\n",
    "date: 2019-05-24\n",
    "type: technical_note\n",
    "---"
   ]
  },
  {
   "cell_type": "markdown",
   "metadata": {},
   "source": [
    "The `itertools` docs has [a ton of slick recipes](https://docs.python.org/3/library/itertools.html#itertools-recipes) for using the library to good effect. Some of the code is more useful than illustrative, so I wanted to use these notebooks to break down a few of the functions."
   ]
  },
  {
   "cell_type": "markdown",
   "metadata": {},
   "source": [
    "This is "
   ]
  },
  {
   "cell_type": "code",
   "execution_count": 1,
   "metadata": {},
   "outputs": [],
   "source": [
    "# poor import style, but I want to copy-paste the code\n",
    "# as-is from the docs\n",
    "\n",
    "from itertools import *\n",
    "import itertools"
   ]
  },
  {
   "cell_type": "markdown",
   "metadata": {},
   "source": [
    "## `all_equal()`"
   ]
  },
  {
   "cell_type": "code",
   "execution_count": 2,
   "metadata": {},
   "outputs": [],
   "source": [
    "def all_equal(iterable):\n",
    "    \"Returns True if all the elements are equal to each other\"\n",
    "    g = groupby(iterable)\n",
    "    return next(g, True) and not next(g, False)"
   ]
  },
  {
   "cell_type": "markdown",
   "metadata": {},
   "source": [
    "### Demo"
   ]
  },
  {
   "cell_type": "code",
   "execution_count": 3,
   "metadata": {},
   "outputs": [
    {
     "data": {
      "text/plain": [
       "True"
      ]
     },
     "execution_count": 3,
     "metadata": {},
     "output_type": "execute_result"
    }
   ],
   "source": [
    "all_equal('aaaaaaaaa')"
   ]
  },
  {
   "cell_type": "code",
   "execution_count": 4,
   "metadata": {},
   "outputs": [
    {
     "data": {
      "text/plain": [
       "False"
      ]
     },
     "execution_count": 4,
     "metadata": {},
     "output_type": "execute_result"
    }
   ],
   "source": [
    "all_equal('aaaaaaab')"
   ]
  },
  {
   "cell_type": "markdown",
   "metadata": {},
   "source": [
    "### Why this works"
   ]
  },
  {
   "cell_type": "markdown",
   "metadata": {},
   "source": [
    "This one relies on how the `itertools.groupby()` function resolves. Calling it on an iterable yields a stream of tuples of the form (unique group found, iterable).\n",
    "\n",
    "When they're all the same, this will be one tuple"
   ]
  },
  {
   "cell_type": "code",
   "execution_count": 5,
   "metadata": {},
   "outputs": [
    {
     "data": {
      "text/plain": [
       "[('a', <itertools._grouper at 0x25db4853cc0>)]"
      ]
     },
     "execution_count": 5,
     "metadata": {},
     "output_type": "execute_result"
    }
   ],
   "source": [
    "obj = itertools.groupby('aaaaaaa')\n",
    "\n",
    "list(obj)"
   ]
  },
  {
   "cell_type": "code",
   "execution_count": 12,
   "metadata": {},
   "outputs": [
    {
     "data": {
      "text/plain": [
       "[('a', <itertools._grouper at 0x1e531b6bf28>)]"
      ]
     },
     "execution_count": 12,
     "metadata": {},
     "output_type": "execute_result"
    }
   ],
   "source": [
    "list(obj)"
   ]
  },
  {
   "cell_type": "markdown",
   "metadata": {},
   "source": [
    "and when it gets a different value on the end, it's got two"
   ]
  },
  {
   "cell_type": "code",
   "execution_count": 6,
   "metadata": {},
   "outputs": [
    {
     "data": {
      "text/plain": [
       "[('a', <itertools._grouper at 0x25db486d240>),\n",
       " ('b', <itertools._grouper at 0x25db486d2e8>)]"
      ]
     },
     "execution_count": 6,
     "metadata": {},
     "output_type": "execute_result"
    }
   ],
   "source": [
    "obj = itertools.groupby('aaaaaab')\n",
    "\n",
    "list(obj)"
   ]
  },
  {
   "cell_type": "markdown",
   "metadata": {},
   "source": [
    "the default behavior of the `next()` function is what ties this all together. Calling `next()` on an iterable with a second argument is very similar to the behavior of `dict.get(default_val)`"
   ]
  },
  {
   "cell_type": "code",
   "execution_count": 7,
   "metadata": {},
   "outputs": [
    {
     "name": "stdout",
     "output_type": "stream",
     "text": [
      "Empty Iter\n",
      "0\n"
     ]
    }
   ],
   "source": [
    "# without default\n",
    "try:\n",
    "    obj = iter([])\n",
    "    print(next(obj))\n",
    "except StopIteration:\n",
    "    print('Empty Iter')\n",
    "    \n",
    "# with default\n",
    "try:\n",
    "    obj = iter([])\n",
    "    print(next(obj, 0))\n",
    "except StopIteration:\n",
    "    print('Empty Iter')\n",
    "    "
   ]
  },
  {
   "cell_type": "markdown",
   "metadata": {},
   "source": [
    "So in this context, lets look at that second chunk\n",
    "\n",
    "``` python\n",
    "and not next(g, False)\n",
    "```\n",
    "\n",
    "If we only have one tuple returned by `groupby()`, `next(g)` will raise the `StopIterationException`, thus giving us the default value `False`. Applying the leading `not` evaluates the statement to `True`.\n",
    "\n",
    "Otherwise, if it weren't empty, anything that gets returned will be \"Truthy\", get the `not` applied to it and evaluate to `False`."
   ]
  }
 ],
 "metadata": {
  "kernelspec": {
   "display_name": "Python 3",
   "language": "python",
   "name": "python3"
  },
  "language_info": {
   "codemirror_mode": {
    "name": "ipython",
    "version": 3
   },
   "file_extension": ".py",
   "mimetype": "text/x-python",
   "name": "python",
   "nbconvert_exporter": "python",
   "pygments_lexer": "ipython3",
   "version": "3.7.3"
  }
 },
 "nbformat": 4,
 "nbformat_minor": 2
}

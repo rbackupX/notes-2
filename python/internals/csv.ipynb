{
 "cells": [
  {
   "cell_type": "raw",
   "metadata": {},
   "source": [
    "---\n",
    "title: \"The csv module\"\n",
    "date: 2018-05-23\n",
    "type: technical_note\n",
    "draft: false\n",
    "---"
   ]
  },
  {
   "cell_type": "markdown",
   "metadata": {
    "collapsed": true
   },
   "source": [
    "## Overview"
   ]
  },
  {
   "cell_type": "markdown",
   "metadata": {},
   "source": [
    "The `csv` standard library is used for interfacting with-- strangely enough-- csv files.\n",
    "\n",
    "Mechanically, working with csv files involves breaking up by lines, then by delimiter, and using the values.\n",
    "\n",
    "However, these files aren't beholden to a consistent format. Different rules regarding quotes, delimiters, and line separation can arise, kneecapping your ability to generalize how to work with the files.\n",
    "\n",
    "The `csv` standard library can be handily leveraged as a translation layer in your data pipeline to resolve inconsistencies between these formats."
   ]
  },
  {
   "cell_type": "markdown",
   "metadata": {},
   "source": [
    "## Our Data"
   ]
  },
  {
   "cell_type": "code",
   "execution_count": 1,
   "metadata": {
    "collapsed": true
   },
   "outputs": [],
   "source": [
    "import csv\n",
    "import sys\n",
    "from itertools import islice"
   ]
  },
  {
   "cell_type": "markdown",
   "metadata": {},
   "source": [
    "Printing the first few rows of the iris dataset, we can see that the data is split into rows, and each entry is separated by a comma."
   ]
  },
  {
   "cell_type": "code",
   "execution_count": 2,
   "metadata": {},
   "outputs": [
    {
     "name": "stdout",
     "output_type": "stream",
     "text": [
      "sepal_length,sepal_width,petal_length,petal_width,species\n",
      "5.1,3.5,1.4,0.2,setosa\n",
      "4.9,3.0,1.4,0.2,setosa\n",
      "4.7,3.2,1.3,0.2,setosa\n",
      "4.6,3.1,1.5,0.2,setosa\n",
      "5.0,3.6,1.4,0.2,setosa\n",
      "5.4,3.9,1.7,0.4,setosa\n"
     ]
    }
   ],
   "source": [
    "path = 'data/iris.csv'\n",
    "with open(path, 'r') as csvfile:\n",
    "    print(csvfile.read()[:195])"
   ]
  },
  {
   "cell_type": "markdown",
   "metadata": {},
   "source": [
    "But it could be just as easily have been separated by a bar."
   ]
  },
  {
   "cell_type": "code",
   "execution_count": 3,
   "metadata": {},
   "outputs": [
    {
     "name": "stdout",
     "output_type": "stream",
     "text": [
      "sepal_length|sepal_width|petal_length|petal_width|species\n",
      "5.1|3.5|1.4|0.2|setosa\n",
      "4.9|3.0|1.4|0.2|setosa\n",
      "4.7|3.2|1.3|0.2|setosa\n",
      "4.6|3.1|1.5|0.2|setosa\n",
      "5.0|3.6|1.4|0.2|setosa\n",
      "5.4|3.9|1.7|0.4|setosa\n"
     ]
    }
   ],
   "source": [
    "path = 'data/iris_bar.csv'\n",
    "with open(path, 'r') as csvfile:\n",
    "    print(csvfile.read()[:195])"
   ]
  },
  {
   "cell_type": "markdown",
   "metadata": {},
   "source": [
    "Or, inexplicably, by ™'s"
   ]
  },
  {
   "cell_type": "code",
   "execution_count": 4,
   "metadata": {
    "scrolled": false
   },
   "outputs": [
    {
     "name": "stdout",
     "output_type": "stream",
     "text": [
      "sepal_length™sepal_width™petal_length™petal_width™species\n",
      "5.1™3.5™1.4™0.2™setosa\n",
      "4.9™3.0™1.4™0.2™setosa\n",
      "4.7™3.2™1.3™0.2™setosa\n",
      "4.6™3.1™1.5™0.2™setosa\n",
      "5.0™3.6™1.4™0.2™setosa\n",
      "5.4™3.9™1.7™0.4™s\n"
     ]
    }
   ],
   "source": [
    "path = 'data/iris_tm.csv'\n",
    "with open(path, 'r', encoding='utf-8') as csvfile:\n",
    "    print(csvfile.read()[:190])"
   ]
  },
  {
   "cell_type": "markdown",
   "metadata": {},
   "source": [
    "## Reading and Writing"
   ]
  },
  {
   "cell_type": "markdown",
   "metadata": {},
   "source": [
    "Both the `Reader` and `Writer` in the `csv` module operate using `Dialects` that essentially describe the rules the file is to be written/read with.\n",
    "\n",
    "Both `csv.reader` and `csv.writer` can take either a `dialect` argument (more on this below), or individual arguments that would be found within a `Dialect`. Often, you won't need to finagle with much more than the `delimiter`."
   ]
  },
  {
   "cell_type": "markdown",
   "metadata": {},
   "source": [
    "### Reader"
   ]
  },
  {
   "cell_type": "markdown",
   "metadata": {},
   "source": [
    "Takes in a csv file that supports an iterator and whose `__next__` method returns a `str`. The object itself is a lightweight wrapper to an iterator."
   ]
  },
  {
   "cell_type": "markdown",
   "metadata": {},
   "source": [
    "The default reader handles vanilla csv files just fine"
   ]
  },
  {
   "cell_type": "code",
   "execution_count": 5,
   "metadata": {},
   "outputs": [
    {
     "name": "stdout",
     "output_type": "stream",
     "text": [
      "['sepal_length', 'sepal_width', 'petal_length', 'petal_width', 'species']\n",
      "['5.1', '3.5', '1.4', '0.2', 'setosa']\n",
      "['4.9', '3.0', '1.4', '0.2', 'setosa']\n",
      "['4.7', '3.2', '1.3', '0.2', 'setosa']\n",
      "['4.6', '3.1', '1.5', '0.2', 'setosa']\n"
     ]
    }
   ],
   "source": [
    "with open('data/iris.csv', 'r') as csvfile:\n",
    "    csvreader = csv.reader(csvfile)\n",
    "    for line in islice(csvreader, 5):\n",
    "        print(line)"
   ]
  },
  {
   "cell_type": "markdown",
   "metadata": {},
   "source": [
    "But as mentioned above, you can specify the `reader`'s `Dialect`, or pass parameters that modify the defaults."
   ]
  },
  {
   "cell_type": "code",
   "execution_count": 6,
   "metadata": {},
   "outputs": [
    {
     "name": "stdout",
     "output_type": "stream",
     "text": [
      "['sepal_length', 'sepal_width', 'petal_length', 'petal_width', 'species']\n",
      "['5.1', '3.5', '1.4', '0.2', 'setosa']\n",
      "['4.9', '3.0', '1.4', '0.2', 'setosa']\n",
      "['4.7', '3.2', '1.3', '0.2', 'setosa']\n",
      "['4.6', '3.1', '1.5', '0.2', 'setosa']\n"
     ]
    }
   ],
   "source": [
    "with open('data/iris_bar.csv', 'r') as csvfile:\n",
    "    csvreader = csv.reader(csvfile, delimiter='|')\n",
    "    for line in islice(csvreader, 5):\n",
    "        print(line)"
   ]
  },
  {
   "cell_type": "markdown",
   "metadata": {},
   "source": [
    "Additionally, the `csv.reader` has a `line_num` attribute that is useful in searching a file"
   ]
  },
  {
   "cell_type": "code",
   "execution_count": 7,
   "metadata": {},
   "outputs": [
    {
     "name": "stdout",
     "output_type": "stream",
     "text": [
      "6\n",
      "9\n",
      "27\n",
      "37\n",
      "51\n"
     ]
    }
   ],
   "source": [
    "with open('data/iris_bar.csv', 'r') as csvfile:\n",
    "    csvreader = csv.reader(csvfile, delimiter='|')\n",
    "    for line in csvreader:\n",
    "        if (line[0] == '5.0') and (line[3] == '0.2'):\n",
    "            print(csvreader.line_num)"
   ]
  },
  {
   "cell_type": "markdown",
   "metadata": {},
   "source": [
    "Or, obviously, in logging with a `try`/`except` block"
   ]
  },
  {
   "cell_type": "markdown",
   "metadata": {},
   "source": [
    "## Writer"
   ]
  },
  {
   "cell_type": "markdown",
   "metadata": {},
   "source": [
    "Similarly, you can use `csv.writer` to specify some `Dialect` attributes and write either:"
   ]
  },
  {
   "cell_type": "markdown",
   "metadata": {},
   "source": [
    "per row"
   ]
  },
  {
   "cell_type": "code",
   "execution_count": 8,
   "metadata": {},
   "outputs": [
    {
     "name": "stdout",
     "output_type": "stream",
     "text": [
      "sepal_length,sepal_width,petal_length,petal_width,species\r\n",
      "5.1,3.5,1.4,0.2,setosa\r\n",
      "4.9,3.0,1.4,0.2,setosa\r\n",
      "4.7,3.2,1.3,0.2,setosa\r\n",
      "4.6,3.1,1.5,0.2,setosa\r\n"
     ]
    }
   ],
   "source": [
    "with open('data/iris.csv', 'r') as csvfile:\n",
    "    csvreader = csv.reader(csvfile)\n",
    "    csvwriter = csv.writer(sys.stdout)\n",
    "    \n",
    "    for line in islice(csvreader, 5):\n",
    "        csvwriter.writerow(line)"
   ]
  },
  {
   "cell_type": "markdown",
   "metadata": {},
   "source": [
    "Or multiple rows at once"
   ]
  },
  {
   "cell_type": "code",
   "execution_count": 9,
   "metadata": {},
   "outputs": [
    {
     "name": "stdout",
     "output_type": "stream",
     "text": [
      "sepal_length,sepal_width,petal_length,petal_width,species\r\n",
      "5.1,3.5,1.4,0.2,setosa\r\n",
      "4.9,3.0,1.4,0.2,setosa\r\n",
      "4.7,3.2,1.3,0.2,setosa\r\n",
      "4.6,3.1,1.5,0.2,setosa\r\n"
     ]
    }
   ],
   "source": [
    "with open('data/iris.csv', 'r') as csvfile:\n",
    "    csvreader = csv.reader(csvfile)\n",
    "    csvwriter = csv.writer(sys.stdout)\n",
    "    \n",
    "    fiveLines = list(islice(csvreader, 5))\n",
    "    \n",
    "    csvwriter.writerows(fiveLines)"
   ]
  },
  {
   "cell_type": "markdown",
   "metadata": {},
   "source": [
    "This is very handy because it allows you to neatly translate between `Dialect`s. Here, we can quickly change the delimiter from `','` to `'|'`."
   ]
  },
  {
   "cell_type": "code",
   "execution_count": 10,
   "metadata": {},
   "outputs": [
    {
     "name": "stdout",
     "output_type": "stream",
     "text": [
      "sepal_length|sepal_width|petal_length|petal_width|species\r\n",
      "5.1|3.5|1.4|0.2|setosa\r\n",
      "4.9|3.0|1.4|0.2|setosa\r\n",
      "4.7|3.2|1.3|0.2|setosa\r\n",
      "4.6|3.1|1.5|0.2|setosa\r\n"
     ]
    }
   ],
   "source": [
    "with open('data/iris.csv', 'r') as csvfile:\n",
    "    csvreader = csv.reader(csvfile)\n",
    "    csvwriter = csv.writer(sys.stdout, delimiter='|')\n",
    "    \n",
    "    for line in islice(csvreader, 5):\n",
    "        csvwriter.writerow(line)"
   ]
  },
  {
   "cell_type": "markdown",
   "metadata": {},
   "source": [
    "## Dialects"
   ]
  },
  {
   "cell_type": "markdown",
   "metadata": {
    "collapsed": true
   },
   "source": [
    "Of course, data is often messy.\n",
    "\n",
    "Thus, we have a need to communicate the \"rules\" that a csv file follows. In the `csv` library this is implemented as **dialects.**\n",
    "\n",
    "Dialects are implemented as Python classes and have attributes that fall into two categories:\n",
    "\n",
    "* How to break up a file\n",
    "* What to do about quotes when writing"
   ]
  },
  {
   "cell_type": "markdown",
   "metadata": {},
   "source": [
    "#### Breaking up files"
   ]
  },
  {
   "cell_type": "markdown",
   "metadata": {},
   "source": [
    "`delimiter`: What the file rows are split up over. *Can only be a single character*."
   ]
  },
  {
   "cell_type": "markdown",
   "metadata": {},
   "source": [
    "If we pass the correct delimiter for a given file, each row becomes a list of that many entries"
   ]
  },
  {
   "cell_type": "code",
   "execution_count": 11,
   "metadata": {},
   "outputs": [
    {
     "name": "stdout",
     "output_type": "stream",
     "text": [
      "['sepal_length', 'sepal_width', 'petal_length', 'petal_width', 'species']\n",
      "['5.1', '3.5', '1.4', '0.2', 'setosa']\n",
      "['4.9', '3.0', '1.4', '0.2', 'setosa']\n",
      "['4.7', '3.2', '1.3', '0.2', 'setosa']\n",
      "['4.6', '3.1', '1.5', '0.2', 'setosa']\n"
     ]
    }
   ],
   "source": [
    "with open('data/iris_bar.csv', 'r') as csvfile:\n",
    "    csvreader = csv.reader(csvfile, delimiter='|')\n",
    "    for line in islice(csvreader, 5):\n",
    "        print(line)"
   ]
  },
  {
   "cell_type": "markdown",
   "metadata": {},
   "source": [
    "If we don't, it becomes one record per row"
   ]
  },
  {
   "cell_type": "code",
   "execution_count": 12,
   "metadata": {},
   "outputs": [
    {
     "name": "stdout",
     "output_type": "stream",
     "text": [
      "['sepal_length,sepal_width,petal_length,petal_width,species']\n",
      "['5.1,3.5,1.4,0.2,setosa']\n",
      "['4.9,3.0,1.4,0.2,setosa']\n",
      "['4.7,3.2,1.3,0.2,setosa']\n",
      "['4.6,3.1,1.5,0.2,setosa']\n"
     ]
    }
   ],
   "source": [
    "with open('data/iris.csv', 'r') as csvfile:\n",
    "    csvreader = csv.reader(csvfile, delimiter='|')\n",
    "    for line in islice(csvreader, 5):\n",
    "        print(line)"
   ]
  },
  {
   "cell_type": "markdown",
   "metadata": {},
   "source": [
    "`lineterminator`: What character(s) used to terminate lines when *writing.*"
   ]
  },
  {
   "cell_type": "markdown",
   "metadata": {},
   "source": [
    "`skipinitialspace`: Some csvs have a bunch of whitespace after each delimiter. This reads past that."
   ]
  },
  {
   "cell_type": "markdown",
   "metadata": {},
   "source": [
    "#### Dealing with Quotes"
   ]
  },
  {
   "cell_type": "markdown",
   "metadata": {},
   "source": [
    "Let's assume a simple dataset. 3 rows with columns \"Index\" and \"Letter\""
   ]
  },
  {
   "cell_type": "code",
   "execution_count": 13,
   "metadata": {},
   "outputs": [
    {
     "name": "stdout",
     "output_type": "stream",
     "text": [
      "[(1, 'A'), (2, 'B'), (3, 'C')]\n"
     ]
    }
   ],
   "source": [
    "nums = list(range(1, 4))\n",
    "letters = [chr(x+64) for x in nums]\n",
    "print(list(zip(nums, letters)))"
   ]
  },
  {
   "cell_type": "code",
   "execution_count": 14,
   "metadata": {
    "collapsed": true
   },
   "outputs": [],
   "source": [
    "def write_3(**quoteargs):\n",
    "    csvwriter = csv.writer(sys.stdout, **quoteargs)\n",
    "    for line in zip(nums, letters):\n",
    "        csvwriter.writerow(line)"
   ]
  },
  {
   "cell_type": "markdown",
   "metadata": {},
   "source": [
    "Out of the box, this works fine."
   ]
  },
  {
   "cell_type": "code",
   "execution_count": 15,
   "metadata": {},
   "outputs": [
    {
     "name": "stdout",
     "output_type": "stream",
     "text": [
      "1,A\r\n",
      "2,B\r\n",
      "3,C\r\n"
     ]
    }
   ],
   "source": [
    "write_3()"
   ]
  },
  {
   "cell_type": "markdown",
   "metadata": {},
   "source": [
    "Using the `quoting` argument, we can choose to include or ignore quotes, regardless of type"
   ]
  },
  {
   "cell_type": "code",
   "execution_count": 16,
   "metadata": {},
   "outputs": [
    {
     "name": "stdout",
     "output_type": "stream",
     "text": [
      "\"1\",\"A\"\n",
      "\"2\",\"B\"\n",
      "\"3\",\"C\"\n"
     ]
    }
   ],
   "source": [
    "write_3(quoting=csv.QUOTE_ALL)"
   ]
  },
  {
   "cell_type": "code",
   "execution_count": 17,
   "metadata": {},
   "outputs": [
    {
     "name": "stdout",
     "output_type": "stream",
     "text": [
      "1,A\r\n",
      "2,B\r\n",
      "3,C\r\n"
     ]
    }
   ],
   "source": [
    "write_3(quoting=csv.QUOTE_NONE)"
   ]
  },
  {
   "cell_type": "markdown",
   "metadata": {},
   "source": [
    "However, this gets dicey when you try to quote *and have quote characters within your values*.\n",
    "\n",
    "Let's overwrite our `C` with `\"C\"`"
   ]
  },
  {
   "cell_type": "code",
   "execution_count": 18,
   "metadata": {
    "collapsed": true
   },
   "outputs": [],
   "source": [
    "letters[2] = '\"C\"'"
   ]
  },
  {
   "cell_type": "markdown",
   "metadata": {},
   "source": [
    "`csv` doesn't know what to do with itself now."
   ]
  },
  {
   "cell_type": "code",
   "execution_count": 19,
   "metadata": {},
   "outputs": [
    {
     "name": "stdout",
     "output_type": "stream",
     "text": [
      "1,A\r\n",
      "2,B\r\n"
     ]
    },
    {
     "ename": "Error",
     "evalue": "need to escape, but no escapechar set",
     "output_type": "error",
     "traceback": [
      "\u001b[1;31m---------------------------------------------------------------------------\u001b[0m",
      "\u001b[1;31mError\u001b[0m                                     Traceback (most recent call last)",
      "\u001b[1;32m<ipython-input-19-bd14db3002e5>\u001b[0m in \u001b[0;36m<module>\u001b[1;34m()\u001b[0m\n\u001b[1;32m----> 1\u001b[1;33m \u001b[0mwrite_3\u001b[0m\u001b[1;33m(\u001b[0m\u001b[0mquoting\u001b[0m\u001b[1;33m=\u001b[0m\u001b[0mcsv\u001b[0m\u001b[1;33m.\u001b[0m\u001b[0mQUOTE_NONE\u001b[0m\u001b[1;33m)\u001b[0m\u001b[1;33m\u001b[0m\u001b[0m\n\u001b[0m",
      "\u001b[1;32m<ipython-input-14-d8e006bede05>\u001b[0m in \u001b[0;36mwrite_3\u001b[1;34m(**quoteargs)\u001b[0m\n\u001b[0;32m      2\u001b[0m     \u001b[0mcsvwriter\u001b[0m \u001b[1;33m=\u001b[0m \u001b[0mcsv\u001b[0m\u001b[1;33m.\u001b[0m\u001b[0mwriter\u001b[0m\u001b[1;33m(\u001b[0m\u001b[0msys\u001b[0m\u001b[1;33m.\u001b[0m\u001b[0mstdout\u001b[0m\u001b[1;33m,\u001b[0m \u001b[1;33m**\u001b[0m\u001b[0mquoteargs\u001b[0m\u001b[1;33m)\u001b[0m\u001b[1;33m\u001b[0m\u001b[0m\n\u001b[0;32m      3\u001b[0m     \u001b[1;32mfor\u001b[0m \u001b[0mline\u001b[0m \u001b[1;32min\u001b[0m \u001b[0mzip\u001b[0m\u001b[1;33m(\u001b[0m\u001b[0mnums\u001b[0m\u001b[1;33m,\u001b[0m \u001b[0mletters\u001b[0m\u001b[1;33m)\u001b[0m\u001b[1;33m:\u001b[0m\u001b[1;33m\u001b[0m\u001b[0m\n\u001b[1;32m----> 4\u001b[1;33m         \u001b[0mcsvwriter\u001b[0m\u001b[1;33m.\u001b[0m\u001b[0mwriterow\u001b[0m\u001b[1;33m(\u001b[0m\u001b[0mline\u001b[0m\u001b[1;33m)\u001b[0m\u001b[1;33m\u001b[0m\u001b[0m\n\u001b[0m",
      "\u001b[1;31mError\u001b[0m: need to escape, but no escapechar set"
     ]
    }
   ],
   "source": [
    "write_3(quoting=csv.QUOTE_NONE)"
   ]
  },
  {
   "cell_type": "markdown",
   "metadata": {},
   "source": [
    "A few options here.\n",
    "\n",
    "We use the `quotechar` argument to tell `csv` that we quote using something besides `\"`"
   ]
  },
  {
   "cell_type": "code",
   "execution_count": 20,
   "metadata": {},
   "outputs": [
    {
     "name": "stdout",
     "output_type": "stream",
     "text": [
      "1,A\r\n",
      "2,B\r\n",
      "3,\"C\"\r\n"
     ]
    }
   ],
   "source": [
    "write_3(quoting=csv.QUOTE_NONE, quotechar=\"'\")"
   ]
  },
  {
   "cell_type": "markdown",
   "metadata": {},
   "source": [
    "Or use the `escapechar` argument to denote where the character was already in the string"
   ]
  },
  {
   "cell_type": "code",
   "execution_count": 21,
   "metadata": {
    "scrolled": true
   },
   "outputs": [
    {
     "name": "stdout",
     "output_type": "stream",
     "text": [
      "1,A\r\n",
      "2,B\r\n",
      "3,\\\"C\\\"\r\n"
     ]
    }
   ],
   "source": [
    "write_3(quoting=csv.QUOTE_NONE, escapechar='\\\\')"
   ]
  },
  {
   "cell_type": "code",
   "execution_count": 23,
   "metadata": {},
   "outputs": [
    {
     "name": "stdout",
     "output_type": "stream",
     "text": [
      "1,\"A\"\r\n",
      "2,\"B\"\r\n",
      "3,\"\"\"C\"\"\"\r\n"
     ]
    }
   ],
   "source": [
    "write_3(quoting=csv.QUOTE_NONNUMERIC)"
   ]
  },
  {
   "cell_type": "code",
   "execution_count": 24,
   "metadata": {},
   "outputs": [
    {
     "name": "stdout",
     "output_type": "stream",
     "text": [
      "\"1\",\"A\"\r\n",
      "\"2\",\"B\"\r\n",
      "\"3\",\"\"\"C\"\"\"\r\n"
     ]
    }
   ],
   "source": [
    "write_3(quoting=csv.QUOTE_ALL)"
   ]
  },
  {
   "cell_type": "markdown",
   "metadata": {},
   "source": [
    "**The easiest way** is to just use `QUOTE_MINIMAL`, which is the default behavior"
   ]
  },
  {
   "cell_type": "code",
   "execution_count": 25,
   "metadata": {
    "scrolled": true
   },
   "outputs": [
    {
     "name": "stdout",
     "output_type": "stream",
     "text": [
      "1,A\r\n",
      "2,B\r\n",
      "3,\"\"\"C\"\"\"\r\n"
     ]
    }
   ],
   "source": [
    "write_3(quoting=csv.QUOTE_MINIMAL)"
   ]
  },
  {
   "cell_type": "markdown",
   "metadata": {},
   "source": [
    "### Standard Dialects"
   ]
  },
  {
   "cell_type": "markdown",
   "metadata": {},
   "source": [
    "`csv` comes pre-loaded with some common dialects that are produced by popular csv-creating software"
   ]
  },
  {
   "cell_type": "code",
   "execution_count": 26,
   "metadata": {},
   "outputs": [
    {
     "data": {
      "text/plain": [
       "['excel', 'excel-tab', 'unix']"
      ]
     },
     "execution_count": 26,
     "metadata": {},
     "output_type": "execute_result"
    }
   ],
   "source": [
    "csv.list_dialects()"
   ]
  },
  {
   "cell_type": "code",
   "execution_count": 27,
   "metadata": {
    "collapsed": true
   },
   "outputs": [],
   "source": [
    "def print_dialect_attrs(dialect):\n",
    "    attrs = [x for x in dir(dialect) if not x.startswith('_')]\n",
    "    d = dict((x, getattr(dialect, x)) for x in attrs)\n",
    "\n",
    "    for k, v in d.items():\n",
    "        print(str(k).ljust(16), ':', repr(v))"
   ]
  },
  {
   "cell_type": "code",
   "execution_count": 28,
   "metadata": {
    "scrolled": true
   },
   "outputs": [
    {
     "name": "stdout",
     "output_type": "stream",
     "text": [
      "delimiter        : ','\n",
      "doublequote      : True\n",
      "escapechar       : None\n",
      "lineterminator   : '\\r\\n'\n",
      "quotechar        : '\"'\n",
      "quoting          : 0\n",
      "skipinitialspace : False\n"
     ]
    }
   ],
   "source": [
    "print_dialect_attrs(csv.excel)"
   ]
  },
  {
   "cell_type": "code",
   "execution_count": 29,
   "metadata": {
    "scrolled": true
   },
   "outputs": [
    {
     "name": "stdout",
     "output_type": "stream",
     "text": [
      "delimiter        : '\\t'\n",
      "doublequote      : True\n",
      "escapechar       : None\n",
      "lineterminator   : '\\r\\n'\n",
      "quotechar        : '\"'\n",
      "quoting          : 0\n",
      "skipinitialspace : False\n"
     ]
    }
   ],
   "source": [
    "print_dialect_attrs(csv.excel_tab)"
   ]
  },
  {
   "cell_type": "code",
   "execution_count": 30,
   "metadata": {
    "scrolled": true
   },
   "outputs": [
    {
     "name": "stdout",
     "output_type": "stream",
     "text": [
      "delimiter        : ','\n",
      "doublequote      : 1\n",
      "escapechar       : None\n",
      "lineterminator   : '\\n'\n",
      "quotechar        : '\"'\n",
      "quoting          : 1\n",
      "skipinitialspace : 0\n",
      "strict           : 0\n"
     ]
    }
   ],
   "source": [
    "print_dialect_attrs(csv.get_dialect('unix'))"
   ]
  },
  {
   "cell_type": "markdown",
   "metadata": {},
   "source": [
    "### Sniffer"
   ]
  },
  {
   "cell_type": "markdown",
   "metadata": {},
   "source": [
    "As we saw above, accounting for all of the csv behavior can be a headache. \n",
    "\n",
    "Thankfully, we can lean on a really useful `csv` utility called `sniffer`."
   ]
  },
  {
   "cell_type": "markdown",
   "metadata": {},
   "source": [
    "#### has_header"
   ]
  },
  {
   "cell_type": "markdown",
   "metadata": {},
   "source": [
    "Sniffer can investigate a file to see if it's got header columns or not."
   ]
  },
  {
   "cell_type": "code",
   "execution_count": 31,
   "metadata": {},
   "outputs": [
    {
     "name": "stdout",
     "output_type": "stream",
     "text": [
      "True\n"
     ]
    }
   ],
   "source": [
    "with open('data/iris.csv', 'r') as csvfile:\n",
    "    print(csv.Sniffer().has_header(csvfile.read()))"
   ]
  },
  {
   "cell_type": "markdown",
   "metadata": {},
   "source": [
    "#### sniff"
   ]
  },
  {
   "cell_type": "markdown",
   "metadata": {},
   "source": [
    "But the real power of the `Sniffer` class is in its ability to determine how things are broken up in a given csv and assign its findings to a `Dialect` class."
   ]
  },
  {
   "cell_type": "code",
   "execution_count": 32,
   "metadata": {},
   "outputs": [
    {
     "name": "stdout",
     "output_type": "stream",
     "text": [
      "delimiter        : '|'\n",
      "doublequote      : False\n",
      "escapechar       : None\n",
      "lineterminator   : '\\r\\n'\n",
      "quotechar        : '\"'\n",
      "quoting          : 0\n",
      "skipinitialspace : False\n"
     ]
    }
   ],
   "source": [
    "with open('data/iris_bar.csv', 'r') as csvfile:\n",
    "    dialect = csv.Sniffer().sniff(csvfile.read())\n",
    "    print_dialect_attrs(dialect)"
   ]
  },
  {
   "cell_type": "markdown",
   "metadata": {},
   "source": [
    "Of course, it's not always right-- so use caution."
   ]
  },
  {
   "cell_type": "code",
   "execution_count": 33,
   "metadata": {},
   "outputs": [
    {
     "name": "stdout",
     "output_type": "stream",
     "text": [
      "delimiter        : '.'\n",
      "doublequote      : False\n",
      "escapechar       : None\n",
      "lineterminator   : '\\r\\n'\n",
      "quotechar        : '\"'\n",
      "quoting          : 0\n",
      "skipinitialspace : True\n"
     ]
    }
   ],
   "source": [
    "with open('data/iris_tm.csv', 'r', encoding='utf-8') as csvfile:\n",
    "    dialect = csv.Sniffer().sniff(csvfile.read())\n",
    "    print_dialect_attrs(dialect)"
   ]
  },
  {
   "cell_type": "markdown",
   "metadata": {},
   "source": [
    "Manually correcting"
   ]
  },
  {
   "cell_type": "code",
   "execution_count": 34,
   "metadata": {},
   "outputs": [
    {
     "name": "stdout",
     "output_type": "stream",
     "text": [
      "delimiter        : '™'\n",
      "doublequote      : 1\n",
      "escapechar       : None\n",
      "lineterminator   : '\\r\\n'\n",
      "quotechar        : '\"'\n",
      "quoting          : 0\n",
      "skipinitialspace : 0\n",
      "strict           : 0\n"
     ]
    }
   ],
   "source": [
    "with open('data/iris_tm.csv', 'r', encoding='utf-8') as csvfile:\n",
    "    csvreader = csv.reader(csvfile, delimiter='™')\n",
    "    print_dialect_attrs(csvreader.dialect)"
   ]
  },
  {
   "cell_type": "markdown",
   "metadata": {},
   "source": [
    "## Resources"
   ]
  },
  {
   "cell_type": "markdown",
   "metadata": {},
   "source": [
    "https://docs.python.org/3.6/library/csv.html"
   ]
  }
 ],
 "metadata": {
  "kernelspec": {
   "display_name": "Python 3",
   "language": "python",
   "name": "python3"
  },
  "language_info": {
   "codemirror_mode": {
    "name": "ipython",
    "version": 3
   },
   "file_extension": ".py",
   "mimetype": "text/x-python",
   "name": "python",
   "nbconvert_exporter": "python",
   "pygments_lexer": "ipython3",
   "version": "3.6.3"
  }
 },
 "nbformat": 4,
 "nbformat_minor": 2
}

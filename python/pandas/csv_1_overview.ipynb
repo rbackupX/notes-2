{
 "cells": [
  {
   "cell_type": "raw",
   "metadata": {},
   "source": [
    "---\n",
    "title: \"csv 1: Overview\"\n",
    "date: 2018-05-23\n",
    "type: technical_note\n",
    "draft: false\n",
    "---"
   ]
  },
  {
   "cell_type": "markdown",
   "metadata": {},
   "source": [
    "## Intro"
   ]
  },
  {
   "cell_type": "markdown",
   "metadata": {},
   "source": [
    "All of the `pandas` csv and text file parsing are done through the `read_csv()` and `read_table()` functions. These, in turn, inherit most of their behavior from the `csv` module in the Python standard library.\n",
    "\n",
    "Because the end result of \"parse data to get to a `Dataframe`\" looks so tabular, it's worth having a good understanding of how these two function calls work, even in higher-order data, as those methods will leverage these on the backend."
   ]
  },
  {
   "cell_type": "markdown",
   "metadata": {},
   "source": [
    "### The `filepath_or_buffer` argument"
   ]
  },
  {
   "cell_type": "markdown",
   "metadata": {},
   "source": [
    "This is a pretty broad argument that represents the object being parsed for information. It can take:\n",
    "\n",
    "- A path to a file (a `str` or `pathlib.Path`)\n",
    "- A URL (with http included)\n",
    "- Any object with a `read()` method (e.g. `StringIO` object)"
   ]
  },
  {
   "cell_type": "markdown",
   "metadata": {},
   "source": [
    "### All of the other arguments"
   ]
  },
  {
   "cell_type": "markdown",
   "metadata": {},
   "source": [
    "To try to enumerate the 50 or so other arguments here would be unwieldy. Instead, see the other notebooks.\n",
    "\n",
    "The other options broadly fall into 5 categories:\n",
    "\n",
    "* Indexing\n",
    "* Type Inference\n",
    "* Datetime Parsing\n",
    "* Unclean Data\n",
    "* Iterating"
   ]
  },
  {
   "cell_type": "markdown",
   "metadata": {},
   "source": [
    "## Engine"
   ]
  },
  {
   "cell_type": "markdown",
   "metadata": {},
   "source": [
    "The actual parsing can either be done in Python (easier to use) or in C (much faster).\n",
    "\n",
    "Generally speaking, if you're looking to use the C engine, you're going to want to be as explicit as possible in all of your argument-ing and not relying on the 'smart typing' that arguments such as `sep`, `parse_dates`, etc provide."
   ]
  },
  {
   "cell_type": "markdown",
   "metadata": {},
   "source": [
    "    float_precision\n",
    "    lineterminator"
   ]
  }
 ],
 "metadata": {
  "kernelspec": {
   "display_name": "Python 3",
   "language": "python",
   "name": "python3"
  },
  "language_info": {
   "codemirror_mode": {
    "name": "ipython",
    "version": 3
   },
   "file_extension": ".py",
   "mimetype": "text/x-python",
   "name": "python",
   "nbconvert_exporter": "python",
   "pygments_lexer": "ipython3",
   "version": "3.6.3"
  }
 },
 "nbformat": 4,
 "nbformat_minor": 2
}

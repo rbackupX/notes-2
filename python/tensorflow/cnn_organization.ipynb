{
 "cells": [
  {
   "cell_type": "raw",
   "metadata": {},
   "source": [
    "---\n",
    "title: \"CNN Organization\"\n",
    "date: 2018-09-24\n",
    "type: technical_note\n",
    "---"
   ]
  },
  {
   "cell_type": "markdown",
   "metadata": {},
   "source": [
    "In the Deep Learning notes space, we've got [a notebook outlining a potential architecture for a network to predict on the MNist dataset.](https://napsterinblue.github.io/notes/machine_learning/neural_nets/conv_project_structure/) Here, we'll walk through how to match that implementation in TensorFlow using Keras."
   ]
  },
  {
   "cell_type": "markdown",
   "metadata": {},
   "source": [
    "### Overview"
   ]
  },
  {
   "cell_type": "markdown",
   "metadata": {},
   "source": [
    "Our instantiation will basically look like the following:\n",
    "\n",
    "- Generate our Data\n",
    "- Create Placeholders\n",
    "- Create Variable objects"
   ]
  },
  {
   "cell_type": "markdown",
   "metadata": {},
   "source": [
    "### Data"
   ]
  },
  {
   "cell_type": "markdown",
   "metadata": {},
   "source": [
    "The dataset is a smaller resolution, but the exercise is the same"
   ]
  },
  {
   "cell_type": "code",
   "execution_count": 1,
   "metadata": {},
   "outputs": [
    {
     "name": "stdout",
     "output_type": "stream",
     "text": [
      "(1797, 8, 8) (1797,)\n"
     ]
    }
   ],
   "source": [
    "from sklearn.datasets import load_digits\n",
    "\n",
    "data = load_digits()\n",
    "\n",
    "X = data['images']\n",
    "y = data['target']\n",
    "\n",
    "print(X.shape, y.shape)"
   ]
  },
  {
   "cell_type": "markdown",
   "metadata": {},
   "source": [
    "Because we're going to end in a softmax layer, we want to separate `y` into 10 distinct classes-- not just their correct values."
   ]
  },
  {
   "cell_type": "code",
   "execution_count": 2,
   "metadata": {},
   "outputs": [
    {
     "name": "stdout",
     "output_type": "stream",
     "text": [
      "(1797, 10)\n"
     ]
    }
   ],
   "source": [
    "from sklearn.preprocessing import OneHotEncoder\n",
    "\n",
    "enc = OneHotEncoder()\n",
    "sparse = enc.fit_transform(y.reshape(-1, 1))\n",
    "\n",
    "y = sparse.todense()\n",
    "print(y.shape)"
   ]
  },
  {
   "cell_type": "code",
   "execution_count": 3,
   "metadata": {},
   "outputs": [
    {
     "name": "stderr",
     "output_type": "stream",
     "text": [
      "C:\\Users\\nhounshell\\AppData\\Local\\Continuum\\anaconda3\\lib\\site-packages\\sklearn\\model_selection\\_split.py:2026: FutureWarning: From version 0.21, test_size will always complement train_size unless both are specified.\n",
      "  FutureWarning)\n"
     ]
    }
   ],
   "source": [
    "from sklearn.model_selection import train_test_split\n",
    "\n",
    "X_train, X_test, y_train, y_test = train_test_split(X, y, train_size=.7)\n",
    "\n",
    "# Second split to get dev/test set\n",
    "X_dev, X_test, y_dev, y_test = train_test_split(X_test, y_test, train_size=.66)"
   ]
  },
  {
   "cell_type": "code",
   "execution_count": 4,
   "metadata": {},
   "outputs": [
    {
     "name": "stdout",
     "output_type": "stream",
     "text": [
      "(1257, 8, 8) (356, 8, 8) (184, 8, 8)\n",
      "(1257, 10) (356, 10) (184, 10)\n"
     ]
    }
   ],
   "source": [
    "print(X_train.shape, X_dev.shape, X_test.shape)\n",
    "print(y_train.shape, y_dev.shape, y_test.shape)"
   ]
  },
  {
   "cell_type": "markdown",
   "metadata": {},
   "source": [
    "### Build TensorFlow Graph"
   ]
  },
  {
   "cell_type": "markdown",
   "metadata": {},
   "source": [
    "Note: Because the resolution is much smaller, we'll comment out filtering steps-- this would just takes us from some data to very little data, lol"
   ]
  },
  {
   "cell_type": "code",
   "execution_count": 5,
   "metadata": {
    "collapsed": true
   },
   "outputs": [],
   "source": [
    "from tensorflow import keras\n",
    "from tensorflow.keras.models import Sequential\n",
    "from tensorflow.keras.layers import Dense, Dropout, Flatten\n",
    "from tensorflow.keras.layers import Conv1D, MaxPooling1D"
   ]
  },
  {
   "cell_type": "markdown",
   "metadata": {},
   "source": [
    "Determine the shape of our inputs"
   ]
  },
  {
   "cell_type": "code",
   "execution_count": 6,
   "metadata": {
    "collapsed": true
   },
   "outputs": [],
   "source": [
    "m, X_w, X_h = X.shape\n",
    "n_y = y.shape[1]"
   ]
  },
  {
   "cell_type": "markdown",
   "metadata": {},
   "source": [
    "Instantiate the model"
   ]
  },
  {
   "cell_type": "code",
   "execution_count": 7,
   "metadata": {
    "collapsed": true
   },
   "outputs": [],
   "source": [
    "model = Sequential()"
   ]
  },
  {
   "cell_type": "markdown",
   "metadata": {},
   "source": [
    "Layer 1"
   ]
  },
  {
   "cell_type": "code",
   "execution_count": 8,
   "metadata": {},
   "outputs": [],
   "source": [
    "model.add(Conv1D(filters=6, kernel_size=(3), activation='relu', input_shape=(X_w, X_h)))"
   ]
  },
  {
   "cell_type": "code",
   "execution_count": 9,
   "metadata": {
    "collapsed": true
   },
   "outputs": [],
   "source": [
    "# model.add(MaxPooling1D(pool_size=2))"
   ]
  },
  {
   "cell_type": "markdown",
   "metadata": {},
   "source": [
    "Layer 2"
   ]
  },
  {
   "cell_type": "code",
   "execution_count": 10,
   "metadata": {},
   "outputs": [],
   "source": [
    "model.add(Conv1D(filters=6, kernel_size=(2), activation='relu'))"
   ]
  },
  {
   "cell_type": "code",
   "execution_count": 11,
   "metadata": {
    "collapsed": true
   },
   "outputs": [],
   "source": [
    "# model.add(MaxPooling1D(pool_size=2))"
   ]
  },
  {
   "cell_type": "markdown",
   "metadata": {},
   "source": [
    "Graduating past Convolution"
   ]
  },
  {
   "cell_type": "code",
   "execution_count": 12,
   "metadata": {
    "collapsed": true
   },
   "outputs": [],
   "source": [
    "model.add(Flatten())"
   ]
  },
  {
   "cell_type": "markdown",
   "metadata": {},
   "source": [
    "Fully-Connected layers"
   ]
  },
  {
   "cell_type": "code",
   "execution_count": 13,
   "metadata": {
    "collapsed": true
   },
   "outputs": [],
   "source": [
    "model.add(Dense(128, activation='relu'))"
   ]
  },
  {
   "cell_type": "code",
   "execution_count": 14,
   "metadata": {},
   "outputs": [],
   "source": [
    "model.add(Dense(n_y, activation='softmax'))"
   ]
  },
  {
   "cell_type": "markdown",
   "metadata": {},
   "source": [
    "Compile model with optimizer and loss function"
   ]
  },
  {
   "cell_type": "code",
   "execution_count": 15,
   "metadata": {
    "collapsed": true
   },
   "outputs": [],
   "source": [
    "model.compile(loss=keras.losses.categorical_crossentropy,\n",
    "              optimizer=keras.optimizers.Adam(),\n",
    "              metrics=['accuracy'])"
   ]
  },
  {
   "cell_type": "markdown",
   "metadata": {},
   "source": [
    "Fit it"
   ]
  },
  {
   "cell_type": "code",
   "execution_count": 16,
   "metadata": {},
   "outputs": [
    {
     "name": "stdout",
     "output_type": "stream",
     "text": [
      "Train on 1257 samples, validate on 356 samples\n",
      "Epoch 1/10\n",
      "1257/1257 [==============================] - 0s 319us/step - loss: 2.3054 - acc: 0.2609 - val_loss: 1.6242 - val_acc: 0.4438\n",
      "Epoch 2/10\n",
      "1257/1257 [==============================] - 0s 35us/step - loss: 1.3752 - acc: 0.5378 - val_loss: 1.1192 - val_acc: 0.6461\n",
      "Epoch 3/10\n",
      "1257/1257 [==============================] - 0s 38us/step - loss: 0.9413 - acc: 0.7049 - val_loss: 0.8343 - val_acc: 0.7331\n",
      "Epoch 4/10\n",
      "1257/1257 [==============================] - 0s 37us/step - loss: 0.6799 - acc: 0.7916 - val_loss: 0.6507 - val_acc: 0.8118\n",
      "Epoch 5/10\n",
      "1257/1257 [==============================] - 0s 41us/step - loss: 0.5051 - acc: 0.8560 - val_loss: 0.5233 - val_acc: 0.8315\n",
      "Epoch 6/10\n",
      "1257/1257 [==============================] - 0s 38us/step - loss: 0.4175 - acc: 0.8759 - val_loss: 0.4876 - val_acc: 0.8483\n",
      "Epoch 7/10\n",
      "1257/1257 [==============================] - 0s 40us/step - loss: 0.3402 - acc: 0.8926 - val_loss: 0.4500 - val_acc: 0.8680\n",
      "Epoch 8/10\n",
      "1257/1257 [==============================] - 0s 39us/step - loss: 0.3082 - acc: 0.9157 - val_loss: 0.3818 - val_acc: 0.8764\n",
      "Epoch 9/10\n",
      "1257/1257 [==============================] - 0s 35us/step - loss: 0.2591 - acc: 0.9212 - val_loss: 0.3377 - val_acc: 0.8989\n",
      "Epoch 10/10\n",
      "1257/1257 [==============================] - 0s 36us/step - loss: 0.2262 - acc: 0.9356 - val_loss: 0.3249 - val_acc: 0.9017\n"
     ]
    },
    {
     "data": {
      "text/plain": [
       "<tensorflow.python.keras.callbacks.History at 0x23584d340f0>"
      ]
     },
     "execution_count": 16,
     "metadata": {},
     "output_type": "execute_result"
    }
   ],
   "source": [
    "model.fit(X_train, y_train, batch_size=64, epochs=10, verbose=1,\n",
    "          validation_data=(X_dev, y_dev))"
   ]
  },
  {
   "cell_type": "markdown",
   "metadata": {},
   "source": [
    "### Evaluating"
   ]
  },
  {
   "cell_type": "code",
   "execution_count": 17,
   "metadata": {
    "collapsed": true
   },
   "outputs": [],
   "source": [
    "from sklearn.metrics import confusion_matrix\n",
    "from sklearn.metrics import precision_score, recall_score, accuracy_score"
   ]
  },
  {
   "cell_type": "code",
   "execution_count": 18,
   "metadata": {},
   "outputs": [
    {
     "data": {
      "text/plain": [
       "0.8832403870639165"
      ]
     },
     "execution_count": 18,
     "metadata": {},
     "output_type": "execute_result"
    }
   ],
   "source": [
    "precision_score(y_test.argmax(axis=1), model.predict(X_test).argmax(axis=1), average='macro')"
   ]
  },
  {
   "cell_type": "code",
   "execution_count": 19,
   "metadata": {},
   "outputs": [
    {
     "data": {
      "text/plain": [
       "0.88765537856498944"
      ]
     },
     "execution_count": 19,
     "metadata": {},
     "output_type": "execute_result"
    }
   ],
   "source": [
    "recall_score(y_test.argmax(axis=1), model.predict(X_test).argmax(axis=1), average='macro')"
   ]
  },
  {
   "cell_type": "code",
   "execution_count": 20,
   "metadata": {},
   "outputs": [
    {
     "data": {
      "text/plain": [
       "0.88043478260869568"
      ]
     },
     "execution_count": 20,
     "metadata": {},
     "output_type": "execute_result"
    }
   ],
   "source": [
    "accuracy_score(y_test.argmax(axis=1), model.predict(X_test).argmax(axis=1))"
   ]
  },
  {
   "cell_type": "code",
   "execution_count": 21,
   "metadata": {},
   "outputs": [
    {
     "data": {
      "text/plain": [
       "array([[17,  0,  0,  0,  1,  0,  1,  0,  0,  0],\n",
       "       [ 0, 13,  0,  0,  0,  0,  0,  0,  0,  0],\n",
       "       [ 0,  0, 14,  0,  0,  0,  0,  0,  1,  1],\n",
       "       [ 0,  0,  0, 18,  1,  0,  0,  0,  0,  0],\n",
       "       [ 0,  0,  0,  0, 12,  0,  1,  1,  0,  0],\n",
       "       [ 0,  0,  0,  0,  1, 20,  0,  0,  0,  2],\n",
       "       [ 0,  0,  0,  0,  0,  0, 21,  0,  2,  0],\n",
       "       [ 0,  0,  0,  1,  0,  0,  0, 14,  0,  0],\n",
       "       [ 0,  1,  1,  1,  0,  4,  1,  0, 14,  0],\n",
       "       [ 0,  0,  0,  0,  0,  0,  0,  1,  0, 19]], dtype=int64)"
      ]
     },
     "execution_count": 21,
     "metadata": {},
     "output_type": "execute_result"
    }
   ],
   "source": [
    "confusion_matrix(y_test.argmax(axis=1), model.predict(X_test).argmax(axis=1))"
   ]
  }
 ],
 "metadata": {
  "kernelspec": {
   "display_name": "Python 3",
   "language": "python",
   "name": "python3"
  },
  "language_info": {
   "codemirror_mode": {
    "name": "ipython",
    "version": 3
   },
   "file_extension": ".py",
   "mimetype": "text/x-python",
   "name": "python",
   "nbconvert_exporter": "python",
   "pygments_lexer": "ipython3",
   "version": "3.6.3"
  }
 },
 "nbformat": 4,
 "nbformat_minor": 2
}

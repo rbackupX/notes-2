{
 "cells": [
  {
   "cell_type": "raw",
   "metadata": {},
   "source": [
    "---\n",
    "title: \"Conditionally Dropping Columns\"\n",
    "date: 2018-06-07\n",
    "type: technical_note\n",
    "---"
   ]
  },
  {
   "cell_type": "code",
   "execution_count": 1,
   "metadata": {
    "collapsed": true
   },
   "outputs": [],
   "source": [
    "filepath = '../data/movieData.csv'"
   ]
  },
  {
   "cell_type": "markdown",
   "metadata": {},
   "source": [
    "## What We're Used To"
   ]
  },
  {
   "cell_type": "markdown",
   "metadata": {},
   "source": [
    "Dropping columns of data in `pandas` is a pretty trivial task."
   ]
  },
  {
   "cell_type": "code",
   "execution_count": 2,
   "metadata": {},
   "outputs": [
    {
     "data": {
      "text/html": [
       "<div>\n",
       "<style>\n",
       "    .dataframe thead tr:only-child th {\n",
       "        text-align: right;\n",
       "    }\n",
       "\n",
       "    .dataframe thead th {\n",
       "        text-align: left;\n",
       "    }\n",
       "\n",
       "    .dataframe tbody tr th {\n",
       "        vertical-align: top;\n",
       "    }\n",
       "</style>\n",
       "<table border=\"1\" class=\"dataframe\">\n",
       "  <thead>\n",
       "    <tr style=\"text-align: right;\">\n",
       "      <th></th>\n",
       "      <th>Rank</th>\n",
       "      <th>WeeklyGross</th>\n",
       "      <th>PctChangeWkGross</th>\n",
       "      <th>Theaters</th>\n",
       "      <th>DeltaTheaters</th>\n",
       "      <th>AvgRev</th>\n",
       "      <th>GrossToDate</th>\n",
       "      <th>Week</th>\n",
       "      <th>Thursday</th>\n",
       "      <th>name</th>\n",
       "      <th>year</th>\n",
       "      <th>Winner</th>\n",
       "    </tr>\n",
       "  </thead>\n",
       "  <tbody>\n",
       "    <tr>\n",
       "      <th>0</th>\n",
       "      <td>17.0</td>\n",
       "      <td>967378</td>\n",
       "      <td>NaN</td>\n",
       "      <td>14.0</td>\n",
       "      <td>NaN</td>\n",
       "      <td>69098.0</td>\n",
       "      <td>967378</td>\n",
       "      <td>1</td>\n",
       "      <td>1990-11-18</td>\n",
       "      <td>dances with wolves</td>\n",
       "      <td>1990</td>\n",
       "      <td>True</td>\n",
       "    </tr>\n",
       "    <tr>\n",
       "      <th>1</th>\n",
       "      <td>9.0</td>\n",
       "      <td>3871641</td>\n",
       "      <td>300.0</td>\n",
       "      <td>14.0</td>\n",
       "      <td>NaN</td>\n",
       "      <td>276546.0</td>\n",
       "      <td>4839019</td>\n",
       "      <td>2</td>\n",
       "      <td>1990-11-25</td>\n",
       "      <td>dances with wolves</td>\n",
       "      <td>1990</td>\n",
       "      <td>True</td>\n",
       "    </tr>\n",
       "    <tr>\n",
       "      <th>2</th>\n",
       "      <td>3.0</td>\n",
       "      <td>12547813</td>\n",
       "      <td>224.0</td>\n",
       "      <td>1048.0</td>\n",
       "      <td>1034.0</td>\n",
       "      <td>11973.0</td>\n",
       "      <td>17386832</td>\n",
       "      <td>3</td>\n",
       "      <td>1990-12-02</td>\n",
       "      <td>dances with wolves</td>\n",
       "      <td>1990</td>\n",
       "      <td>True</td>\n",
       "    </tr>\n",
       "    <tr>\n",
       "      <th>3</th>\n",
       "      <td>4.0</td>\n",
       "      <td>9246632</td>\n",
       "      <td>-26.3</td>\n",
       "      <td>1053.0</td>\n",
       "      <td>5.0</td>\n",
       "      <td>8781.0</td>\n",
       "      <td>26633464</td>\n",
       "      <td>4</td>\n",
       "      <td>1990-12-09</td>\n",
       "      <td>dances with wolves</td>\n",
       "      <td>1990</td>\n",
       "      <td>True</td>\n",
       "    </tr>\n",
       "    <tr>\n",
       "      <th>4</th>\n",
       "      <td>4.0</td>\n",
       "      <td>7272350</td>\n",
       "      <td>-21.4</td>\n",
       "      <td>1051.0</td>\n",
       "      <td>-2.0</td>\n",
       "      <td>6919.0</td>\n",
       "      <td>33905814</td>\n",
       "      <td>5</td>\n",
       "      <td>1990-12-16</td>\n",
       "      <td>dances with wolves</td>\n",
       "      <td>1990</td>\n",
       "      <td>True</td>\n",
       "    </tr>\n",
       "  </tbody>\n",
       "</table>\n",
       "</div>"
      ],
      "text/plain": [
       "   Rank  WeeklyGross  PctChangeWkGross  Theaters  DeltaTheaters    AvgRev  \\\n",
       "0  17.0       967378               NaN      14.0            NaN   69098.0   \n",
       "1   9.0      3871641             300.0      14.0            NaN  276546.0   \n",
       "2   3.0     12547813             224.0    1048.0         1034.0   11973.0   \n",
       "3   4.0      9246632             -26.3    1053.0            5.0    8781.0   \n",
       "4   4.0      7272350             -21.4    1051.0           -2.0    6919.0   \n",
       "\n",
       "   GrossToDate  Week    Thursday                name  year  Winner  \n",
       "0       967378     1  1990-11-18  dances with wolves  1990    True  \n",
       "1      4839019     2  1990-11-25  dances with wolves  1990    True  \n",
       "2     17386832     3  1990-12-02  dances with wolves  1990    True  \n",
       "3     26633464     4  1990-12-09  dances with wolves  1990    True  \n",
       "4     33905814     5  1990-12-16  dances with wolves  1990    True  "
      ]
     },
     "execution_count": 2,
     "metadata": {},
     "output_type": "execute_result"
    }
   ],
   "source": [
    "import pandas as pd\n",
    "\n",
    "df = pd.read_csv(filepath)\n",
    "df.head()"
   ]
  },
  {
   "cell_type": "markdown",
   "metadata": {},
   "source": [
    "We can either specify which columns we want to drop."
   ]
  },
  {
   "cell_type": "code",
   "execution_count": 3,
   "metadata": {},
   "outputs": [
    {
     "data": {
      "text/html": [
       "<div>\n",
       "<style>\n",
       "    .dataframe thead tr:only-child th {\n",
       "        text-align: right;\n",
       "    }\n",
       "\n",
       "    .dataframe thead th {\n",
       "        text-align: left;\n",
       "    }\n",
       "\n",
       "    .dataframe tbody tr th {\n",
       "        vertical-align: top;\n",
       "    }\n",
       "</style>\n",
       "<table border=\"1\" class=\"dataframe\">\n",
       "  <thead>\n",
       "    <tr style=\"text-align: right;\">\n",
       "      <th></th>\n",
       "      <th>PctChangeWkGross</th>\n",
       "      <th>Theaters</th>\n",
       "      <th>DeltaTheaters</th>\n",
       "      <th>AvgRev</th>\n",
       "      <th>GrossToDate</th>\n",
       "      <th>Week</th>\n",
       "      <th>Thursday</th>\n",
       "      <th>name</th>\n",
       "      <th>year</th>\n",
       "      <th>Winner</th>\n",
       "    </tr>\n",
       "  </thead>\n",
       "  <tbody>\n",
       "    <tr>\n",
       "      <th>0</th>\n",
       "      <td>NaN</td>\n",
       "      <td>14.0</td>\n",
       "      <td>NaN</td>\n",
       "      <td>69098.0</td>\n",
       "      <td>967378</td>\n",
       "      <td>1</td>\n",
       "      <td>1990-11-18</td>\n",
       "      <td>dances with wolves</td>\n",
       "      <td>1990</td>\n",
       "      <td>True</td>\n",
       "    </tr>\n",
       "    <tr>\n",
       "      <th>1</th>\n",
       "      <td>300.0</td>\n",
       "      <td>14.0</td>\n",
       "      <td>NaN</td>\n",
       "      <td>276546.0</td>\n",
       "      <td>4839019</td>\n",
       "      <td>2</td>\n",
       "      <td>1990-11-25</td>\n",
       "      <td>dances with wolves</td>\n",
       "      <td>1990</td>\n",
       "      <td>True</td>\n",
       "    </tr>\n",
       "    <tr>\n",
       "      <th>2</th>\n",
       "      <td>224.0</td>\n",
       "      <td>1048.0</td>\n",
       "      <td>1034.0</td>\n",
       "      <td>11973.0</td>\n",
       "      <td>17386832</td>\n",
       "      <td>3</td>\n",
       "      <td>1990-12-02</td>\n",
       "      <td>dances with wolves</td>\n",
       "      <td>1990</td>\n",
       "      <td>True</td>\n",
       "    </tr>\n",
       "    <tr>\n",
       "      <th>3</th>\n",
       "      <td>-26.3</td>\n",
       "      <td>1053.0</td>\n",
       "      <td>5.0</td>\n",
       "      <td>8781.0</td>\n",
       "      <td>26633464</td>\n",
       "      <td>4</td>\n",
       "      <td>1990-12-09</td>\n",
       "      <td>dances with wolves</td>\n",
       "      <td>1990</td>\n",
       "      <td>True</td>\n",
       "    </tr>\n",
       "    <tr>\n",
       "      <th>4</th>\n",
       "      <td>-21.4</td>\n",
       "      <td>1051.0</td>\n",
       "      <td>-2.0</td>\n",
       "      <td>6919.0</td>\n",
       "      <td>33905814</td>\n",
       "      <td>5</td>\n",
       "      <td>1990-12-16</td>\n",
       "      <td>dances with wolves</td>\n",
       "      <td>1990</td>\n",
       "      <td>True</td>\n",
       "    </tr>\n",
       "  </tbody>\n",
       "</table>\n",
       "</div>"
      ],
      "text/plain": [
       "   PctChangeWkGross  Theaters  DeltaTheaters    AvgRev  GrossToDate  Week  \\\n",
       "0               NaN      14.0            NaN   69098.0       967378     1   \n",
       "1             300.0      14.0            NaN  276546.0      4839019     2   \n",
       "2             224.0    1048.0         1034.0   11973.0     17386832     3   \n",
       "3             -26.3    1053.0            5.0    8781.0     26633464     4   \n",
       "4             -21.4    1051.0           -2.0    6919.0     33905814     5   \n",
       "\n",
       "     Thursday                name  year  Winner  \n",
       "0  1990-11-18  dances with wolves  1990    True  \n",
       "1  1990-11-25  dances with wolves  1990    True  \n",
       "2  1990-12-02  dances with wolves  1990    True  \n",
       "3  1990-12-09  dances with wolves  1990    True  \n",
       "4  1990-12-16  dances with wolves  1990    True  "
      ]
     },
     "execution_count": 3,
     "metadata": {},
     "output_type": "execute_result"
    }
   ],
   "source": [
    "df.drop(['Rank', 'WeeklyGross'], axis=1).head()"
   ]
  },
  {
   "cell_type": "markdown",
   "metadata": {},
   "source": [
    "Or write some condition to filter on and pipe it into the `DataFrame` selector.\n",
    "\n",
    "Let's imagine we only want columns that have a `'.'` in them."
   ]
  },
  {
   "cell_type": "code",
   "execution_count": 4,
   "metadata": {},
   "outputs": [
    {
     "data": {
      "text/plain": [
       "Rank                3836\n",
       "WeeklyGross            0\n",
       "PctChangeWkGross    3625\n",
       "Theaters            3836\n",
       "DeltaTheaters       3389\n",
       "AvgRev              3836\n",
       "GrossToDate            0\n",
       "Week                   0\n",
       "Thursday               0\n",
       "name                  13\n",
       "year                   0\n",
       "Winner                 0\n",
       "dtype: int64"
      ]
     },
     "execution_count": 4,
     "metadata": {},
     "output_type": "execute_result"
    }
   ],
   "source": [
    "dotCounts = df.apply(lambda x: x.map(str)\n",
    "                                .str.contains('\\.')).sum()\n",
    "dotCounts"
   ]
  },
  {
   "cell_type": "code",
   "execution_count": 5,
   "metadata": {},
   "outputs": [
    {
     "name": "stdout",
     "output_type": "stream",
     "text": [
      "Index(['Rank', 'PctChangeWkGross', 'Theaters', 'DeltaTheaters', 'AvgRev',\n",
      "       'name'],\n",
      "      dtype='object')\n"
     ]
    }
   ],
   "source": [
    "colsWithdots = dotCounts[dotCounts != 0].index\n",
    "print(colsWithdots)"
   ]
  },
  {
   "cell_type": "code",
   "execution_count": 6,
   "metadata": {},
   "outputs": [
    {
     "data": {
      "text/html": [
       "<div>\n",
       "<style>\n",
       "    .dataframe thead tr:only-child th {\n",
       "        text-align: right;\n",
       "    }\n",
       "\n",
       "    .dataframe thead th {\n",
       "        text-align: left;\n",
       "    }\n",
       "\n",
       "    .dataframe tbody tr th {\n",
       "        vertical-align: top;\n",
       "    }\n",
       "</style>\n",
       "<table border=\"1\" class=\"dataframe\">\n",
       "  <thead>\n",
       "    <tr style=\"text-align: right;\">\n",
       "      <th></th>\n",
       "      <th>Rank</th>\n",
       "      <th>PctChangeWkGross</th>\n",
       "      <th>Theaters</th>\n",
       "      <th>DeltaTheaters</th>\n",
       "      <th>AvgRev</th>\n",
       "      <th>name</th>\n",
       "    </tr>\n",
       "  </thead>\n",
       "  <tbody>\n",
       "    <tr>\n",
       "      <th>0</th>\n",
       "      <td>17.0</td>\n",
       "      <td>NaN</td>\n",
       "      <td>14.0</td>\n",
       "      <td>NaN</td>\n",
       "      <td>69098.0</td>\n",
       "      <td>dances with wolves</td>\n",
       "    </tr>\n",
       "    <tr>\n",
       "      <th>1</th>\n",
       "      <td>9.0</td>\n",
       "      <td>300.0</td>\n",
       "      <td>14.0</td>\n",
       "      <td>NaN</td>\n",
       "      <td>276546.0</td>\n",
       "      <td>dances with wolves</td>\n",
       "    </tr>\n",
       "    <tr>\n",
       "      <th>2</th>\n",
       "      <td>3.0</td>\n",
       "      <td>224.0</td>\n",
       "      <td>1048.0</td>\n",
       "      <td>1034.0</td>\n",
       "      <td>11973.0</td>\n",
       "      <td>dances with wolves</td>\n",
       "    </tr>\n",
       "    <tr>\n",
       "      <th>3</th>\n",
       "      <td>4.0</td>\n",
       "      <td>-26.3</td>\n",
       "      <td>1053.0</td>\n",
       "      <td>5.0</td>\n",
       "      <td>8781.0</td>\n",
       "      <td>dances with wolves</td>\n",
       "    </tr>\n",
       "    <tr>\n",
       "      <th>4</th>\n",
       "      <td>4.0</td>\n",
       "      <td>-21.4</td>\n",
       "      <td>1051.0</td>\n",
       "      <td>-2.0</td>\n",
       "      <td>6919.0</td>\n",
       "      <td>dances with wolves</td>\n",
       "    </tr>\n",
       "  </tbody>\n",
       "</table>\n",
       "</div>"
      ],
      "text/plain": [
       "   Rank  PctChangeWkGross  Theaters  DeltaTheaters    AvgRev  \\\n",
       "0  17.0               NaN      14.0            NaN   69098.0   \n",
       "1   9.0             300.0      14.0            NaN  276546.0   \n",
       "2   3.0             224.0    1048.0         1034.0   11973.0   \n",
       "3   4.0             -26.3    1053.0            5.0    8781.0   \n",
       "4   4.0             -21.4    1051.0           -2.0    6919.0   \n",
       "\n",
       "                 name  \n",
       "0  dances with wolves  \n",
       "1  dances with wolves  \n",
       "2  dances with wolves  \n",
       "3  dances with wolves  \n",
       "4  dances with wolves  "
      ]
     },
     "execution_count": 6,
     "metadata": {},
     "output_type": "execute_result"
    }
   ],
   "source": [
    "df[colsWithdots].head()"
   ]
  },
  {
   "cell_type": "markdown",
   "metadata": {},
   "source": [
    "Ez pz"
   ]
  },
  {
   "cell_type": "code",
   "execution_count": 7,
   "metadata": {},
   "outputs": [
    {
     "data": {
      "text/plain": [
       "759    l.a. confidential\n",
       "760    l.a. confidential\n",
       "761    l.a. confidential\n",
       "762    l.a. confidential\n",
       "763    l.a. confidential\n",
       "764    l.a. confidential\n",
       "765    l.a. confidential\n",
       "766    l.a. confidential\n",
       "767    l.a. confidential\n",
       "768    l.a. confidential\n",
       "769    l.a. confidential\n",
       "770    l.a. confidential\n",
       "771    l.a. confidential\n",
       "Name: name, dtype: object"
      ]
     },
     "execution_count": 7,
     "metadata": {},
     "output_type": "execute_result"
    }
   ],
   "source": [
    "df['name'][df['name'].str.contains('\\.')]"
   ]
  },
  {
   "cell_type": "markdown",
   "metadata": {},
   "source": [
    "I was curious, too."
   ]
  },
  {
   "cell_type": "markdown",
   "metadata": {},
   "source": [
    "## Now Spark"
   ]
  },
  {
   "cell_type": "markdown",
   "metadata": {},
   "source": [
    "Similarly, if we want to read this in as a `Spark DataFrame`, we'd do the following."
   ]
  },
  {
   "cell_type": "code",
   "execution_count": 8,
   "metadata": {
    "collapsed": true
   },
   "outputs": [],
   "source": [
    "import findspark\n",
    "findspark.init()\n",
    "\n",
    "import pyspark\n",
    "sc = pyspark.SparkContext()\n",
    "\n",
    "spark = pyspark.sql.SparkSession(sc)"
   ]
  },
  {
   "cell_type": "code",
   "execution_count": 9,
   "metadata": {},
   "outputs": [
    {
     "name": "stdout",
     "output_type": "stream",
     "text": [
      "+----+-----------+----------------+--------+-------------+--------+-----------+----+----------+------------------+----+------+\n",
      "|Rank|WeeklyGross|PctChangeWkGross|Theaters|DeltaTheaters|  AvgRev|GrossToDate|Week|  Thursday|              name|year|Winner|\n",
      "+----+-----------+----------------+--------+-------------+--------+-----------+----+----------+------------------+----+------+\n",
      "|17.0|     967378|            null|    14.0|         null| 69098.0|     967378|   1|1990-11-18|dances with wolves|1990|  True|\n",
      "| 9.0|    3871641|           300.0|    14.0|         null|276546.0|    4839019|   2|1990-11-25|dances with wolves|1990|  True|\n",
      "| 3.0|   12547813|           224.0|  1048.0|       1034.0| 11973.0|   17386832|   3|1990-12-02|dances with wolves|1990|  True|\n",
      "| 4.0|    9246632|           -26.3|  1053.0|          5.0|  8781.0|   26633464|   4|1990-12-09|dances with wolves|1990|  True|\n",
      "| 4.0|    7272350|           -21.4|  1051.0|         -2.0|  6919.0|   33905814|   5|1990-12-16|dances with wolves|1990|  True|\n",
      "+----+-----------+----------------+--------+-------------+--------+-----------+----+----------+------------------+----+------+\n",
      "only showing top 5 rows\n",
      "\n"
     ]
    }
   ],
   "source": [
    "df = spark.read.csv(filepath, header=True)\n",
    "\n",
    "df.show(5)"
   ]
  },
  {
   "cell_type": "markdown",
   "metadata": {},
   "source": [
    "But trying to drop columns is a little involved."
   ]
  },
  {
   "cell_type": "markdown",
   "metadata": {},
   "source": [
    "We can specify which column names we want to keep."
   ]
  },
  {
   "cell_type": "code",
   "execution_count": 10,
   "metadata": {},
   "outputs": [
    {
     "name": "stdout",
     "output_type": "stream",
     "text": [
      "+----+----------------+--------+-------------+--------+------------------+\n",
      "|Rank|PctChangeWkGross|Theaters|DeltaTheaters|  AvgRev|              name|\n",
      "+----+----------------+--------+-------------+--------+------------------+\n",
      "|17.0|            null|    14.0|         null| 69098.0|dances with wolves|\n",
      "| 9.0|           300.0|    14.0|         null|276546.0|dances with wolves|\n",
      "| 3.0|           224.0|  1048.0|       1034.0| 11973.0|dances with wolves|\n",
      "| 4.0|           -26.3|  1053.0|          5.0|  8781.0|dances with wolves|\n",
      "| 4.0|           -21.4|  1051.0|         -2.0|  6919.0|dances with wolves|\n",
      "+----+----------------+--------+-------------+--------+------------------+\n",
      "only showing top 5 rows\n",
      "\n"
     ]
    }
   ],
   "source": [
    "df.select('Rank', 'PctChangeWkGross', 'Theaters',\n",
    "          'DeltaTheaters', 'AvgRev', 'name').show(5)"
   ]
  },
  {
   "cell_type": "markdown",
   "metadata": {},
   "source": [
    "But we won't have the column names figured out, so we need to figure out how to get at them, procedurally."
   ]
  },
  {
   "cell_type": "markdown",
   "metadata": {},
   "source": [
    "## Building Column Conditions"
   ]
  },
  {
   "cell_type": "markdown",
   "metadata": {},
   "source": [
    "We're going to need some handy functions to facilitate this"
   ]
  },
  {
   "cell_type": "code",
   "execution_count": 11,
   "metadata": {},
   "outputs": [],
   "source": [
    "from pyspark.sql.functions import col, count, when"
   ]
  },
  {
   "cell_type": "markdown",
   "metadata": {},
   "source": [
    "For simplicity, let's just focus on just the `PctChangeWkGross` column. We'll scale up after."
   ]
  },
  {
   "cell_type": "markdown",
   "metadata": {},
   "source": [
    "So first, we'll use the `col` function on a string to make an instance of the `Col` class."
   ]
  },
  {
   "cell_type": "code",
   "execution_count": 12,
   "metadata": {},
   "outputs": [],
   "source": [
    "pcwg = col('PctChangeWkGross')"
   ]
  },
  {
   "cell_type": "markdown",
   "metadata": {},
   "source": [
    "So let's check if each value contains a `'.'` character"
   ]
  },
  {
   "cell_type": "code",
   "execution_count": 13,
   "metadata": {},
   "outputs": [
    {
     "data": {
      "text/plain": [
       "3845"
      ]
     },
     "execution_count": 13,
     "metadata": {},
     "output_type": "execute_result"
    }
   ],
   "source": [
    "df.select(\n",
    "    pcwg.contains('.')\n",
    ").count()"
   ]
  },
  {
   "cell_type": "markdown",
   "metadata": {},
   "source": [
    "Hmm, that doesn't seem right. That's the length of everything."
   ]
  },
  {
   "cell_type": "code",
   "execution_count": 14,
   "metadata": {},
   "outputs": [
    {
     "data": {
      "text/plain": [
       "3845"
      ]
     },
     "execution_count": 14,
     "metadata": {},
     "output_type": "execute_result"
    }
   ],
   "source": [
    "df.count()"
   ]
  },
  {
   "cell_type": "markdown",
   "metadata": {},
   "source": [
    "So we need to additionally add the `count` column function"
   ]
  },
  {
   "cell_type": "code",
   "execution_count": 15,
   "metadata": {},
   "outputs": [
    {
     "name": "stdout",
     "output_type": "stream",
     "text": [
      "+------------------------------------+\n",
      "|count(contains(PctChangeWkGross, .))|\n",
      "+------------------------------------+\n",
      "|                                3625|\n",
      "+------------------------------------+\n",
      "\n"
     ]
    }
   ],
   "source": [
    "df.select(\n",
    "    count(pcwg.contains('.'))\n",
    ").show()"
   ]
  },
  {
   "cell_type": "markdown",
   "metadata": {},
   "source": [
    "We shed like 200 records. That's more like it. Let's see what happens with column that we know doesn't have any.\n",
    "\n",
    "`Thursday` is all `yyyy-mm-dd`."
   ]
  },
  {
   "cell_type": "code",
   "execution_count": 16,
   "metadata": {},
   "outputs": [
    {
     "name": "stdout",
     "output_type": "stream",
     "text": [
      "+----------------------------+\n",
      "|count(contains(Thursday, .))|\n",
      "+----------------------------+\n",
      "|                        3845|\n",
      "+----------------------------+\n",
      "\n"
     ]
    }
   ],
   "source": [
    "df.select(\n",
    "    count(col('Thursday').contains('.'))\n",
    ").show()"
   ]
  },
  {
   "cell_type": "markdown",
   "metadata": {},
   "source": [
    "Still wrong. It's `count`ing a bunch of `False` values. Last step, we need a way to make it not count these values.\n",
    "\n",
    "This is where we'll use the `when` function. The top 5 values of `Thursday` look like this."
   ]
  },
  {
   "cell_type": "code",
   "execution_count": 17,
   "metadata": {},
   "outputs": [
    {
     "name": "stdout",
     "output_type": "stream",
     "text": [
      "+----------+\n",
      "|  Thursday|\n",
      "+----------+\n",
      "|1990-11-18|\n",
      "|1990-11-25|\n",
      "|1990-12-02|\n",
      "|1990-12-09|\n",
      "|1990-12-16|\n",
      "+----------+\n",
      "only showing top 5 rows\n",
      "\n"
     ]
    }
   ],
   "source": [
    "df.select('Thursday').show(5)"
   ]
  },
  {
   "cell_type": "markdown",
   "metadata": {},
   "source": [
    "`when` takes two arguments:\n",
    "- A `Column` of values with a broadcasted check\n",
    "- A value for \"if the check evaluates to `True`\"\n",
    "\n",
    "Anything that evaluates to `False` becomes NULL"
   ]
  },
  {
   "cell_type": "code",
   "execution_count": 18,
   "metadata": {},
   "outputs": [
    {
     "name": "stdout",
     "output_type": "stream",
     "text": [
      "+-------------------------------------------+\n",
      "|CASE WHEN contains(Thursday, 11) THEN 0 END|\n",
      "+-------------------------------------------+\n",
      "|                                          0|\n",
      "|                                          0|\n",
      "|                                       null|\n",
      "|                                       null|\n",
      "|                                       null|\n",
      "+-------------------------------------------+\n",
      "only showing top 5 rows\n",
      "\n"
     ]
    }
   ],
   "source": [
    "df.select((when(col('Thursday').contains('11'), 0))).show(5)"
   ]
  },
  {
   "cell_type": "markdown",
   "metadata": {},
   "source": [
    "And `count` will skip right over it."
   ]
  },
  {
   "cell_type": "code",
   "execution_count": 19,
   "metadata": {},
   "outputs": [
    {
     "name": "stdout",
     "output_type": "stream",
     "text": [
      "+--------------------------------------------------+\n",
      "|count(CASE WHEN contains(Thursday, 11) THEN 0 END)|\n",
      "+--------------------------------------------------+\n",
      "|                                               578|\n",
      "+--------------------------------------------------+\n",
      "\n"
     ]
    }
   ],
   "source": [
    "df.select(count(when(col('Thursday').contains('11'), 0))).show(5)"
   ]
  },
  {
   "cell_type": "markdown",
   "metadata": {},
   "source": [
    "### At Scale"
   ]
  },
  {
   "cell_type": "markdown",
   "metadata": {},
   "source": [
    "Now to do this for multiple columns, we need to do some clever list comprehension"
   ]
  },
  {
   "cell_type": "code",
   "execution_count": 20,
   "metadata": {},
   "outputs": [
    {
     "data": {
      "text/plain": [
       "[Row(count(CASE WHEN contains(Rank, .) THEN 0 END)=3836, count(CASE WHEN contains(WeeklyGross, .) THEN 0 END)=0, count(CASE WHEN contains(PctChangeWkGross, .) THEN 0 END)=3625, count(CASE WHEN contains(Theaters, .) THEN 0 END)=3836, count(CASE WHEN contains(DeltaTheaters, .) THEN 0 END)=3389, count(CASE WHEN contains(AvgRev, .) THEN 0 END)=3836, count(CASE WHEN contains(GrossToDate, .) THEN 0 END)=0, count(CASE WHEN contains(Week, .) THEN 0 END)=0, count(CASE WHEN contains(Thursday, .) THEN 0 END)=0, count(CASE WHEN contains(name, .) THEN 0 END)=13, count(CASE WHEN contains(year, .) THEN 0 END)=0, count(CASE WHEN contains(Winner, .) THEN 0 END)=0)]"
      ]
     },
     "execution_count": 20,
     "metadata": {},
     "output_type": "execute_result"
    }
   ],
   "source": [
    "df.select(\n",
    "    [count(when(col(x).contains('.'), 0)) for x in df.columns]\n",
    ").collect()"
   ]
  },
  {
   "cell_type": "markdown",
   "metadata": {},
   "source": [
    "But that looks crazy gross. `alias` to the rescue."
   ]
  },
  {
   "cell_type": "code",
   "execution_count": 21,
   "metadata": {},
   "outputs": [
    {
     "name": "stdout",
     "output_type": "stream",
     "text": [
      "+----+-----------+----------------+--------+-------------+------+-----------+----+--------+----+----+------+\n",
      "|Rank|WeeklyGross|PctChangeWkGross|Theaters|DeltaTheaters|AvgRev|GrossToDate|Week|Thursday|name|year|Winner|\n",
      "+----+-----------+----------------+--------+-------------+------+-----------+----+--------+----+----+------+\n",
      "|3836|          0|            3625|    3836|         3389|  3836|          0|   0|       0|  13|   0|     0|\n",
      "+----+-----------+----------------+--------+-------------+------+-----------+----+--------+----+----+------+\n",
      "\n"
     ]
    }
   ],
   "source": [
    "dotCounts = df.select(\n",
    "               [count(when(col(x).contains('.'), 0)).alias(x) for x in df.columns]\n",
    "            )\n",
    "dotCounts.show(5)"
   ]
  },
  {
   "cell_type": "markdown",
   "metadata": {},
   "source": [
    "Let's bring it home with some list comprehension"
   ]
  },
  {
   "cell_type": "code",
   "execution_count": 22,
   "metadata": {},
   "outputs": [],
   "source": [
    "colsWithDots = [c for c in dotCounts.columns\n",
    "                if dotCounts[[c]].first()[c] == 0]"
   ]
  },
  {
   "cell_type": "code",
   "execution_count": 23,
   "metadata": {},
   "outputs": [
    {
     "name": "stdout",
     "output_type": "stream",
     "text": [
      "+-----------+-----------+----+----------+----+------+\n",
      "|WeeklyGross|GrossToDate|Week|  Thursday|year|Winner|\n",
      "+-----------+-----------+----+----------+----+------+\n",
      "|     967378|     967378|   1|1990-11-18|1990|  True|\n",
      "|    3871641|    4839019|   2|1990-11-25|1990|  True|\n",
      "|   12547813|   17386832|   3|1990-12-02|1990|  True|\n",
      "|    9246632|   26633464|   4|1990-12-09|1990|  True|\n",
      "|    7272350|   33905814|   5|1990-12-16|1990|  True|\n",
      "+-----------+-----------+----+----------+----+------+\n",
      "only showing top 5 rows\n",
      "\n"
     ]
    }
   ],
   "source": [
    "df.select(colsWithDots).show(5)"
   ]
  },
  {
   "cell_type": "markdown",
   "metadata": {},
   "source": [
    "## Dropping Columns with NULL Data"
   ]
  },
  {
   "cell_type": "markdown",
   "metadata": {},
   "source": [
    "Same general approach applies to a more practical application of dropping columns with NULL values"
   ]
  },
  {
   "cell_type": "code",
   "execution_count": 24,
   "metadata": {
    "collapsed": true
   },
   "outputs": [],
   "source": [
    "from pyspark.sql.functions import isnan, isnull"
   ]
  },
  {
   "cell_type": "code",
   "execution_count": 25,
   "metadata": {},
   "outputs": [
    {
     "name": "stdout",
     "output_type": "stream",
     "text": [
      "+----+-----------+----------------+--------+-------------+------+-----------+----+--------+----+----+------+\n",
      "|Rank|WeeklyGross|PctChangeWkGross|Theaters|DeltaTheaters|AvgRev|GrossToDate|Week|Thursday|name|year|Winner|\n",
      "+----+-----------+----------------+--------+-------------+------+-----------+----+--------+----+----+------+\n",
      "|   9|          0|             220|       9|          456|     9|          0|   0|       0|   0|   0|     0|\n",
      "+----+-----------+----------------+--------+-------------+------+-----------+----+--------+----+----+------+\n",
      "\n"
     ]
    }
   ],
   "source": [
    "nullCounts = df.select([count(when(isnan(c)|isnull(c), c)).alias(c) for c in df.columns])\n",
    "\n",
    "nullCounts.show()"
   ]
  },
  {
   "cell_type": "code",
   "execution_count": 26,
   "metadata": {},
   "outputs": [],
   "source": [
    "nonNull_cols = [c for c in nullCounts.columns if nullCounts[[c]].first()[c] == 0]"
   ]
  },
  {
   "cell_type": "code",
   "execution_count": 27,
   "metadata": {},
   "outputs": [
    {
     "name": "stdout",
     "output_type": "stream",
     "text": [
      "+-----------+-----------+----+----------+------------------+----+------+\n",
      "|WeeklyGross|GrossToDate|Week|  Thursday|              name|year|Winner|\n",
      "+-----------+-----------+----+----------+------------------+----+------+\n",
      "|     967378|     967378|   1|1990-11-18|dances with wolves|1990|  True|\n",
      "|    3871641|    4839019|   2|1990-11-25|dances with wolves|1990|  True|\n",
      "|   12547813|   17386832|   3|1990-12-02|dances with wolves|1990|  True|\n",
      "|    9246632|   26633464|   4|1990-12-09|dances with wolves|1990|  True|\n",
      "|    7272350|   33905814|   5|1990-12-16|dances with wolves|1990|  True|\n",
      "+-----------+-----------+----+----------+------------------+----+------+\n",
      "only showing top 5 rows\n",
      "\n"
     ]
    }
   ],
   "source": [
    "df.select(nonNull_cols).show(5)"
   ]
  },
  {
   "cell_type": "markdown",
   "metadata": {},
   "source": [
    "This is probably handy enough to package into a function"
   ]
  },
  {
   "cell_type": "code",
   "execution_count": 28,
   "metadata": {
    "collapsed": true
   },
   "outputs": [],
   "source": [
    "def drop_null_cols(frame, threshold):\n",
    "    '''\n",
    "    Drop columns from a `PySpark.DataFrame` that \n",
    "    have more than `threshold` NULL values\n",
    "    '''\n",
    "    nullCounts = frame.select([count(when(isnan(c)|isnull(c), c))\n",
    "                               .alias(c) for c in frame.columns])\n",
    "    nonNullCols = [c for c in nullCounts.columns\n",
    "                   if nullCounts[[c]].first()[c] < threshold]\n",
    "    return frame.select(nonNullCols)"
   ]
  },
  {
   "cell_type": "code",
   "execution_count": 29,
   "metadata": {},
   "outputs": [
    {
     "name": "stdout",
     "output_type": "stream",
     "text": [
      "+----+-----------+--------+--------+-----------+----+----------+------------------+----+------+\n",
      "|Rank|WeeklyGross|Theaters|  AvgRev|GrossToDate|Week|  Thursday|              name|year|Winner|\n",
      "+----+-----------+--------+--------+-----------+----+----------+------------------+----+------+\n",
      "|17.0|     967378|    14.0| 69098.0|     967378|   1|1990-11-18|dances with wolves|1990|  True|\n",
      "| 9.0|    3871641|    14.0|276546.0|    4839019|   2|1990-11-25|dances with wolves|1990|  True|\n",
      "| 3.0|   12547813|  1048.0| 11973.0|   17386832|   3|1990-12-02|dances with wolves|1990|  True|\n",
      "| 4.0|    9246632|  1053.0|  8781.0|   26633464|   4|1990-12-09|dances with wolves|1990|  True|\n",
      "| 4.0|    7272350|  1051.0|  6919.0|   33905814|   5|1990-12-16|dances with wolves|1990|  True|\n",
      "+----+-----------+--------+--------+-----------+----+----------+------------------+----+------+\n",
      "only showing top 5 rows\n",
      "\n"
     ]
    }
   ],
   "source": [
    "drop_null_cols(df, 100).show(5)"
   ]
  }
 ],
 "metadata": {
  "kernelspec": {
   "display_name": "Python 3",
   "language": "python",
   "name": "python3"
  },
  "language_info": {
   "codemirror_mode": {
    "name": "ipython",
    "version": 3
   },
   "file_extension": ".py",
   "mimetype": "text/x-python",
   "name": "python",
   "nbconvert_exporter": "python",
   "pygments_lexer": "ipython3",
   "version": "3.6.3"
  }
 },
 "nbformat": 4,
 "nbformat_minor": 2
}

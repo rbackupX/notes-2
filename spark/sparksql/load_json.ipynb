{
 "cells": [
  {
   "cell_type": "raw",
   "metadata": {},
   "source": [
    "---\n",
    "title: \"Loading JSON\"\n",
    "date: 2018-06-06\n",
    "type: technical_note\n",
    "---"
   ]
  },
  {
   "cell_type": "code",
   "execution_count": 1,
   "metadata": {
    "collapsed": true
   },
   "outputs": [],
   "source": [
    "import findspark\n",
    "findspark.init()\n",
    "\n",
    "import pyspark\n",
    "sc = pyspark.SparkContext()"
   ]
  },
  {
   "cell_type": "markdown",
   "metadata": {},
   "source": [
    "One of the examples in repository accompanying the Learning Spark book I'm working through is a JSON payload of a tweet by the author.\n",
    "\n",
    "It's pretty data-rich-- this is *one* result from whatever API generated the example."
   ]
  },
  {
   "cell_type": "code",
   "execution_count": 2,
   "metadata": {},
   "outputs": [
    {
     "data": {
      "text/plain": [
       "'{\"createdAt\":\"Nov 4, 2014 4:56:59 PM\",\"id\":529799371026485248,\"text\":\"Adventures With Coffee, Code, and Writing.\",\"source\":\"\\\\u003ca href\\\\u003d\\\\\"http://twitter.com\\\\\" rel\\\\u003d\\\\\"nofollow\\\\\"\\\\u003eTwitter Web Client\\\\u003c/a\\\\u003e\",\"isTruncated\":false,\"inReplyToStatusId\":-1,\"inReplyToUserId\":-1,\"isFavorited\":false,\"retweetCount\":0,\"isPossiblySensitive\":false,\"contributorsIDs\":[],\"userMentionEntities\":[],\"urlEntities\":[],\"hashtagEntities\":[],\"mediaEntities\":[],\"currentUserRetweetId\":-1,\"user\":{\"id\":15594928,\"name\":\"Holden Karau\",\"screenName\":\"holdenkarau\",\"location\":\"\",\"description\":\"\",\"descriptionURLEntities\":[],\"isContributorsEnabled\":false,\"profileImageUrl\":\"http://pbs.twimg.com/profile_images/3005696115/2036374bbadbed85249cdd50aac6e170_normal.jpeg\",\"profileImageUrlHttps\":\"https://pbs.twimg.com/profile_images/3005696115/2036374bbadbed85249cdd50aac6e170_normal.jpeg\",\"isProtected\":false,\"followersCount\":1231,\"profileBackgroundColor\":\"C0DEED\",\"profileTextColor\":\"333333\",\"profileLinkColor\":\"0084B4\",\"profileSidebarFillColor\":\"DDEEF6\",\"profileSidebarBorderColor\":\"FFFFFF\",\"profileUseBackgroundImage\":true,\"showAllInlineMedia\":false,\"friendsCount\":600,\"createdAt\":\"Aug 5, 2011 9:42:44 AM\",\"favouritesCount\":1095,\"utcOffset\":-3,\"profileBackgroundImageUrl\":\"\",\"profileBackgroundImageUrlHttps\":\"\",\"profileBannerImageUrl\":\"\",\"profileBackgroundTiled\":true,\"lang\":\"en\",\"statusesCount\":6234,\"isGeoEnabled\":true,\"isVerified\":false,\"translator\":false,\"listedCount\":0,\"isFollowRequestSent\":false}}\\n'"
      ]
     },
     "execution_count": 2,
     "metadata": {},
     "output_type": "execute_result"
    }
   ],
   "source": [
    "open('../data/testweet.json').read()"
   ]
  },
  {
   "cell_type": "markdown",
   "metadata": {},
   "source": [
    "## In PySpark"
   ]
  },
  {
   "cell_type": "markdown",
   "metadata": {},
   "source": [
    "If we wanted to work with this data in PySpark, we'd first have to set up a `SparkSession` object."
   ]
  },
  {
   "cell_type": "code",
   "execution_count": 4,
   "metadata": {
    "collapsed": true
   },
   "outputs": [],
   "source": [
    "spark = pyspark.sql.SparkSession(sc)"
   ]
  },
  {
   "cell_type": "markdown",
   "metadata": {},
   "source": [
    "And use it's `read.json` method."
   ]
  },
  {
   "cell_type": "code",
   "execution_count": 5,
   "metadata": {
    "collapsed": true
   },
   "outputs": [],
   "source": [
    "data = spark.read.json('../data/testweet.json')"
   ]
  },
  {
   "cell_type": "markdown",
   "metadata": {},
   "source": [
    "We de-tangle some of the complexity of this object using the `printSchema` method"
   ]
  },
  {
   "cell_type": "code",
   "execution_count": 6,
   "metadata": {
    "scrolled": false
   },
   "outputs": [
    {
     "name": "stdout",
     "output_type": "stream",
     "text": [
      "root\n",
      " |-- contributorsIDs: array (nullable = true)\n",
      " |    |-- element: string (containsNull = true)\n",
      " |-- createdAt: string (nullable = true)\n",
      " |-- currentUserRetweetId: long (nullable = true)\n",
      " |-- hashtagEntities: array (nullable = true)\n",
      " |    |-- element: string (containsNull = true)\n",
      " |-- id: long (nullable = true)\n",
      " |-- inReplyToStatusId: long (nullable = true)\n",
      " |-- inReplyToUserId: long (nullable = true)\n",
      " |-- isFavorited: boolean (nullable = true)\n",
      " |-- isPossiblySensitive: boolean (nullable = true)\n",
      " |-- isTruncated: boolean (nullable = true)\n",
      " |-- mediaEntities: array (nullable = true)\n",
      " |    |-- element: string (containsNull = true)\n",
      " |-- retweetCount: long (nullable = true)\n",
      " |-- source: string (nullable = true)\n",
      " |-- text: string (nullable = true)\n",
      " |-- urlEntities: array (nullable = true)\n",
      " |    |-- element: string (containsNull = true)\n",
      " |-- user: struct (nullable = true)\n",
      " |    |-- createdAt: string (nullable = true)\n",
      " |    |-- description: string (nullable = true)\n",
      " |    |-- descriptionURLEntities: array (nullable = true)\n",
      " |    |    |-- element: string (containsNull = true)\n",
      " |    |-- favouritesCount: long (nullable = true)\n",
      " |    |-- followersCount: long (nullable = true)\n",
      " |    |-- friendsCount: long (nullable = true)\n",
      " |    |-- id: long (nullable = true)\n",
      " |    |-- isContributorsEnabled: boolean (nullable = true)\n",
      " |    |-- isFollowRequestSent: boolean (nullable = true)\n",
      " |    |-- isGeoEnabled: boolean (nullable = true)\n",
      " |    |-- isProtected: boolean (nullable = true)\n",
      " |    |-- isVerified: boolean (nullable = true)\n",
      " |    |-- lang: string (nullable = true)\n",
      " |    |-- listedCount: long (nullable = true)\n",
      " |    |-- location: string (nullable = true)\n",
      " |    |-- name: string (nullable = true)\n",
      " |    |-- profileBackgroundColor: string (nullable = true)\n",
      " |    |-- profileBackgroundImageUrl: string (nullable = true)\n",
      " |    |-- profileBackgroundImageUrlHttps: string (nullable = true)\n",
      " |    |-- profileBackgroundTiled: boolean (nullable = true)\n",
      " |    |-- profileBannerImageUrl: string (nullable = true)\n",
      " |    |-- profileImageUrl: string (nullable = true)\n",
      " |    |-- profileImageUrlHttps: string (nullable = true)\n",
      " |    |-- profileLinkColor: string (nullable = true)\n",
      " |    |-- profileSidebarBorderColor: string (nullable = true)\n",
      " |    |-- profileSidebarFillColor: string (nullable = true)\n",
      " |    |-- profileTextColor: string (nullable = true)\n",
      " |    |-- profileUseBackgroundImage: boolean (nullable = true)\n",
      " |    |-- screenName: string (nullable = true)\n",
      " |    |-- showAllInlineMedia: boolean (nullable = true)\n",
      " |    |-- statusesCount: long (nullable = true)\n",
      " |    |-- translator: boolean (nullable = true)\n",
      " |    |-- utcOffset: long (nullable = true)\n",
      " |-- userMentionEntities: array (nullable = true)\n",
      " |    |-- element: string (containsNull = true)\n",
      "\n"
     ]
    }
   ],
   "source": [
    "data.printSchema()"
   ]
  }
 ],
 "metadata": {
  "kernelspec": {
   "display_name": "Python 3",
   "language": "python",
   "name": "python3"
  },
  "language_info": {
   "codemirror_mode": {
    "name": "ipython",
    "version": 3
   },
   "file_extension": ".py",
   "mimetype": "text/x-python",
   "name": "python",
   "nbconvert_exporter": "python",
   "pygments_lexer": "ipython3",
   "version": "3.6.3"
  }
 },
 "nbformat": 4,
 "nbformat_minor": 2
}

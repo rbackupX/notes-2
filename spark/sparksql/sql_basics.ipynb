{
 "cells": [
  {
   "cell_type": "raw",
   "metadata": {},
   "source": [
    "---\n",
    "title: \"Doing Basic SQL Things\"\n",
    "date: 2018-06-06\n",
    "type: technical_note\n",
    "---"
   ]
  },
  {
   "cell_type": "markdown",
   "metadata": {},
   "source": [
    "It's called Spark SQL for a reason, right? How can we utilize Spark to do similar actions to things we're familiar when working in SQL?"
   ]
  },
  {
   "cell_type": "code",
   "execution_count": 1,
   "metadata": {
    "collapsed": true
   },
   "outputs": [],
   "source": [
    "import findspark\n",
    "findspark.init()\n",
    "\n",
    "import pyspark\n",
    "sc = pyspark.SparkContext()"
   ]
  },
  {
   "cell_type": "markdown",
   "metadata": {},
   "source": [
    "If we want to interface with the Spark SQL API, we have to spin up a `SparkSession` object in our current `SparkContext`"
   ]
  },
  {
   "cell_type": "code",
   "execution_count": 2,
   "metadata": {
    "collapsed": true
   },
   "outputs": [],
   "source": [
    "spark = pyspark.sql.SparkSession(sc)"
   ]
  },
  {
   "cell_type": "markdown",
   "metadata": {},
   "source": [
    "## Our Data"
   ]
  },
  {
   "cell_type": "markdown",
   "metadata": {},
   "source": [
    "Say we have some simple structured data representing calls within the UK (curated by the authors of Learning Apache Spark)"
   ]
  },
  {
   "cell_type": "code",
   "execution_count": 3,
   "metadata": {},
   "outputs": [
    {
     "data": {
      "text/plain": [
       "pyspark.sql.dataframe.DataFrame"
      ]
     },
     "execution_count": 3,
     "metadata": {},
     "output_type": "execute_result"
    }
   ],
   "source": [
    "calls = spark.read.json('../data/callDetails.json')\n",
    "\n",
    "type(calls)"
   ]
  },
  {
   "cell_type": "markdown",
   "metadata": {},
   "source": [
    "And because it's basically a table, we can neatly take a look at the first handful of records with `show`"
   ]
  },
  {
   "cell_type": "code",
   "execution_count": 4,
   "metadata": {},
   "outputs": [
    {
     "name": "stdout",
     "output_type": "stream",
     "text": [
      "+----------+-------------------+--------------+--------------+--------------+--------------+\n",
      "|CallCharge|           DateTime|          Dest|        Origin|OriginatingNum|TerminatingNum|\n",
      "+----------+-------------------+--------------+--------------+--------------+--------------+\n",
      "|       549|02/11/2016 01:51:41|    Birmingham|        London|     797308107|     797131221|\n",
      "|      2645|05/02/2016 01:26:54|        London|    Manchester|     777121117|     777440392|\n",
      "|      1233|01/12/2016 21:12:54|    Manchester|      Victoria|     797009202|     784243404|\n",
      "|      2651|07/11/2016 01:07:34|      Victoria|    Twickenham|     777557705|     798420467|\n",
      "|      3162|02/11/2016 22:22:26|      Scotland|         Leeds|     785434022|     779086250|\n",
      "|      2246|05/01/2016 20:12:35|Virginia Water|      Bradford|     779716202|     795137353|\n",
      "|       571|04/12/2016 23:53:52|         Ascot|     Yorkshire|     775490102|     775019605|\n",
      "|      3291|06/11/2016 20:31:49|     Bracknell|    Birmingham|     787581376|     797043387|\n",
      "|      2270|03/12/2016 12:15:17|      Bradford|     Coventary|     789231956|     787649491|\n",
      "|      3420|06/02/2016 20:57:44|     Yorkshire|         Wales|     785969980|     789993090|\n",
      "|      3084|02/01/2016 02:44:27|    Birmingham|      Scotland|     797662091|     777765510|\n",
      "|      3037|09/01/2016 00:48:43|        Marlow|Virginia Water|     784036802|     798095485|\n",
      "|      3011|08/11/2016 20:19:19|   Sunningdale|         Ascot|     785160169|     797922170|\n",
      "|      1018|05/01/2016 11:24:28|         Lords|     Bracknell|     789519210|     774080821|\n",
      "|       771|02/12/2016 02:07:09|          Oval|        Marlow|     775617249|     786549418|\n",
      "|      3585|07/11/2016 03:43:23|     Coventary|   Sunningdale|     797932062|     788292522|\n",
      "|       908|06/01/2016 23:08:06|         Wales|         Lords|     777561966|     788455450|\n",
      "|        95|04/12/2016 24:17:54|      Scotland|          Oval|     777508024|     789954417|\n",
      "|      2754|03/11/2016 00:45:24|    Birmingham|    Birmingham|     777087537|     778710691|\n",
      "|      1327|03/01/2016 03:11:03|     Coventary|        London|     774688108|     797626213|\n",
      "+----------+-------------------+--------------+--------------+--------------+--------------+\n",
      "only showing top 20 rows\n",
      "\n"
     ]
    }
   ],
   "source": [
    "calls.show()"
   ]
  },
  {
   "cell_type": "markdown",
   "metadata": {},
   "source": [
    "Which is much more helpful than the default `__repr__` method, which basically just shows the schema."
   ]
  },
  {
   "cell_type": "code",
   "execution_count": 5,
   "metadata": {},
   "outputs": [
    {
     "data": {
      "text/plain": [
       "DataFrame[CallCharge: bigint, DateTime: string, Dest: string, Origin: string, OriginatingNum: bigint, TerminatingNum: bigint]"
      ]
     },
     "execution_count": 5,
     "metadata": {},
     "output_type": "execute_result"
    }
   ],
   "source": [
    "calls"
   ]
  },
  {
   "cell_type": "markdown",
   "metadata": {},
   "source": [
    "## Familiar SQL Operations"
   ]
  },
  {
   "cell_type": "markdown",
   "metadata": {},
   "source": [
    "### Shape"
   ]
  },
  {
   "cell_type": "markdown",
   "metadata": {},
   "source": [
    "The `DataFrame` object doesn't have a `len()` representation, so when we want to determine the number of rows, we'll use the `count`"
   ]
  },
  {
   "cell_type": "code",
   "execution_count": 6,
   "metadata": {},
   "outputs": [
    {
     "data": {
      "text/plain": [
       "100"
      ]
     },
     "execution_count": 6,
     "metadata": {},
     "output_type": "execute_result"
    }
   ],
   "source": [
    "calls.count()"
   ]
  },
  {
   "cell_type": "markdown",
   "metadata": {},
   "source": [
    "It's a bit trickier to get at the width of our data. We're going to use `columns`, which returns a list, and then use `len()`."
   ]
  },
  {
   "cell_type": "code",
   "execution_count": 7,
   "metadata": {},
   "outputs": [
    {
     "data": {
      "text/plain": [
       "6"
      ]
     },
     "execution_count": 7,
     "metadata": {},
     "output_type": "execute_result"
    }
   ],
   "source": [
    "len(calls.columns)"
   ]
  },
  {
   "cell_type": "markdown",
   "metadata": {},
   "source": [
    "### Filtering Down Data"
   ]
  },
  {
   "cell_type": "markdown",
   "metadata": {},
   "source": [
    "We know the columns of our dataset and can pass SQL-like strings to the `filter` method to pare our data down."
   ]
  },
  {
   "cell_type": "code",
   "execution_count": 8,
   "metadata": {},
   "outputs": [
    {
     "data": {
      "text/plain": [
       "DataFrame[CallCharge: bigint, DateTime: string, Dest: string, Origin: string, OriginatingNum: bigint, TerminatingNum: bigint]"
      ]
     },
     "execution_count": 8,
     "metadata": {},
     "output_type": "execute_result"
    }
   ],
   "source": [
    "calls.filter(\"Origin == 'London'\")"
   ]
  },
  {
   "cell_type": "markdown",
   "metadata": {},
   "source": [
    "Notice that this output is identical to what happened when we just called `calls` above. That's because this also returns a `DataFrame` object."
   ]
  },
  {
   "cell_type": "code",
   "execution_count": 9,
   "metadata": {},
   "outputs": [
    {
     "data": {
      "text/plain": [
       "pyspark.sql.dataframe.DataFrame"
      ]
     },
     "execution_count": 9,
     "metadata": {},
     "output_type": "execute_result"
    }
   ],
   "source": [
    "type(calls.filter(\"Origin == 'London'\"))"
   ]
  },
  {
   "cell_type": "markdown",
   "metadata": {},
   "source": [
    "However, with much fewer records."
   ]
  },
  {
   "cell_type": "code",
   "execution_count": 10,
   "metadata": {},
   "outputs": [
    {
     "data": {
      "text/plain": [
       "100"
      ]
     },
     "execution_count": 10,
     "metadata": {},
     "output_type": "execute_result"
    }
   ],
   "source": [
    "calls.count()"
   ]
  },
  {
   "cell_type": "code",
   "execution_count": 11,
   "metadata": {},
   "outputs": [
    {
     "data": {
      "text/plain": [
       "5"
      ]
     },
     "execution_count": 11,
     "metadata": {},
     "output_type": "execute_result"
    }
   ],
   "source": [
    "calls.filter(\"Origin == 'London'\").count()"
   ]
  },
  {
   "cell_type": "markdown",
   "metadata": {},
   "source": [
    "We can also chain together various `filter` calls to continue zeroing in on our intended population."
   ]
  },
  {
   "cell_type": "code",
   "execution_count": 12,
   "metadata": {},
   "outputs": [
    {
     "name": "stdout",
     "output_type": "stream",
     "text": [
      "+----------+-------------------+----------+------+--------------+--------------+\n",
      "|CallCharge|           DateTime|      Dest|Origin|OriginatingNum|TerminatingNum|\n",
      "+----------+-------------------+----------+------+--------------+--------------+\n",
      "|      2940|04/01/2016 01:19:28|Manchester|London|     775584064|     795017614|\n",
      "+----------+-------------------+----------+------+--------------+--------------+\n",
      "\n"
     ]
    }
   ],
   "source": [
    "(calls.filter(\"Origin == 'London'\")\n",
    "      .filter(\"Dest == 'Manchester'\")\n",
    "      .show())"
   ]
  },
  {
   "cell_type": "markdown",
   "metadata": {},
   "source": [
    "### Specify Columns"
   ]
  },
  {
   "cell_type": "markdown",
   "metadata": {},
   "source": [
    "In a wider dataset, we might not want to select every single column of data. We have the option of either *including* what we want with `select` or getting everything and *excluding* with `drop`."
   ]
  },
  {
   "cell_type": "code",
   "execution_count": 13,
   "metadata": {},
   "outputs": [
    {
     "name": "stdout",
     "output_type": "stream",
     "text": [
      "+----------+-------------------+----------+----------+\n",
      "|CallCharge|           DateTime|      Dest|    Origin|\n",
      "+----------+-------------------+----------+----------+\n",
      "|       549|02/11/2016 01:51:41|Birmingham|    London|\n",
      "|      2645|05/02/2016 01:26:54|    London|Manchester|\n",
      "|      1233|01/12/2016 21:12:54|Manchester|  Victoria|\n",
      "|      2651|07/11/2016 01:07:34|  Victoria|Twickenham|\n",
      "|      3162|02/11/2016 22:22:26|  Scotland|     Leeds|\n",
      "+----------+-------------------+----------+----------+\n",
      "only showing top 5 rows\n",
      "\n"
     ]
    }
   ],
   "source": [
    "calls.select('CallCharge', 'DateTime', 'Dest', 'Origin').show(5)"
   ]
  },
  {
   "cell_type": "code",
   "execution_count": 14,
   "metadata": {},
   "outputs": [
    {
     "name": "stdout",
     "output_type": "stream",
     "text": [
      "+----------+-------------------+----------+----------+\n",
      "|CallCharge|           DateTime|      Dest|    Origin|\n",
      "+----------+-------------------+----------+----------+\n",
      "|       549|02/11/2016 01:51:41|Birmingham|    London|\n",
      "|      2645|05/02/2016 01:26:54|    London|Manchester|\n",
      "|      1233|01/12/2016 21:12:54|Manchester|  Victoria|\n",
      "|      2651|07/11/2016 01:07:34|  Victoria|Twickenham|\n",
      "|      3162|02/11/2016 22:22:26|  Scotland|     Leeds|\n",
      "+----------+-------------------+----------+----------+\n",
      "only showing top 5 rows\n",
      "\n"
     ]
    }
   ],
   "source": [
    "calls.drop('OriginatingNum', 'TerminatingNum').show(5)"
   ]
  },
  {
   "cell_type": "markdown",
   "metadata": {},
   "source": [
    "### Column Operations"
   ]
  },
  {
   "cell_type": "markdown",
   "metadata": {},
   "source": [
    "We can do column operations using `withColumn`.\n",
    "\n",
    "If we specify the first argument with a name that doesn't exist, it will append it to the end of the `DataFrame`."
   ]
  },
  {
   "cell_type": "code",
   "execution_count": 15,
   "metadata": {},
   "outputs": [
    {
     "name": "stdout",
     "output_type": "stream",
     "text": [
      "+----------+-------------------+----------+----------+--------------+--------------+---------+\n",
      "|CallCharge|           DateTime|      Dest|    Origin|OriginatingNum|TerminatingNum|FreeCalls|\n",
      "+----------+-------------------+----------+----------+--------------+--------------+---------+\n",
      "|       549|02/11/2016 01:51:41|Birmingham|    London|     797308107|     797131221|        0|\n",
      "|      2645|05/02/2016 01:26:54|    London|Manchester|     777121117|     777440392|        0|\n",
      "|      1233|01/12/2016 21:12:54|Manchester|  Victoria|     797009202|     784243404|        0|\n",
      "|      2651|07/11/2016 01:07:34|  Victoria|Twickenham|     777557705|     798420467|        0|\n",
      "|      3162|02/11/2016 22:22:26|  Scotland|     Leeds|     785434022|     779086250|        0|\n",
      "+----------+-------------------+----------+----------+--------------+--------------+---------+\n",
      "only showing top 5 rows\n",
      "\n"
     ]
    }
   ],
   "source": [
    "calls.withColumn('FreeCalls', calls['CallCharge'] * 0).show(5)"
   ]
  },
  {
   "cell_type": "markdown",
   "metadata": {},
   "source": [
    "And if it does exist, it will overwrite whatever values are there."
   ]
  },
  {
   "cell_type": "code",
   "execution_count": 16,
   "metadata": {},
   "outputs": [
    {
     "name": "stdout",
     "output_type": "stream",
     "text": [
      "+----------+-------------------+----------+----------+--------------+--------------+\n",
      "|CallCharge|           DateTime|      Dest|    Origin|OriginatingNum|TerminatingNum|\n",
      "+----------+-------------------+----------+----------+--------------+--------------+\n",
      "|         0|02/11/2016 01:51:41|Birmingham|    London|     797308107|     797131221|\n",
      "|         0|05/02/2016 01:26:54|    London|Manchester|     777121117|     777440392|\n",
      "|         0|01/12/2016 21:12:54|Manchester|  Victoria|     797009202|     784243404|\n",
      "|         0|07/11/2016 01:07:34|  Victoria|Twickenham|     777557705|     798420467|\n",
      "|         0|02/11/2016 22:22:26|  Scotland|     Leeds|     785434022|     779086250|\n",
      "+----------+-------------------+----------+----------+--------------+--------------+\n",
      "only showing top 5 rows\n",
      "\n"
     ]
    }
   ],
   "source": [
    "calls.withColumn('CallCharge', calls['CallCharge'] * 0).show(5)"
   ]
  },
  {
   "cell_type": "markdown",
   "metadata": {},
   "source": [
    "### Replacing Columns"
   ]
  },
  {
   "cell_type": "markdown",
   "metadata": {},
   "source": [
    "So using a combination of the last two headers, we can develop some logic to overwrite existing columns in both name and the data they contain."
   ]
  },
  {
   "cell_type": "code",
   "execution_count": 17,
   "metadata": {},
   "outputs": [
    {
     "name": "stdout",
     "output_type": "stream",
     "text": [
      "+--------+-------------------+----------+----------+--------------+--------------+\n",
      "|FreeCall|           DateTime|      Dest|    Origin|OriginatingNum|TerminatingNum|\n",
      "+--------+-------------------+----------+----------+--------------+--------------+\n",
      "|       0|02/11/2016 01:51:41|Birmingham|    London|     797308107|     797131221|\n",
      "|       0|05/02/2016 01:26:54|    London|Manchester|     777121117|     777440392|\n",
      "|       0|01/12/2016 21:12:54|Manchester|  Victoria|     797009202|     784243404|\n",
      "|       0|07/11/2016 01:07:34|  Victoria|Twickenham|     777557705|     798420467|\n",
      "|       0|02/11/2016 22:22:26|  Scotland|     Leeds|     785434022|     779086250|\n",
      "+--------+-------------------+----------+----------+--------------+--------------+\n",
      "only showing top 5 rows\n",
      "\n"
     ]
    }
   ],
   "source": [
    "(calls.withColumn('CallCharge', calls['CallCharge'] * 0)\n",
    "      .withColumnRenamed('CallCharge', 'FreeCall')\n",
    "      .show(5))"
   ]
  },
  {
   "cell_type": "code",
   "execution_count": 18,
   "metadata": {},
   "outputs": [
    {
     "name": "stdout",
     "output_type": "stream",
     "text": [
      "+-------------------+----------+----------+--------------+--------------+--------+\n",
      "|           DateTime|      Dest|    Origin|OriginatingNum|TerminatingNum|FreeCall|\n",
      "+-------------------+----------+----------+--------------+--------------+--------+\n",
      "|02/11/2016 01:51:41|Birmingham|    London|     797308107|     797131221|       0|\n",
      "|05/02/2016 01:26:54|    London|Manchester|     777121117|     777440392|       0|\n",
      "|01/12/2016 21:12:54|Manchester|  Victoria|     797009202|     784243404|       0|\n",
      "|07/11/2016 01:07:34|  Victoria|Twickenham|     777557705|     798420467|       0|\n",
      "|02/11/2016 22:22:26|  Scotland|     Leeds|     785434022|     779086250|       0|\n",
      "+-------------------+----------+----------+--------------+--------------+--------+\n",
      "only showing top 5 rows\n",
      "\n"
     ]
    }
   ],
   "source": [
    "(calls.withColumn('FreeCall', calls['CallCharge'] * 0)\n",
    "      .drop('CallCharge').show(5))"
   ]
  },
  {
   "cell_type": "markdown",
   "metadata": {},
   "source": [
    "### Aggregate Functions"
   ]
  },
  {
   "cell_type": "markdown",
   "metadata": {},
   "source": [
    "More on this in its own notebook, but you can also use `agg` and a column/function dictionary to get aggregate information"
   ]
  },
  {
   "cell_type": "code",
   "execution_count": 19,
   "metadata": {},
   "outputs": [
    {
     "name": "stdout",
     "output_type": "stream",
     "text": [
      "+---------------+-------------------+\n",
      "|sum(CallCharge)|      min(DateTime)|\n",
      "+---------------+-------------------+\n",
      "|         187852|01/02/2016 03:07:33|\n",
      "+---------------+-------------------+\n",
      "\n"
     ]
    }
   ],
   "source": [
    "calls.agg({'CallCharge': 'sum',\n",
    "           'DateTime': 'min'}).show()"
   ]
  },
  {
   "cell_type": "markdown",
   "metadata": {},
   "source": [
    "## SQL-fying it"
   ]
  },
  {
   "cell_type": "markdown",
   "metadata": {},
   "source": [
    "Or we could just go, wholesale, back to writing SQL after stuffing our `DataFrame` into a virtual temp table using `createOrReplaceTempView`"
   ]
  },
  {
   "cell_type": "code",
   "execution_count": 20,
   "metadata": {
    "collapsed": true
   },
   "outputs": [],
   "source": [
    "calls.createOrReplaceTempView('calldetails')"
   ]
  },
  {
   "cell_type": "code",
   "execution_count": 21,
   "metadata": {
    "scrolled": false
   },
   "outputs": [
    {
     "name": "stdout",
     "output_type": "stream",
     "text": [
      "+--------------+-------+\n",
      "|          Dest|callCnt|\n",
      "+--------------+-------+\n",
      "|    Birmingham|     10|\n",
      "|     Coventary|      8|\n",
      "|         Wales|      8|\n",
      "|         Ascot|      8|\n",
      "|     Bracknell|      8|\n",
      "|      Scotland|      8|\n",
      "|Virginia Water|      7|\n",
      "|     Yorkshire|      7|\n",
      "|      Bradford|      7|\n",
      "|        Marlow|      4|\n",
      "|         Lords|      4|\n",
      "|          Oval|      4|\n",
      "|   Sunningdale|      4|\n",
      "|      Victoria|      3|\n",
      "|    Manchester|      3|\n",
      "|         Leeds|      3|\n",
      "|        London|      3|\n",
      "|    Twickenham|      1|\n",
      "+--------------+-------+\n",
      "\n"
     ]
    }
   ],
   "source": [
    "spark.sql('''\n",
    "SELECT\n",
    "    Dest,\n",
    "    count(*) AS callCnt\n",
    "    \n",
    "    FROM   calldetails\n",
    "    GROUP BY Dest\n",
    "    ORDER BY callCnt DESC\n",
    "''').show()"
   ]
  }
 ],
 "metadata": {
  "kernelspec": {
   "display_name": "Python 3",
   "language": "python",
   "name": "python3"
  },
  "language_info": {
   "codemirror_mode": {
    "name": "ipython",
    "version": 3
   },
   "file_extension": ".py",
   "mimetype": "text/x-python",
   "name": "python",
   "nbconvert_exporter": "python",
   "pygments_lexer": "ipython3",
   "version": "3.6.3"
  }
 },
 "nbformat": 4,
 "nbformat_minor": 2
}

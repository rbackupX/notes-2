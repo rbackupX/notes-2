{
 "cells": [
  {
   "cell_type": "raw",
   "metadata": {},
   "source": [
    "---\n",
    "title: \"Creating Pair RDDs\"\n",
    "date: 2018-06-04\n",
    "type: technical_note\n",
    "---"
   ]
  },
  {
   "cell_type": "code",
   "execution_count": 1,
   "metadata": {
    "collapsed": true
   },
   "outputs": [],
   "source": [
    "import findspark\n",
    "findspark.init()\n",
    "\n",
    "import pyspark\n",
    "sc = pyspark.SparkContext()"
   ]
  },
  {
   "cell_type": "markdown",
   "metadata": {},
   "source": [
    "You're not always going to get your data with a nice, tidy key/value schema. In fact, figuring out how to go from flat data to something that you can mine for insight usually involves some creativity in expressing your data in pairs."
   ]
  },
  {
   "cell_type": "markdown",
   "metadata": {},
   "source": [
    "## Another Damn Wordcount Example"
   ]
  },
  {
   "cell_type": "markdown",
   "metadata": {},
   "source": [
    "Imagine some wacky hypothetical that I've been listening to a song with the following lyrics on repeat. And I find myself curious what the most popular words of the song are."
   ]
  },
  {
   "cell_type": "code",
   "execution_count": 2,
   "metadata": {},
   "outputs": [
    {
     "name": "stdout",
     "output_type": "stream",
     "text": [
      "Work it Make it Do it Make us Harder Better Faster Stronger More than Hour Our Never Ever After Work is Over Work it Make it Do it Make us Harder Better Faster Stronger Work it harder Make it better Do it faster Makes us stronger More than ever Hour after Our work is Never over Work it harder Make it better Do it faster Makes us stronger Work it harder Make it better Do it faster Makes us stronger Work it harder Make it better Do it faster Makes us stronger Work it harder Make it better Do it faster Makes us stronger Work it harder Make it better Do it faster Makes us stronger Work it harder Make it better Do it faster Makes us stronger Work it harder make it Do it faster makes us More than ever hour Our work is Work it harder make it Do it faster makes us More than ever hour Our work is never over Work it harder Make it better Do it faster Makes us stronger Work it harder make it Do it faster makes us More than ever hour Our work is Work it harder make it Do it faster makes us More than ever hour Our work is never over Work it harder Make it better Do it faster Makes us stronger Work it harder Do it faster More than ever Our work is never over Work it harder Make it better Do it faster Makes us stronger\n"
     ]
    }
   ],
   "source": [
    "with open('..\\data\\hbfs.txt') as f:\n",
    "    print(' '.join([x.strip() for x in f.readlines()]))"
   ]
  },
  {
   "cell_type": "markdown",
   "metadata": {},
   "source": [
    "Supposing I can't just load them into vanilla Python, I opt to load them into PySpark instead, using `flatMap` to ignore linebreaks."
   ]
  },
  {
   "cell_type": "code",
   "execution_count": 3,
   "metadata": {},
   "outputs": [
    {
     "name": "stdout",
     "output_type": "stream",
     "text": [
      "['Work', 'it', 'Make', 'it', 'Do', 'it', 'Make', 'us', 'Harder', 'Better', 'Faster', 'Stronger', 'More', 'than', 'Hour', 'Our', 'Never', 'Ever', 'After', 'Work', 'is', 'Over', 'Work', 'it', 'Make', 'it', 'Do', 'it', 'Make', 'us', 'Harder', 'Better', 'Faster', 'Stronger', 'Work', 'it', 'harder', 'Make', 'it', 'better', 'Do', 'it', 'faster', 'Makes', 'us', 'stronger', 'More', 'than', 'ever', 'Hour', 'after', 'Our', 'work', 'is', 'Never', 'over', 'Work', 'it', 'harder', 'Make', 'it', 'better', 'Do', 'it', 'faster', 'Makes', 'us', 'stronger', 'Work', 'it', 'harder', 'Make', 'it', 'better', 'Do', 'it', 'faster', 'Makes', 'us', 'stronger', 'Work', 'it', 'harder', 'Make', 'it', 'better', 'Do', 'it', 'faster', 'Makes', 'us', 'stronger', 'Work', 'it', 'harder', 'Make', 'it', 'better', 'Do', 'it', 'faster', 'Makes', 'us', 'stronger', 'Work', 'it', 'harder', 'Make', 'it', 'better', 'Do', 'it', 'faster', 'Makes', 'us', 'stronger', 'Work', 'it', 'harder', 'Make', 'it', 'better', 'Do', 'it', 'faster', 'Makes', 'us', 'stronger', 'Work', 'it', 'harder', 'make', 'it', 'Do', 'it', 'faster', 'makes', 'us', 'More', 'than', 'ever', 'hour', 'Our', 'work', 'is', 'Work', 'it', 'harder', 'make', 'it', 'Do', 'it', 'faster', 'makes', 'us', 'More', 'than', 'ever', 'hour', 'Our', 'work', 'is', 'never', 'over', 'Work', 'it', 'harder', 'Make', 'it', 'better', 'Do', 'it', 'faster', 'Makes', 'us', 'stronger', 'Work', 'it', 'harder', 'make', 'it', 'Do', 'it', 'faster', 'makes', 'us', 'More', 'than', 'ever', 'hour', 'Our', 'work', 'is', 'Work', 'it', 'harder', 'make', 'it', 'Do', 'it', 'faster', 'makes', 'us', 'More', 'than', 'ever', 'hour', 'Our', 'work', 'is', 'never', 'over', 'Work', 'it', 'harder', 'Make', 'it', 'better', 'Do', 'it', 'faster', 'Makes', 'us', 'stronger', 'Work', 'it', 'harder', 'Do', 'it', 'faster', 'More', 'than', 'ever', 'Our', 'work', 'is', 'never', 'over', 'Work', 'it', 'harder', 'Make', 'it', 'better', 'Do', 'it', 'faster', 'Makes', 'us', 'stronger']\n"
     ]
    }
   ],
   "source": [
    "hbfs = sc.textFile('../data/hbfs.txt')\n",
    "\n",
    "words = hbfs.flatMap(lambda x: x.split())\n",
    "print(words.collect())"
   ]
  },
  {
   "cell_type": "markdown",
   "metadata": {},
   "source": [
    "### The Trick"
   ]
  },
  {
   "cell_type": "markdown",
   "metadata": {},
   "source": [
    "We want to perform a count-by-key operation, where the keys are each unique word. And what's a count of something, but a sum of `1`'s for each observation? That's precisely what we'll do."
   ]
  },
  {
   "cell_type": "code",
   "execution_count": 4,
   "metadata": {},
   "outputs": [
    {
     "name": "stdout",
     "output_type": "stream",
     "text": [
      "[('Work', 1), ('it', 1), ('Make', 1), ('it', 1), ('Do', 1), ('it', 1), ('Make', 1), ('us', 1), ('Harder', 1), ('Better', 1), ('Faster', 1), ('Stronger', 1), ('More', 1), ('than', 1), ('Hour', 1), ('Our', 1), ('Never', 1), ('Ever', 1), ('After', 1), ('Work', 1), ('is', 1), ('Over', 1), ('Work', 1), ('it', 1), ('Make', 1), ('it', 1), ('Do', 1), ('it', 1), ('Make', 1), ('us', 1), ('Harder', 1), ('Better', 1), ('Faster', 1), ('Stronger', 1), ('Work', 1), ('it', 1), ('harder', 1), ('Make', 1), ('it', 1), ('better', 1), ('Do', 1), ('it', 1), ('faster', 1), ('Makes', 1), ('us', 1), ('stronger', 1), ('More', 1), ('than', 1), ('ever', 1), ('Hour', 1), ('after', 1), ('Our', 1), ('work', 1), ('is', 1), ('Never', 1), ('over', 1), ('Work', 1), ('it', 1), ('harder', 1), ('Make', 1), ('it', 1), ('better', 1), ('Do', 1), ('it', 1), ('faster', 1), ('Makes', 1), ('us', 1), ('stronger', 1), ('Work', 1), ('it', 1), ('harder', 1), ('Make', 1), ('it', 1), ('better', 1), ('Do', 1), ('it', 1), ('faster', 1), ('Makes', 1), ('us', 1), ('stronger', 1), ('Work', 1), ('it', 1), ('harder', 1), ('Make', 1), ('it', 1), ('better', 1), ('Do', 1), ('it', 1), ('faster', 1), ('Makes', 1), ('us', 1), ('stronger', 1), ('Work', 1), ('it', 1), ('harder', 1), ('Make', 1), ('it', 1), ('better', 1), ('Do', 1), ('it', 1), ('faster', 1), ('Makes', 1), ('us', 1), ('stronger', 1), ('Work', 1), ('it', 1), ('harder', 1), ('Make', 1), ('it', 1), ('better', 1), ('Do', 1), ('it', 1), ('faster', 1), ('Makes', 1), ('us', 1), ('stronger', 1), ('Work', 1), ('it', 1), ('harder', 1), ('Make', 1), ('it', 1), ('better', 1), ('Do', 1), ('it', 1), ('faster', 1), ('Makes', 1), ('us', 1), ('stronger', 1), ('Work', 1), ('it', 1), ('harder', 1), ('make', 1), ('it', 1), ('Do', 1), ('it', 1), ('faster', 1), ('makes', 1), ('us', 1), ('More', 1), ('than', 1), ('ever', 1), ('hour', 1), ('Our', 1), ('work', 1), ('is', 1), ('Work', 1), ('it', 1), ('harder', 1), ('make', 1), ('it', 1), ('Do', 1), ('it', 1), ('faster', 1), ('makes', 1), ('us', 1), ('More', 1), ('than', 1), ('ever', 1), ('hour', 1), ('Our', 1), ('work', 1), ('is', 1), ('never', 1), ('over', 1), ('Work', 1), ('it', 1), ('harder', 1), ('Make', 1), ('it', 1), ('better', 1), ('Do', 1), ('it', 1), ('faster', 1), ('Makes', 1), ('us', 1), ('stronger', 1), ('Work', 1), ('it', 1), ('harder', 1), ('make', 1), ('it', 1), ('Do', 1), ('it', 1), ('faster', 1), ('makes', 1), ('us', 1), ('More', 1), ('than', 1), ('ever', 1), ('hour', 1), ('Our', 1), ('work', 1), ('is', 1), ('Work', 1), ('it', 1), ('harder', 1), ('make', 1), ('it', 1), ('Do', 1), ('it', 1), ('faster', 1), ('makes', 1), ('us', 1), ('More', 1), ('than', 1), ('ever', 1), ('hour', 1), ('Our', 1), ('work', 1), ('is', 1), ('never', 1), ('over', 1), ('Work', 1), ('it', 1), ('harder', 1), ('Make', 1), ('it', 1), ('better', 1), ('Do', 1), ('it', 1), ('faster', 1), ('Makes', 1), ('us', 1), ('stronger', 1), ('Work', 1), ('it', 1), ('harder', 1), ('Do', 1), ('it', 1), ('faster', 1), ('More', 1), ('than', 1), ('ever', 1), ('Our', 1), ('work', 1), ('is', 1), ('never', 1), ('over', 1), ('Work', 1), ('it', 1), ('harder', 1), ('Make', 1), ('it', 1), ('better', 1), ('Do', 1), ('it', 1), ('faster', 1), ('Makes', 1), ('us', 1), ('stronger', 1)]\n"
     ]
    }
   ],
   "source": [
    "pairs = words.map(lambda x: (x, 1))\n",
    "print(pairs.collect())"
   ]
  },
  {
   "cell_type": "markdown",
   "metadata": {},
   "source": [
    "But on inspection, it looks like we've got mixed-cases for a few of our words. For instance, faster vs Faster"
   ]
  },
  {
   "cell_type": "code",
   "execution_count": 5,
   "metadata": {},
   "outputs": [
    {
     "name": "stdout",
     "output_type": "stream",
     "text": [
      "[('faster', 1), ('faster', 1), ('faster', 1), ('faster', 1), ('faster', 1), ('faster', 1), ('faster', 1), ('faster', 1), ('faster', 1), ('faster', 1), ('faster', 1), ('faster', 1), ('faster', 1), ('faster', 1), ('faster', 1)]\n"
     ]
    }
   ],
   "source": [
    "print(pairs.filter(lambda x: x[0] == 'faster').collect())"
   ]
  },
  {
   "cell_type": "code",
   "execution_count": 6,
   "metadata": {},
   "outputs": [
    {
     "name": "stdout",
     "output_type": "stream",
     "text": [
      "[('Faster', 1), ('Faster', 1)]\n"
     ]
    }
   ],
   "source": [
    "print(pairs.filter(lambda x: x[0] == 'Faster').collect())"
   ]
  },
  {
   "cell_type": "markdown",
   "metadata": {},
   "source": [
    "So we'll just revise our definition of `x` in the pair to be the lower-case version of each word."
   ]
  },
  {
   "cell_type": "code",
   "execution_count": 7,
   "metadata": {},
   "outputs": [
    {
     "name": "stdout",
     "output_type": "stream",
     "text": [
      "[('work', 1), ('it', 1), ('make', 1), ('it', 1), ('do', 1), ('it', 1), ('make', 1), ('us', 1), ('harder', 1), ('better', 1), ('faster', 1), ('stronger', 1), ('more', 1), ('than', 1), ('hour', 1), ('our', 1), ('never', 1), ('ever', 1), ('after', 1), ('work', 1), ('is', 1), ('over', 1), ('work', 1), ('it', 1), ('make', 1), ('it', 1), ('do', 1), ('it', 1), ('make', 1), ('us', 1), ('harder', 1), ('better', 1), ('faster', 1), ('stronger', 1), ('work', 1), ('it', 1), ('harder', 1), ('make', 1), ('it', 1), ('better', 1), ('do', 1), ('it', 1), ('faster', 1), ('makes', 1), ('us', 1), ('stronger', 1), ('more', 1), ('than', 1), ('ever', 1), ('hour', 1), ('after', 1), ('our', 1), ('work', 1), ('is', 1), ('never', 1), ('over', 1), ('work', 1), ('it', 1), ('harder', 1), ('make', 1), ('it', 1), ('better', 1), ('do', 1), ('it', 1), ('faster', 1), ('makes', 1), ('us', 1), ('stronger', 1), ('work', 1), ('it', 1), ('harder', 1), ('make', 1), ('it', 1), ('better', 1), ('do', 1), ('it', 1), ('faster', 1), ('makes', 1), ('us', 1), ('stronger', 1), ('work', 1), ('it', 1), ('harder', 1), ('make', 1), ('it', 1), ('better', 1), ('do', 1), ('it', 1), ('faster', 1), ('makes', 1), ('us', 1), ('stronger', 1), ('work', 1), ('it', 1), ('harder', 1), ('make', 1), ('it', 1), ('better', 1), ('do', 1), ('it', 1), ('faster', 1), ('makes', 1), ('us', 1), ('stronger', 1), ('work', 1), ('it', 1), ('harder', 1), ('make', 1), ('it', 1), ('better', 1), ('do', 1), ('it', 1), ('faster', 1), ('makes', 1), ('us', 1), ('stronger', 1), ('work', 1), ('it', 1), ('harder', 1), ('make', 1), ('it', 1), ('better', 1), ('do', 1), ('it', 1), ('faster', 1), ('makes', 1), ('us', 1), ('stronger', 1), ('work', 1), ('it', 1), ('harder', 1), ('make', 1), ('it', 1), ('do', 1), ('it', 1), ('faster', 1), ('makes', 1), ('us', 1), ('more', 1), ('than', 1), ('ever', 1), ('hour', 1), ('our', 1), ('work', 1), ('is', 1), ('work', 1), ('it', 1), ('harder', 1), ('make', 1), ('it', 1), ('do', 1), ('it', 1), ('faster', 1), ('makes', 1), ('us', 1), ('more', 1), ('than', 1), ('ever', 1), ('hour', 1), ('our', 1), ('work', 1), ('is', 1), ('never', 1), ('over', 1), ('work', 1), ('it', 1), ('harder', 1), ('make', 1), ('it', 1), ('better', 1), ('do', 1), ('it', 1), ('faster', 1), ('makes', 1), ('us', 1), ('stronger', 1), ('work', 1), ('it', 1), ('harder', 1), ('make', 1), ('it', 1), ('do', 1), ('it', 1), ('faster', 1), ('makes', 1), ('us', 1), ('more', 1), ('than', 1), ('ever', 1), ('hour', 1), ('our', 1), ('work', 1), ('is', 1), ('work', 1), ('it', 1), ('harder', 1), ('make', 1), ('it', 1), ('do', 1), ('it', 1), ('faster', 1), ('makes', 1), ('us', 1), ('more', 1), ('than', 1), ('ever', 1), ('hour', 1), ('our', 1), ('work', 1), ('is', 1), ('never', 1), ('over', 1), ('work', 1), ('it', 1), ('harder', 1), ('make', 1), ('it', 1), ('better', 1), ('do', 1), ('it', 1), ('faster', 1), ('makes', 1), ('us', 1), ('stronger', 1), ('work', 1), ('it', 1), ('harder', 1), ('do', 1), ('it', 1), ('faster', 1), ('more', 1), ('than', 1), ('ever', 1), ('our', 1), ('work', 1), ('is', 1), ('never', 1), ('over', 1), ('work', 1), ('it', 1), ('harder', 1), ('make', 1), ('it', 1), ('better', 1), ('do', 1), ('it', 1), ('faster', 1), ('makes', 1), ('us', 1), ('stronger', 1)]\n"
     ]
    }
   ],
   "source": [
    "pairs = words.map(lambda x: (x.lower(), 1))\n",
    "print(pairs.collect())"
   ]
  },
  {
   "cell_type": "markdown",
   "metadata": {},
   "source": [
    "### Bring it Home"
   ]
  },
  {
   "cell_type": "markdown",
   "metadata": {},
   "source": [
    "Our goal was to count things up by key, so let's `reduceByKey` with a summing operation."
   ]
  },
  {
   "cell_type": "code",
   "execution_count": 8,
   "metadata": {},
   "outputs": [
    {
     "data": {
      "text/plain": [
       "[('work', 24),\n",
       " ('make', 18),\n",
       " ('do', 17),\n",
       " ('us', 16),\n",
       " ('stronger', 12),\n",
       " ('more', 7),\n",
       " ('than', 7),\n",
       " ('never', 5),\n",
       " ('ever', 7),\n",
       " ('after', 2),\n",
       " ('is', 7),\n",
       " ('it', 50),\n",
       " ('harder', 17),\n",
       " ('better', 12),\n",
       " ('faster', 17),\n",
       " ('hour', 6),\n",
       " ('our', 7),\n",
       " ('over', 5),\n",
       " ('makes', 14)]"
      ]
     },
     "execution_count": 8,
     "metadata": {},
     "output_type": "execute_result"
    }
   ],
   "source": [
    "pairs.reduceByKey(lambda x, y: x + y).collect()"
   ]
  },
  {
   "cell_type": "markdown",
   "metadata": {},
   "source": [
    "Ah, but that's in an unhelpful order."
   ]
  },
  {
   "cell_type": "code",
   "execution_count": 9,
   "metadata": {},
   "outputs": [
    {
     "data": {
      "text/plain": [
       "[('it', 50),\n",
       " ('work', 24),\n",
       " ('make', 18),\n",
       " ('do', 17),\n",
       " ('harder', 17),\n",
       " ('faster', 17),\n",
       " ('us', 16),\n",
       " ('makes', 14),\n",
       " ('stronger', 12),\n",
       " ('better', 12),\n",
       " ('more', 7),\n",
       " ('than', 7),\n",
       " ('ever', 7),\n",
       " ('is', 7),\n",
       " ('our', 7),\n",
       " ('hour', 6),\n",
       " ('never', 5),\n",
       " ('over', 5),\n",
       " ('after', 2)]"
      ]
     },
     "execution_count": 9,
     "metadata": {},
     "output_type": "execute_result"
    }
   ],
   "source": [
    "(pairs.reduceByKey(lambda x, y: x + y)\n",
    "      .sortBy(lambda x: x[1], ascending=False)\n",
    "      .collect())"
   ]
  },
  {
   "cell_type": "markdown",
   "metadata": {},
   "source": [
    "Lastly, let's remove some of those filler words by updating our definition for `pairs`"
   ]
  },
  {
   "cell_type": "code",
   "execution_count": 10,
   "metadata": {},
   "outputs": [
    {
     "data": {
      "text/plain": [
       "[('work', 24),\n",
       " ('make', 18),\n",
       " ('harder', 17),\n",
       " ('faster', 17),\n",
       " ('makes', 14),\n",
       " ('stronger', 12),\n",
       " ('better', 12),\n",
       " ('more', 7),\n",
       " ('than', 7),\n",
       " ('ever', 7),\n",
       " ('our', 7),\n",
       " ('hour', 6),\n",
       " ('never', 5),\n",
       " ('over', 5),\n",
       " ('after', 2)]"
      ]
     },
     "execution_count": 10,
     "metadata": {},
     "output_type": "execute_result"
    }
   ],
   "source": [
    "pairs = (words.filter(lambda x: len(x) > 2)\n",
    "              .map(lambda x: (x.lower(), 1)))\n",
    "\n",
    "(pairs.reduceByKey(lambda x, y: x + y)\n",
    "      .sortBy(lambda x: x[1], ascending=False)\n",
    "      .collect())"
   ]
  },
  {
   "cell_type": "markdown",
   "metadata": {},
   "source": [
    "## Now I'm Just Curious"
   ]
  },
  {
   "cell_type": "markdown",
   "metadata": {},
   "source": [
    "The title of the song is *Harder, Better, Faster, Stronger*, but they appear a disproportionate number of times."
   ]
  },
  {
   "cell_type": "code",
   "execution_count": 11,
   "metadata": {},
   "outputs": [
    {
     "name": "stdout",
     "output_type": "stream",
     "text": [
      "['Harder', 'Better', 'Faster', 'Stronger', 'Harder', 'Better', 'Faster', 'Stronger', 'Work it harder', 'Make it better', 'Do it faster', 'Makes us stronger', 'Work it harder', 'Make it better', 'Do it faster', 'Makes us stronger', 'Work it harder', 'Make it better', 'Do it faster', 'Makes us stronger', 'Work it harder', 'Make it better', 'Do it faster', 'Makes us stronger', 'Work it harder', 'Make it better', 'Do it faster', 'Makes us stronger', 'Work it harder', 'Make it better', 'Do it faster', 'Makes us stronger', 'Work it harder', 'Make it better', 'Do it faster', 'Makes us stronger', 'Work it harder make it', 'Do it faster makes us', 'Work it harder make it', 'Do it faster makes us', 'Work it harder', 'Make it better', 'Do it faster', 'Makes us stronger', 'Work it harder make it', 'Do it faster makes us', 'Work it harder make it', 'Do it faster makes us', 'Work it harder', 'Make it better', 'Do it faster', 'Makes us stronger', 'Work it harder', 'Do it faster', 'Work it harder', 'Make it better', 'Do it faster', 'Makes us stronger']\n"
     ]
    }
   ],
   "source": [
    "titular = hbfs.filter(lambda x: ('harder' in x.lower() or\n",
    "                                 'better' in x.lower() or\n",
    "                                 'faster' in x.lower() or\n",
    "                                 'stronger' in x.lower()))\n",
    "print(titular.collect())"
   ]
  },
  {
   "cell_type": "markdown",
   "metadata": {},
   "source": [
    "Well now that we've basically copied the whole damn song, lol..."
   ]
  },
  {
   "cell_type": "code",
   "execution_count": 12,
   "metadata": {},
   "outputs": [
    {
     "data": {
      "text/plain": [
       "[('Harder', 2),\n",
       " ('Better', 2),\n",
       " ('Do it faster', 11),\n",
       " ('Work it harder make it', 4),\n",
       " ('Do it faster makes us', 4),\n",
       " ('Faster', 2),\n",
       " ('Stronger', 2),\n",
       " ('Work it harder', 11),\n",
       " ('Make it better', 10),\n",
       " ('Makes us stronger', 10)]"
      ]
     },
     "execution_count": 12,
     "metadata": {},
     "output_type": "execute_result"
    }
   ],
   "source": [
    "phrases = titular.map(lambda x: (x, 1))\n",
    "phrases.reduceByKey(lambda x, y: x + y).collect()"
   ]
  },
  {
   "cell_type": "markdown",
   "metadata": {},
   "source": [
    "There I go value-counting again. But this time at the phrase level-- not the word.\n",
    "\n",
    "And hey, it looks like the phrases `Work it harder make it` and `Do it faster makes us` are what's causing the imbalance.\n",
    "\n",
    "Neat!"
   ]
  }
 ],
 "metadata": {
  "kernelspec": {
   "display_name": "Python 3",
   "language": "python",
   "name": "python3"
  },
  "language_info": {
   "codemirror_mode": {
    "name": "ipython",
    "version": 3
   },
   "file_extension": ".py",
   "mimetype": "text/x-python",
   "name": "python",
   "nbconvert_exporter": "python",
   "pygments_lexer": "ipython3",
   "version": "3.6.3"
  }
 },
 "nbformat": 4,
 "nbformat_minor": 2
}
